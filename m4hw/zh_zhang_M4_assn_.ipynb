{
  "nbformat": 4,
  "nbformat_minor": 0,
  "metadata": {
    "colab": {
      "name": "zh_zhang_M4_assn_.ipynb",
      "provenance": [],
      "collapsed_sections": []
    },
    "kernelspec": {
      "name": "python3",
      "display_name": "Python 3"
    }
  },
  "cells": [
    {
      "cell_type": "markdown",
      "metadata": {
        "id": "UOtd9Hdnx_J8",
        "colab_type": "text"
      },
      "source": [
        "# DAV 6150 Module 4 Assignment \n"
      ]
    },
    {
      "cell_type": "markdown",
      "metadata": {
        "id": "3I1NTBZlxw7I",
        "colab_type": "text"
      },
      "source": [
        "Zhihong Zhang"
      ]
    },
    {
      "cell_type": "markdown",
      "metadata": {
        "id": "635FKUjL7QMX",
        "colab_type": "text"
      },
      "source": [
        "## Introduction## \n",
        "The module is aiming to develop feature selection or  dimensionality reduction technique to reduce the number of explanatory variables required for the intended model and make an analysis of a automobile data set.  \n",
        "\n",
        "The general method I plan to do is to do a exploratory data analysis to check data set and fixed possible invalid or null values. Also based on the EDA, construct feature selection and Based on the this result, then decided to build linear regression model to test accuracy."
      ]
    },
    {
      "cell_type": "markdown",
      "metadata": {
        "id": "RE-TutFQguYC",
        "colab_type": "text"
      },
      "source": [
        "## Data to be Used ##\n",
        "The initial data set that was used for this research comes from the  UCI repository  https://archive.ics.uci.edu/ml/datasets/Automobile . The data set is a csv format file which can be easily loaded into Python by utilizing the pandas package.  The data set covers 205 observations and 26 attributes and it is used to generate the observable pattern and visualizations. \n"
      ]
    },
    {
      "cell_type": "markdown",
      "metadata": {
        "id": "lChrnb73zC9T",
        "colab_type": "text"
      },
      "source": [
        "## Part 1 Data Acquisition: ##"
      ]
    },
    {
      "cell_type": "code",
      "metadata": {
        "id": "NiqTMtKid5JV",
        "colab_type": "code",
        "outputId": "ac0a77a3-87f9-428b-c362-ba7cc8990d3a",
        "colab": {
          "base_uri": "https://localhost:8080/",
          "height": 204
        }
      },
      "source": [
        "#import library\n",
        "import numpy as np\n",
        "import pandas as pd\n",
        "import seaborn as sns\n",
        "import matplotlib.pyplot as plt\n",
        "\n",
        "\n",
        "# load the LinearRegression() function from sklearn's 'linear_model' sub-library\n",
        "from sklearn.linear_model import LinearRegression\n",
        "#one method to fill missing value\n",
        "from sklearn.impute import SimpleImputer\n",
        "\n",
        "\n",
        "#reads data from the original source, since first row is column name,also add header. \n",
        "auto = pd.read_csv(\"https://raw.githubusercontent.com/steinszzh/DAV6150/master/m4hw/M4_Data.csv\", header= None)\n",
        "\n",
        "# data set check - make sure data was read in as expected\n",
        "auto.head() "
      ],
      "execution_count": 8,
      "outputs": [
        {
          "output_type": "execute_result",
          "data": {
            "text/html": [
              "<div>\n",
              "<style scoped>\n",
              "    .dataframe tbody tr th:only-of-type {\n",
              "        vertical-align: middle;\n",
              "    }\n",
              "\n",
              "    .dataframe tbody tr th {\n",
              "        vertical-align: top;\n",
              "    }\n",
              "\n",
              "    .dataframe thead th {\n",
              "        text-align: right;\n",
              "    }\n",
              "</style>\n",
              "<table border=\"1\" class=\"dataframe\">\n",
              "  <thead>\n",
              "    <tr style=\"text-align: right;\">\n",
              "      <th></th>\n",
              "      <th>0</th>\n",
              "      <th>1</th>\n",
              "      <th>2</th>\n",
              "      <th>3</th>\n",
              "      <th>4</th>\n",
              "      <th>5</th>\n",
              "      <th>6</th>\n",
              "      <th>7</th>\n",
              "      <th>8</th>\n",
              "      <th>9</th>\n",
              "      <th>10</th>\n",
              "      <th>11</th>\n",
              "      <th>12</th>\n",
              "      <th>13</th>\n",
              "      <th>14</th>\n",
              "      <th>15</th>\n",
              "      <th>16</th>\n",
              "      <th>17</th>\n",
              "      <th>18</th>\n",
              "      <th>19</th>\n",
              "      <th>20</th>\n",
              "      <th>21</th>\n",
              "      <th>22</th>\n",
              "      <th>23</th>\n",
              "      <th>24</th>\n",
              "      <th>25</th>\n",
              "    </tr>\n",
              "  </thead>\n",
              "  <tbody>\n",
              "    <tr>\n",
              "      <th>0</th>\n",
              "      <td>3</td>\n",
              "      <td>?</td>\n",
              "      <td>alfa-romero</td>\n",
              "      <td>gas</td>\n",
              "      <td>std</td>\n",
              "      <td>two</td>\n",
              "      <td>convertible</td>\n",
              "      <td>rwd</td>\n",
              "      <td>front</td>\n",
              "      <td>88.6</td>\n",
              "      <td>168.8</td>\n",
              "      <td>64.1</td>\n",
              "      <td>48.8</td>\n",
              "      <td>2548</td>\n",
              "      <td>dohc</td>\n",
              "      <td>four</td>\n",
              "      <td>130</td>\n",
              "      <td>mpfi</td>\n",
              "      <td>3.47</td>\n",
              "      <td>2.68</td>\n",
              "      <td>9.0</td>\n",
              "      <td>111</td>\n",
              "      <td>5000</td>\n",
              "      <td>21</td>\n",
              "      <td>27</td>\n",
              "      <td>13495</td>\n",
              "    </tr>\n",
              "    <tr>\n",
              "      <th>1</th>\n",
              "      <td>3</td>\n",
              "      <td>?</td>\n",
              "      <td>alfa-romero</td>\n",
              "      <td>gas</td>\n",
              "      <td>std</td>\n",
              "      <td>two</td>\n",
              "      <td>convertible</td>\n",
              "      <td>rwd</td>\n",
              "      <td>front</td>\n",
              "      <td>88.6</td>\n",
              "      <td>168.8</td>\n",
              "      <td>64.1</td>\n",
              "      <td>48.8</td>\n",
              "      <td>2548</td>\n",
              "      <td>dohc</td>\n",
              "      <td>four</td>\n",
              "      <td>130</td>\n",
              "      <td>mpfi</td>\n",
              "      <td>3.47</td>\n",
              "      <td>2.68</td>\n",
              "      <td>9.0</td>\n",
              "      <td>111</td>\n",
              "      <td>5000</td>\n",
              "      <td>21</td>\n",
              "      <td>27</td>\n",
              "      <td>16500</td>\n",
              "    </tr>\n",
              "    <tr>\n",
              "      <th>2</th>\n",
              "      <td>1</td>\n",
              "      <td>?</td>\n",
              "      <td>alfa-romero</td>\n",
              "      <td>gas</td>\n",
              "      <td>std</td>\n",
              "      <td>two</td>\n",
              "      <td>hatchback</td>\n",
              "      <td>rwd</td>\n",
              "      <td>front</td>\n",
              "      <td>94.5</td>\n",
              "      <td>171.2</td>\n",
              "      <td>65.5</td>\n",
              "      <td>52.4</td>\n",
              "      <td>2823</td>\n",
              "      <td>ohcv</td>\n",
              "      <td>six</td>\n",
              "      <td>152</td>\n",
              "      <td>mpfi</td>\n",
              "      <td>2.68</td>\n",
              "      <td>3.47</td>\n",
              "      <td>9.0</td>\n",
              "      <td>154</td>\n",
              "      <td>5000</td>\n",
              "      <td>19</td>\n",
              "      <td>26</td>\n",
              "      <td>16500</td>\n",
              "    </tr>\n",
              "    <tr>\n",
              "      <th>3</th>\n",
              "      <td>2</td>\n",
              "      <td>164</td>\n",
              "      <td>audi</td>\n",
              "      <td>gas</td>\n",
              "      <td>std</td>\n",
              "      <td>four</td>\n",
              "      <td>sedan</td>\n",
              "      <td>fwd</td>\n",
              "      <td>front</td>\n",
              "      <td>99.8</td>\n",
              "      <td>176.6</td>\n",
              "      <td>66.2</td>\n",
              "      <td>54.3</td>\n",
              "      <td>2337</td>\n",
              "      <td>ohc</td>\n",
              "      <td>four</td>\n",
              "      <td>109</td>\n",
              "      <td>mpfi</td>\n",
              "      <td>3.19</td>\n",
              "      <td>3.4</td>\n",
              "      <td>10.0</td>\n",
              "      <td>102</td>\n",
              "      <td>5500</td>\n",
              "      <td>24</td>\n",
              "      <td>30</td>\n",
              "      <td>13950</td>\n",
              "    </tr>\n",
              "    <tr>\n",
              "      <th>4</th>\n",
              "      <td>2</td>\n",
              "      <td>164</td>\n",
              "      <td>audi</td>\n",
              "      <td>gas</td>\n",
              "      <td>std</td>\n",
              "      <td>four</td>\n",
              "      <td>sedan</td>\n",
              "      <td>4wd</td>\n",
              "      <td>front</td>\n",
              "      <td>99.4</td>\n",
              "      <td>176.6</td>\n",
              "      <td>66.4</td>\n",
              "      <td>54.3</td>\n",
              "      <td>2824</td>\n",
              "      <td>ohc</td>\n",
              "      <td>five</td>\n",
              "      <td>136</td>\n",
              "      <td>mpfi</td>\n",
              "      <td>3.19</td>\n",
              "      <td>3.4</td>\n",
              "      <td>8.0</td>\n",
              "      <td>115</td>\n",
              "      <td>5500</td>\n",
              "      <td>18</td>\n",
              "      <td>22</td>\n",
              "      <td>17450</td>\n",
              "    </tr>\n",
              "  </tbody>\n",
              "</table>\n",
              "</div>"
            ],
            "text/plain": [
              "   0    1            2    3    4     5   ...    20   21    22  23  24     25\n",
              "0   3    ?  alfa-romero  gas  std   two  ...   9.0  111  5000  21  27  13495\n",
              "1   3    ?  alfa-romero  gas  std   two  ...   9.0  111  5000  21  27  16500\n",
              "2   1    ?  alfa-romero  gas  std   two  ...   9.0  154  5000  19  26  16500\n",
              "3   2  164         audi  gas  std  four  ...  10.0  102  5500  24  30  13950\n",
              "4   2  164         audi  gas  std  four  ...   8.0  115  5500  18  22  17450\n",
              "\n",
              "[5 rows x 26 columns]"
            ]
          },
          "metadata": {
            "tags": []
          },
          "execution_count": 8
        }
      ]
    },
    {
      "cell_type": "markdown",
      "metadata": {
        "id": "ta5WXCks3tJM",
        "colab_type": "text"
      },
      "source": [
        "The first thing to do is to check the null value and if there exist null value, replace or drop missing data. "
      ]
    },
    {
      "cell_type": "code",
      "metadata": {
        "id": "0j27izR0zRYR",
        "colab_type": "code",
        "colab": {
          "base_uri": "https://localhost:8080/",
          "height": 485
        },
        "outputId": "8909cb91-e973-4682-d205-8d41ed38c6a9"
      },
      "source": [
        "# summarize the number of rows with missing values for each column / simple check is using auto.isnull().sum()\n",
        "for i in range(auto.shape[1]):\n",
        "\t# count number of rows with missing values\n",
        "\tn_miss = auto[[i]].isnull().sum()\n",
        "\tperc = n_miss / auto.shape[0] * 100\n",
        "\tprint('> %d, Missing: %d (%.1f%%)' % (i, n_miss, perc))"
      ],
      "execution_count": 9,
      "outputs": [
        {
          "output_type": "stream",
          "text": [
            "> 0, Missing: 0 (0.0%)\n",
            "> 1, Missing: 0 (0.0%)\n",
            "> 2, Missing: 0 (0.0%)\n",
            "> 3, Missing: 0 (0.0%)\n",
            "> 4, Missing: 0 (0.0%)\n",
            "> 5, Missing: 0 (0.0%)\n",
            "> 6, Missing: 0 (0.0%)\n",
            "> 7, Missing: 0 (0.0%)\n",
            "> 8, Missing: 0 (0.0%)\n",
            "> 9, Missing: 0 (0.0%)\n",
            "> 10, Missing: 0 (0.0%)\n",
            "> 11, Missing: 0 (0.0%)\n",
            "> 12, Missing: 0 (0.0%)\n",
            "> 13, Missing: 0 (0.0%)\n",
            "> 14, Missing: 0 (0.0%)\n",
            "> 15, Missing: 0 (0.0%)\n",
            "> 16, Missing: 0 (0.0%)\n",
            "> 17, Missing: 0 (0.0%)\n",
            "> 18, Missing: 0 (0.0%)\n",
            "> 19, Missing: 0 (0.0%)\n",
            "> 20, Missing: 0 (0.0%)\n",
            "> 21, Missing: 0 (0.0%)\n",
            "> 22, Missing: 0 (0.0%)\n",
            "> 23, Missing: 0 (0.0%)\n",
            "> 24, Missing: 0 (0.0%)\n",
            "> 25, Missing: 0 (0.0%)\n"
          ],
          "name": "stdout"
        }
      ]
    },
    {
      "cell_type": "markdown",
      "metadata": {
        "id": "WQQ1rpoDzhq5",
        "colab_type": "text"
      },
      "source": [
        "By running code, there is no null value. And we need to check with UCI repo attributes. "
      ]
    },
    {
      "cell_type": "markdown",
      "metadata": {
        "colab_type": "text",
        "id": "HzKJ5Z7cghy4"
      },
      "source": [
        "### Data preparation: ###"
      ]
    },
    {
      "cell_type": "markdown",
      "metadata": {
        "id": "v_deAd507fAH",
        "colab_type": "text"
      },
      "source": [
        "Based on attributes information from UCI, 26 attributes are showed as follows: \n",
        "\n",
        "1. symboling: -3, -2, -1, 0, 1, 2, 3. \n",
        "2. normalized-losses: continuous from 65 to 256. \n",
        "3. make: \n",
        "alfa-romero, audi, bmw, chevrolet, dodge, honda, \n",
        "isuzu, jaguar, mazda, mercedes-benz, mercury, \n",
        "mitsubishi, nissan, peugot, plymouth, porsche, \n",
        "renault, saab, subaru, toyota, volkswagen, volvo \n",
        "\n",
        "4. fuel-type: diesel, gas. \n",
        "5. aspiration: std, turbo. \n",
        "6. num-of-doors: four, two. \n",
        "7. body-style: hardtop, wagon, sedan, hatchback, convertible. \n",
        "8. drive-wheels: 4wd, fwd, rwd. \n",
        "9. engine-location: front, rear. \n",
        "10. wheel-base: continuous from 86.6 120.9. \n",
        "11. length: continuous from 141.1 to 208.1. \n",
        "12. width: continuous from 60.3 to 72.3. \n",
        "13. height: continuous from 47.8 to 59.8. \n",
        "14. curb-weight: continuous from 1488 to 4066. \n",
        "15. engine-type: dohc, dohcv, l, ohc, ohcf, ohcv, rotor. \n",
        "16. num-of-cylinders: eight, five, four, six, three, twelve, two. \n",
        "17. engine-size: continuous from 61 to 326. \n",
        "18. fuel-system: 1bbl, 2bbl, 4bbl, idi, mfi, mpfi, spdi, spfi. \n",
        "19. bore: continuous from 2.54 to 3.94. \n",
        "20. stroke: continuous from 2.07 to 4.17. \n",
        "21. compression-ratio: continuous from 7 to 23. \n",
        "22. horsepower: continuous from 48 to 288. \n",
        "23. peak-rpm: continuous from 4150 to 6600. \n",
        "24. city-mpg: continuous from 13 to 49. \n",
        "25. highway-mpg: continuous from 16 to 54. \n",
        "26. price: continuous from 5118 to 45400."
      ]
    },
    {
      "cell_type": "markdown",
      "metadata": {
        "id": "BZBQLi22VAMy",
        "colab_type": "text"
      },
      "source": [
        "There are 18 numeric data along with 8 categorical data"
      ]
    },
    {
      "cell_type": "code",
      "metadata": {
        "id": "E_qPiujBtELs",
        "colab_type": "code",
        "outputId": "64c5b6e0-bfe2-4a90-cd67-027e3451d794",
        "colab": {
          "base_uri": "https://localhost:8080/",
          "height": 35
        }
      },
      "source": [
        "# how many observations are contained within the example data set?\n",
        "len(auto)"
      ],
      "execution_count": 13,
      "outputs": [
        {
          "output_type": "execute_result",
          "data": {
            "text/plain": [
              "205"
            ]
          },
          "metadata": {
            "tags": []
          },
          "execution_count": 13
        }
      ]
    },
    {
      "cell_type": "markdown",
      "metadata": {
        "id": "VJAdO5vmPBtx",
        "colab_type": "text"
      },
      "source": [
        "based on these results, there is no null values, but we can easily see there is ? value in the data set, however it is still invalid. We will deal with these invalid data later after renaming the column\n",
        "\n",
        "\n"
      ]
    },
    {
      "cell_type": "code",
      "metadata": {
        "id": "GHcuR4im0ut3",
        "colab_type": "code",
        "colab": {
          "base_uri": "https://localhost:8080/",
          "height": 503
        },
        "outputId": "cf5d76c2-0f44-40f7-e2ee-d103a250a8f1"
      },
      "source": [
        "# check data type\n",
        "auto.dtypes"
      ],
      "execution_count": 3,
      "outputs": [
        {
          "output_type": "execute_result",
          "data": {
            "text/plain": [
              "0       int64\n",
              "1      object\n",
              "2      object\n",
              "3      object\n",
              "4      object\n",
              "5      object\n",
              "6      object\n",
              "7      object\n",
              "8      object\n",
              "9     float64\n",
              "10    float64\n",
              "11    float64\n",
              "12    float64\n",
              "13      int64\n",
              "14     object\n",
              "15     object\n",
              "16      int64\n",
              "17     object\n",
              "18     object\n",
              "19     object\n",
              "20    float64\n",
              "21     object\n",
              "22     object\n",
              "23      int64\n",
              "24      int64\n",
              "25     object\n",
              "dtype: object"
            ]
          },
          "metadata": {
            "tags": []
          },
          "execution_count": 3
        }
      ]
    },
    {
      "cell_type": "markdown",
      "metadata": {
        "id": "v0QHVdjP1A99",
        "colab_type": "text"
      },
      "source": [
        "Also, by checking data type, we also want to make sure these numeric items are showed properly. We need to conver item such as normalized-losses,num-of-doors etc from string to numeric values."
      ]
    },
    {
      "cell_type": "markdown",
      "metadata": {
        "id": "gyL3v3fezH42",
        "colab_type": "text"
      },
      "source": [
        "### Renaming the column based on UCI repostitory "
      ]
    },
    {
      "cell_type": "markdown",
      "metadata": {
        "id": "25U4OqR67vhb",
        "colab_type": "text"
      },
      "source": [
        "Since column has only numbers , and we then need to rename the column to give a meaningful title based on UCI repository. "
      ]
    },
    {
      "cell_type": "code",
      "metadata": {
        "id": "Z4XI9ij-7zEK",
        "colab_type": "code",
        "outputId": "5fff2aff-0d36-45f2-c126-1aa21074392d",
        "colab": {
          "base_uri": "https://localhost:8080/",
          "height": 309
        }
      },
      "source": [
        "# rename the column based on UCI repo\n",
        "auto.columns = ['symboling', 'normalized_losses', 'make', 'fuel-type', 'aspiration', 'num-of-doors', 'body-style', 'drive-wheels', 'engine-location', 'wheel-base', 'length', 'width', 'height', 'curb-weight', 'engine-type', 'num-of-cylinders', 'engine-size', 'fuel-system', 'bore', 'stroke', 'compression-ratio', 'horsepower', 'peak_rpm', 'city-mpg', 'highway-mpg', 'price']\n",
        "\n",
        "auto.head()"
      ],
      "execution_count": 62,
      "outputs": [
        {
          "output_type": "execute_result",
          "data": {
            "text/html": [
              "<div>\n",
              "<style scoped>\n",
              "    .dataframe tbody tr th:only-of-type {\n",
              "        vertical-align: middle;\n",
              "    }\n",
              "\n",
              "    .dataframe tbody tr th {\n",
              "        vertical-align: top;\n",
              "    }\n",
              "\n",
              "    .dataframe thead th {\n",
              "        text-align: right;\n",
              "    }\n",
              "</style>\n",
              "<table border=\"1\" class=\"dataframe\">\n",
              "  <thead>\n",
              "    <tr style=\"text-align: right;\">\n",
              "      <th></th>\n",
              "      <th>symboling</th>\n",
              "      <th>normalized_losses</th>\n",
              "      <th>make</th>\n",
              "      <th>fuel-type</th>\n",
              "      <th>aspiration</th>\n",
              "      <th>num-of-doors</th>\n",
              "      <th>body-style</th>\n",
              "      <th>drive-wheels</th>\n",
              "      <th>engine-location</th>\n",
              "      <th>wheel-base</th>\n",
              "      <th>length</th>\n",
              "      <th>width</th>\n",
              "      <th>height</th>\n",
              "      <th>curb-weight</th>\n",
              "      <th>engine-type</th>\n",
              "      <th>num-of-cylinders</th>\n",
              "      <th>engine-size</th>\n",
              "      <th>fuel-system</th>\n",
              "      <th>bore</th>\n",
              "      <th>stroke</th>\n",
              "      <th>compression-ratio</th>\n",
              "      <th>horsepower</th>\n",
              "      <th>peak_rpm</th>\n",
              "      <th>city-mpg</th>\n",
              "      <th>highway-mpg</th>\n",
              "      <th>price</th>\n",
              "    </tr>\n",
              "  </thead>\n",
              "  <tbody>\n",
              "    <tr>\n",
              "      <th>0</th>\n",
              "      <td>3</td>\n",
              "      <td>122.0</td>\n",
              "      <td>alfa-romero</td>\n",
              "      <td>gas</td>\n",
              "      <td>std</td>\n",
              "      <td>2.0</td>\n",
              "      <td>convertible</td>\n",
              "      <td>rwd</td>\n",
              "      <td>front</td>\n",
              "      <td>88.6</td>\n",
              "      <td>168.8</td>\n",
              "      <td>64.1</td>\n",
              "      <td>48.8</td>\n",
              "      <td>2548</td>\n",
              "      <td>dohc</td>\n",
              "      <td>four</td>\n",
              "      <td>130</td>\n",
              "      <td>mpfi</td>\n",
              "      <td>3.47</td>\n",
              "      <td>2.68</td>\n",
              "      <td>9.0</td>\n",
              "      <td>111.0</td>\n",
              "      <td>5000</td>\n",
              "      <td>21</td>\n",
              "      <td>27</td>\n",
              "      <td>13495.0</td>\n",
              "    </tr>\n",
              "    <tr>\n",
              "      <th>1</th>\n",
              "      <td>3</td>\n",
              "      <td>122.0</td>\n",
              "      <td>alfa-romero</td>\n",
              "      <td>gas</td>\n",
              "      <td>std</td>\n",
              "      <td>2.0</td>\n",
              "      <td>convertible</td>\n",
              "      <td>rwd</td>\n",
              "      <td>front</td>\n",
              "      <td>88.6</td>\n",
              "      <td>168.8</td>\n",
              "      <td>64.1</td>\n",
              "      <td>48.8</td>\n",
              "      <td>2548</td>\n",
              "      <td>dohc</td>\n",
              "      <td>four</td>\n",
              "      <td>130</td>\n",
              "      <td>mpfi</td>\n",
              "      <td>3.47</td>\n",
              "      <td>2.68</td>\n",
              "      <td>9.0</td>\n",
              "      <td>111.0</td>\n",
              "      <td>5000</td>\n",
              "      <td>21</td>\n",
              "      <td>27</td>\n",
              "      <td>16500.0</td>\n",
              "    </tr>\n",
              "    <tr>\n",
              "      <th>2</th>\n",
              "      <td>1</td>\n",
              "      <td>122.0</td>\n",
              "      <td>alfa-romero</td>\n",
              "      <td>gas</td>\n",
              "      <td>std</td>\n",
              "      <td>2.0</td>\n",
              "      <td>hatchback</td>\n",
              "      <td>rwd</td>\n",
              "      <td>front</td>\n",
              "      <td>94.5</td>\n",
              "      <td>171.2</td>\n",
              "      <td>65.5</td>\n",
              "      <td>52.4</td>\n",
              "      <td>2823</td>\n",
              "      <td>ohcv</td>\n",
              "      <td>six</td>\n",
              "      <td>152</td>\n",
              "      <td>mpfi</td>\n",
              "      <td>2.68</td>\n",
              "      <td>3.47</td>\n",
              "      <td>9.0</td>\n",
              "      <td>154.0</td>\n",
              "      <td>5000</td>\n",
              "      <td>19</td>\n",
              "      <td>26</td>\n",
              "      <td>16500.0</td>\n",
              "    </tr>\n",
              "    <tr>\n",
              "      <th>3</th>\n",
              "      <td>2</td>\n",
              "      <td>164.0</td>\n",
              "      <td>audi</td>\n",
              "      <td>gas</td>\n",
              "      <td>std</td>\n",
              "      <td>4.0</td>\n",
              "      <td>sedan</td>\n",
              "      <td>fwd</td>\n",
              "      <td>front</td>\n",
              "      <td>99.8</td>\n",
              "      <td>176.6</td>\n",
              "      <td>66.2</td>\n",
              "      <td>54.3</td>\n",
              "      <td>2337</td>\n",
              "      <td>ohc</td>\n",
              "      <td>four</td>\n",
              "      <td>109</td>\n",
              "      <td>mpfi</td>\n",
              "      <td>3.19</td>\n",
              "      <td>3.40</td>\n",
              "      <td>10.0</td>\n",
              "      <td>102.0</td>\n",
              "      <td>5500</td>\n",
              "      <td>24</td>\n",
              "      <td>30</td>\n",
              "      <td>13950.0</td>\n",
              "    </tr>\n",
              "    <tr>\n",
              "      <th>4</th>\n",
              "      <td>2</td>\n",
              "      <td>164.0</td>\n",
              "      <td>audi</td>\n",
              "      <td>gas</td>\n",
              "      <td>std</td>\n",
              "      <td>4.0</td>\n",
              "      <td>sedan</td>\n",
              "      <td>4wd</td>\n",
              "      <td>front</td>\n",
              "      <td>99.4</td>\n",
              "      <td>176.6</td>\n",
              "      <td>66.4</td>\n",
              "      <td>54.3</td>\n",
              "      <td>2824</td>\n",
              "      <td>ohc</td>\n",
              "      <td>five</td>\n",
              "      <td>136</td>\n",
              "      <td>mpfi</td>\n",
              "      <td>3.19</td>\n",
              "      <td>3.40</td>\n",
              "      <td>8.0</td>\n",
              "      <td>115.0</td>\n",
              "      <td>5500</td>\n",
              "      <td>18</td>\n",
              "      <td>22</td>\n",
              "      <td>17450.0</td>\n",
              "    </tr>\n",
              "  </tbody>\n",
              "</table>\n",
              "</div>"
            ],
            "text/plain": [
              "   symboling  normalized_losses         make  ... city-mpg highway-mpg    price\n",
              "0          3              122.0  alfa-romero  ...       21          27  13495.0\n",
              "1          3              122.0  alfa-romero  ...       21          27  16500.0\n",
              "2          1              122.0  alfa-romero  ...       19          26  16500.0\n",
              "3          2              164.0         audi  ...       24          30  13950.0\n",
              "4          2              164.0         audi  ...       18          22  17450.0\n",
              "\n",
              "[5 rows x 26 columns]"
            ]
          },
          "metadata": {
            "tags": []
          },
          "execution_count": 62
        }
      ]
    },
    {
      "cell_type": "markdown",
      "metadata": {
        "id": "FzWS8p4bmqN2",
        "colab_type": "text"
      },
      "source": [
        "By checking this data set, two obvious problems need to be fixed. \n",
        "-   some string is possible to be converted into number such as (num of door, cylinders) \n",
        "\n",
        "- ? values in the data set. ( it should be transformed into some meaningful values.)"
      ]
    },
    {
      "cell_type": "markdown",
      "metadata": {
        "id": "_CaP-TK4nbac",
        "colab_type": "text"
      },
      "source": [
        "I start with change ? value. Since it will be easier to treat as null value, I firstly convert all ? into null values."
      ]
    },
    {
      "cell_type": "code",
      "metadata": {
        "id": "jwRiYg4cysPn",
        "colab_type": "code",
        "colab": {
          "base_uri": "https://localhost:8080/",
          "height": 503
        },
        "outputId": "7b35db71-f9d2-4eb2-ad70-4e7d1916ccab"
      },
      "source": [
        "auto = auto.replace('?', np.NaN)\n",
        "# check number of nulls to detect number of invalid values.\n",
        "auto.isnull().sum()"
      ],
      "execution_count": 23,
      "outputs": [
        {
          "output_type": "execute_result",
          "data": {
            "text/plain": [
              "symboling             0\n",
              "normalized_losses    41\n",
              "make                  0\n",
              "fuel-type             0\n",
              "aspiration            0\n",
              "num-of-doors          2\n",
              "body-style            0\n",
              "drive-wheels          0\n",
              "engine-location       0\n",
              "wheel-base            0\n",
              "length                0\n",
              "width                 0\n",
              "height                0\n",
              "curb-weight           0\n",
              "engine-type           0\n",
              "num-of-cylinders      0\n",
              "engine-size           0\n",
              "fuel-system           0\n",
              "bore                  4\n",
              "stroke                4\n",
              "compression-ratio     0\n",
              "horsepower            2\n",
              "peak-rpm              2\n",
              "city-mpg              0\n",
              "highway-mpg           0\n",
              "price                 4\n",
              "dtype: int64"
            ]
          },
          "metadata": {
            "tags": []
          },
          "execution_count": 23
        }
      ]
    },
    {
      "cell_type": "markdown",
      "metadata": {
        "id": "zYqm1FXwoifc",
        "colab_type": "text"
      },
      "source": [
        "Now we know that previous invalid data ? only appears in 7 attributes. And they are in the normalized-losses ,num-of-doors  ,bore,stroke,horsepower,peak-rpm , and price. Among these data, only normalized-losses has about 20% invalid data, other attributes has only up to 2% data missing. "
      ]
    },
    {
      "cell_type": "markdown",
      "metadata": {
        "id": "K1EKlN3D4Be8",
        "colab_type": "text"
      },
      "source": [
        "After getting raw data preparation,we can then launch EDA."
      ]
    },
    {
      "cell_type": "markdown",
      "metadata": {
        "colab_type": "text",
        "id": "-fOR2hpxgnLs"
      },
      "source": [
        "## Part 2 Exporatory data analysis (EDA): ##"
      ]
    },
    {
      "cell_type": "markdown",
      "metadata": {
        "id": "sB15iut34JSn",
        "colab_type": "text"
      },
      "source": [
        "Firstly I start with general statistics of data set. "
      ]
    },
    {
      "cell_type": "code",
      "metadata": {
        "id": "YjmdbUisSgPT",
        "colab_type": "code",
        "outputId": "26615efd-4bd5-4e53-ca8c-df6a4e01c6d1",
        "colab": {
          "base_uri": "https://localhost:8080/",
          "height": 297
        }
      },
      "source": [
        "#start with overview of data set\n",
        "auto.describe()"
      ],
      "execution_count": 63,
      "outputs": [
        {
          "output_type": "execute_result",
          "data": {
            "text/html": [
              "<div>\n",
              "<style scoped>\n",
              "    .dataframe tbody tr th:only-of-type {\n",
              "        vertical-align: middle;\n",
              "    }\n",
              "\n",
              "    .dataframe tbody tr th {\n",
              "        vertical-align: top;\n",
              "    }\n",
              "\n",
              "    .dataframe thead th {\n",
              "        text-align: right;\n",
              "    }\n",
              "</style>\n",
              "<table border=\"1\" class=\"dataframe\">\n",
              "  <thead>\n",
              "    <tr style=\"text-align: right;\">\n",
              "      <th></th>\n",
              "      <th>symboling</th>\n",
              "      <th>normalized_losses</th>\n",
              "      <th>num-of-doors</th>\n",
              "      <th>wheel-base</th>\n",
              "      <th>length</th>\n",
              "      <th>width</th>\n",
              "      <th>height</th>\n",
              "      <th>curb-weight</th>\n",
              "      <th>engine-size</th>\n",
              "      <th>bore</th>\n",
              "      <th>stroke</th>\n",
              "      <th>compression-ratio</th>\n",
              "      <th>horsepower</th>\n",
              "      <th>city-mpg</th>\n",
              "      <th>highway-mpg</th>\n",
              "      <th>price</th>\n",
              "    </tr>\n",
              "  </thead>\n",
              "  <tbody>\n",
              "    <tr>\n",
              "      <th>count</th>\n",
              "      <td>205.000000</td>\n",
              "      <td>205.000000</td>\n",
              "      <td>205.000000</td>\n",
              "      <td>205.000000</td>\n",
              "      <td>205.000000</td>\n",
              "      <td>205.000000</td>\n",
              "      <td>205.000000</td>\n",
              "      <td>205.000000</td>\n",
              "      <td>205.000000</td>\n",
              "      <td>205.000000</td>\n",
              "      <td>205.000000</td>\n",
              "      <td>205.000000</td>\n",
              "      <td>205.000000</td>\n",
              "      <td>205.000000</td>\n",
              "      <td>205.000000</td>\n",
              "      <td>205.000000</td>\n",
              "    </tr>\n",
              "    <tr>\n",
              "      <th>mean</th>\n",
              "      <td>0.834146</td>\n",
              "      <td>122.000000</td>\n",
              "      <td>3.131707</td>\n",
              "      <td>98.756585</td>\n",
              "      <td>174.049268</td>\n",
              "      <td>65.907805</td>\n",
              "      <td>53.724878</td>\n",
              "      <td>2555.565854</td>\n",
              "      <td>126.907317</td>\n",
              "      <td>3.329366</td>\n",
              "      <td>3.256098</td>\n",
              "      <td>10.142537</td>\n",
              "      <td>104.165854</td>\n",
              "      <td>25.219512</td>\n",
              "      <td>30.751220</td>\n",
              "      <td>13150.307317</td>\n",
              "    </tr>\n",
              "    <tr>\n",
              "      <th>std</th>\n",
              "      <td>1.245307</td>\n",
              "      <td>31.681008</td>\n",
              "      <td>0.993715</td>\n",
              "      <td>6.021776</td>\n",
              "      <td>12.337289</td>\n",
              "      <td>2.145204</td>\n",
              "      <td>2.443522</td>\n",
              "      <td>520.680204</td>\n",
              "      <td>41.642693</td>\n",
              "      <td>0.270858</td>\n",
              "      <td>0.313634</td>\n",
              "      <td>3.972040</td>\n",
              "      <td>39.529733</td>\n",
              "      <td>6.542142</td>\n",
              "      <td>6.886443</td>\n",
              "      <td>7879.121326</td>\n",
              "    </tr>\n",
              "    <tr>\n",
              "      <th>min</th>\n",
              "      <td>-2.000000</td>\n",
              "      <td>65.000000</td>\n",
              "      <td>2.000000</td>\n",
              "      <td>86.600000</td>\n",
              "      <td>141.100000</td>\n",
              "      <td>60.300000</td>\n",
              "      <td>47.800000</td>\n",
              "      <td>1488.000000</td>\n",
              "      <td>61.000000</td>\n",
              "      <td>2.540000</td>\n",
              "      <td>2.070000</td>\n",
              "      <td>7.000000</td>\n",
              "      <td>48.000000</td>\n",
              "      <td>13.000000</td>\n",
              "      <td>16.000000</td>\n",
              "      <td>5118.000000</td>\n",
              "    </tr>\n",
              "    <tr>\n",
              "      <th>25%</th>\n",
              "      <td>0.000000</td>\n",
              "      <td>101.000000</td>\n",
              "      <td>2.000000</td>\n",
              "      <td>94.500000</td>\n",
              "      <td>166.300000</td>\n",
              "      <td>64.100000</td>\n",
              "      <td>52.000000</td>\n",
              "      <td>2145.000000</td>\n",
              "      <td>97.000000</td>\n",
              "      <td>3.150000</td>\n",
              "      <td>3.110000</td>\n",
              "      <td>8.600000</td>\n",
              "      <td>70.000000</td>\n",
              "      <td>19.000000</td>\n",
              "      <td>25.000000</td>\n",
              "      <td>7788.000000</td>\n",
              "    </tr>\n",
              "    <tr>\n",
              "      <th>50%</th>\n",
              "      <td>1.000000</td>\n",
              "      <td>122.000000</td>\n",
              "      <td>4.000000</td>\n",
              "      <td>97.000000</td>\n",
              "      <td>173.200000</td>\n",
              "      <td>65.500000</td>\n",
              "      <td>54.100000</td>\n",
              "      <td>2414.000000</td>\n",
              "      <td>120.000000</td>\n",
              "      <td>3.310000</td>\n",
              "      <td>3.290000</td>\n",
              "      <td>9.000000</td>\n",
              "      <td>95.000000</td>\n",
              "      <td>24.000000</td>\n",
              "      <td>30.000000</td>\n",
              "      <td>10295.000000</td>\n",
              "    </tr>\n",
              "    <tr>\n",
              "      <th>75%</th>\n",
              "      <td>2.000000</td>\n",
              "      <td>137.000000</td>\n",
              "      <td>4.000000</td>\n",
              "      <td>102.400000</td>\n",
              "      <td>183.100000</td>\n",
              "      <td>66.900000</td>\n",
              "      <td>55.500000</td>\n",
              "      <td>2935.000000</td>\n",
              "      <td>141.000000</td>\n",
              "      <td>3.580000</td>\n",
              "      <td>3.410000</td>\n",
              "      <td>9.400000</td>\n",
              "      <td>116.000000</td>\n",
              "      <td>30.000000</td>\n",
              "      <td>34.000000</td>\n",
              "      <td>16500.000000</td>\n",
              "    </tr>\n",
              "    <tr>\n",
              "      <th>max</th>\n",
              "      <td>3.000000</td>\n",
              "      <td>256.000000</td>\n",
              "      <td>4.000000</td>\n",
              "      <td>120.900000</td>\n",
              "      <td>208.100000</td>\n",
              "      <td>72.300000</td>\n",
              "      <td>59.800000</td>\n",
              "      <td>4066.000000</td>\n",
              "      <td>326.000000</td>\n",
              "      <td>3.940000</td>\n",
              "      <td>4.170000</td>\n",
              "      <td>23.000000</td>\n",
              "      <td>288.000000</td>\n",
              "      <td>49.000000</td>\n",
              "      <td>54.000000</td>\n",
              "      <td>45400.000000</td>\n",
              "    </tr>\n",
              "  </tbody>\n",
              "</table>\n",
              "</div>"
            ],
            "text/plain": [
              "        symboling  normalized_losses  ...  highway-mpg         price\n",
              "count  205.000000         205.000000  ...   205.000000    205.000000\n",
              "mean     0.834146         122.000000  ...    30.751220  13150.307317\n",
              "std      1.245307          31.681008  ...     6.886443   7879.121326\n",
              "min     -2.000000          65.000000  ...    16.000000   5118.000000\n",
              "25%      0.000000         101.000000  ...    25.000000   7788.000000\n",
              "50%      1.000000         122.000000  ...    30.000000  10295.000000\n",
              "75%      2.000000         137.000000  ...    34.000000  16500.000000\n",
              "max      3.000000         256.000000  ...    54.000000  45400.000000\n",
              "\n",
              "[8 rows x 16 columns]"
            ]
          },
          "metadata": {
            "tags": []
          },
          "execution_count": 63
        }
      ]
    },
    {
      "cell_type": "markdown",
      "metadata": {
        "id": "i7h2cyY5i7wH",
        "colab_type": "text"
      },
      "source": [
        "We can tell that only 10 attributes can be used for numerical graphing. Then we need to fill in missing value and get another data. Based on this Statistics data, Both median and mean seems work for this missing data filling. Since attributes except  normalized-losses only have small missing (less than 2%) median or average filling should not make a huge difference. But for the  normalized-losses, mean may be better to use according to Central Limit theory. Therefore I decided to fill all data with mean value. Also, in our scenario, we have some nominal data such as num of doors, cylinders, mode is also one of the option(although it is not commonly used)"
      ]
    },
    {
      "cell_type": "markdown",
      "metadata": {
        "id": "86Eo_sP9vMch",
        "colab_type": "text"
      },
      "source": [
        "Since there is missing value in num-of-doors, price and their data type is object, I need to convert from string firstly before I fill in missing data(otherwise function does not work.)"
      ]
    },
    {
      "cell_type": "code",
      "metadata": {
        "id": "MS2-Hnc-vC6H",
        "colab_type": "code",
        "colab": {
          "base_uri": "https://localhost:8080/",
          "height": 35
        },
        "outputId": "ea09cb46-4842-4d4e-ffe4-67991cf1d7c7"
      },
      "source": [
        "#make number of door from string to numeric \n",
        "auto['num-of-doors'].replace('two', 2, inplace=True)\n",
        "auto['num-of-doors'].replace('four', 4, inplace=True)\n",
        "\n",
        "#check value after\n",
        "auto['num-of-doors'].unique()"
      ],
      "execution_count": 64,
      "outputs": [
        {
          "output_type": "execute_result",
          "data": {
            "text/plain": [
              "array([2., 4.])"
            ]
          },
          "metadata": {
            "tags": []
          },
          "execution_count": 64
        }
      ]
    },
    {
      "cell_type": "code",
      "metadata": {
        "id": "Ow9PshI0yyx8",
        "colab_type": "code",
        "colab": {}
      },
      "source": [
        "#conver normalized-losses into float\n",
        "\n",
        "auto[\"normalized_losses\"] =auto.normalized_losses.astype(float)\n",
        "#price\n",
        "auto[\"price\"] =auto.price.astype(float)"
      ],
      "execution_count": 0,
      "outputs": []
    },
    {
      "cell_type": "code",
      "metadata": {
        "id": "DFHYlF08rLPJ",
        "colab_type": "code",
        "colab": {}
      },
      "source": [
        "#filling missing value with mean\n",
        "auto[\"normalized_losses\"].fillna(auto['normalized_losses'].mean(), inplace=True)\n",
        "\n",
        "#others using median\n",
        "# num of door can also use mode\n",
        "auto['num-of-doors'].fillna(auto['num-of-doors'].median(), inplace=True)\n",
        "\n",
        "auto['bore'].fillna(auto['bore'].median(), inplace=True)\n",
        "auto['stroke'].fillna(auto['stroke'].median(), inplace=True)\n",
        "auto['horsepower'].fillna(auto['horsepower'].median(), inplace=True)\n",
        "auto['peak_rpm'].fillna(auto['peak_rpm'].median(), inplace=True)\n",
        "#replace price\n",
        "auto['price'].fillna(auto['price'].median(), inplace=True)"
      ],
      "execution_count": 0,
      "outputs": []
    },
    {
      "cell_type": "markdown",
      "metadata": {
        "id": "i9n_72kj2e-i",
        "colab_type": "text"
      },
      "source": [
        "After filling, we still need to check whether we have missing value or not"
      ]
    },
    {
      "cell_type": "code",
      "metadata": {
        "id": "LKfV5tA72kp-",
        "colab_type": "code",
        "colab": {
          "base_uri": "https://localhost:8080/",
          "height": 503
        },
        "outputId": "3d2bdc15-8955-4511-f4fc-90e30a3cec1f"
      },
      "source": [
        "auto.isnull().sum()"
      ],
      "execution_count": 67,
      "outputs": [
        {
          "output_type": "execute_result",
          "data": {
            "text/plain": [
              "symboling            0\n",
              "normalized_losses    0\n",
              "make                 0\n",
              "fuel-type            0\n",
              "aspiration           0\n",
              "num-of-doors         0\n",
              "body-style           0\n",
              "drive-wheels         0\n",
              "engine-location      0\n",
              "wheel-base           0\n",
              "length               0\n",
              "width                0\n",
              "height               0\n",
              "curb-weight          0\n",
              "engine-type          0\n",
              "num-of-cylinders     0\n",
              "engine-size          0\n",
              "fuel-system          0\n",
              "bore                 0\n",
              "stroke               0\n",
              "compression-ratio    0\n",
              "horsepower           0\n",
              "peak_rpm             0\n",
              "city-mpg             0\n",
              "highway-mpg          0\n",
              "price                0\n",
              "dtype: int64"
            ]
          },
          "metadata": {
            "tags": []
          },
          "execution_count": 67
        }
      ]
    },
    {
      "cell_type": "markdown",
      "metadata": {
        "id": "dtraYdSu9W8l",
        "colab_type": "text"
      },
      "source": [
        "Note: Although here I used median or mean to fill the missing value, it is still a bit risky to fill normalized_losses attribute for its relatively large percentage of missing data(20%). sklearn's simple imputer can also provide other way to fill this missing data. Due to the limited group member and time of this project, I only use this median, mean method this time. "
      ]
    },
    {
      "cell_type": "code",
      "metadata": {
        "id": "Kktf3vmv6MBM",
        "colab_type": "code",
        "colab": {
          "base_uri": "https://localhost:8080/",
          "height": 611
        },
        "outputId": "c8dc733d-753b-477e-e1dc-ebc445600f08"
      },
      "source": [
        "auto.info()"
      ],
      "execution_count": 68,
      "outputs": [
        {
          "output_type": "stream",
          "text": [
            "<class 'pandas.core.frame.DataFrame'>\n",
            "RangeIndex: 205 entries, 0 to 204\n",
            "Data columns (total 26 columns):\n",
            " #   Column             Non-Null Count  Dtype  \n",
            "---  ------             --------------  -----  \n",
            " 0   symboling          205 non-null    int64  \n",
            " 1   normalized_losses  205 non-null    float64\n",
            " 2   make               205 non-null    object \n",
            " 3   fuel-type          205 non-null    object \n",
            " 4   aspiration         205 non-null    object \n",
            " 5   num-of-doors       205 non-null    float64\n",
            " 6   body-style         205 non-null    object \n",
            " 7   drive-wheels       205 non-null    object \n",
            " 8   engine-location    205 non-null    object \n",
            " 9   wheel-base         205 non-null    float64\n",
            " 10  length             205 non-null    float64\n",
            " 11  width              205 non-null    float64\n",
            " 12  height             205 non-null    float64\n",
            " 13  curb-weight        205 non-null    int64  \n",
            " 14  engine-type        205 non-null    object \n",
            " 15  num-of-cylinders   205 non-null    object \n",
            " 16  engine-size        205 non-null    int64  \n",
            " 17  fuel-system        205 non-null    object \n",
            " 18  bore               205 non-null    float64\n",
            " 19  stroke             205 non-null    float64\n",
            " 20  compression-ratio  205 non-null    float64\n",
            " 21  horsepower         205 non-null    float64\n",
            " 22  peak_rpm           205 non-null    object \n",
            " 23  city-mpg           205 non-null    int64  \n",
            " 24  highway-mpg        205 non-null    int64  \n",
            " 25  price              205 non-null    float64\n",
            "dtypes: float64(11), int64(5), object(10)\n",
            "memory usage: 41.8+ KB\n"
          ],
          "name": "stdout"
        }
      ]
    },
    {
      "cell_type": "markdown",
      "metadata": {
        "id": "rnWhDG64796t",
        "colab_type": "text"
      },
      "source": [
        "And notice even after filling value, some data such as bore, horsepower ,still does not change data type, then I need to convert again\n"
      ]
    },
    {
      "cell_type": "code",
      "metadata": {
        "id": "t8hLi_r48af3",
        "colab_type": "code",
        "colab": {}
      },
      "source": [
        "# convert data\n",
        "#bore\n",
        "auto[\"bore\"] =auto.bore.astype(float)\n",
        "#stroke\n",
        "auto[\"stroke\"] =auto.stroke.astype(float)\n",
        "# peak rpm\n",
        "\n",
        "auto[\"peak_rpm\"] =auto.peak_rpm.astype(float)\n",
        "#horsepower\n",
        "\n",
        "auto[\"horsepower\"] =auto.horsepower.astype(float)"
      ],
      "execution_count": 0,
      "outputs": []
    },
    {
      "cell_type": "code",
      "metadata": {
        "id": "3_U_IVfYSwwM",
        "colab_type": "code",
        "colab": {}
      },
      "source": [
        "#similar for number of cylinders"
      ],
      "execution_count": 0,
      "outputs": []
    },
    {
      "cell_type": "markdown",
      "metadata": {
        "colab_type": "text",
        "id": "OsFVLhYy0C3N"
      },
      "source": [
        "After we filled the missing value, we can get a nice overview of all numeric attributes."
      ]
    },
    {
      "cell_type": "code",
      "metadata": {
        "id": "AEU0RZDM0FVa",
        "colab_type": "code",
        "colab": {
          "base_uri": "https://localhost:8080/",
          "height": 1000
        },
        "outputId": "a535ea1d-8928-4d18-c2ae-a0b412245fd1"
      },
      "source": [
        "#run to have overview of all histogram\n",
        "auto.hist(bins=50, color='b', figsize=(24,15))"
      ],
      "execution_count": 70,
      "outputs": [
        {
          "output_type": "execute_result",
          "data": {
            "text/plain": [
              "array([[<matplotlib.axes._subplots.AxesSubplot object at 0x7fa40527deb8>,\n",
              "        <matplotlib.axes._subplots.AxesSubplot object at 0x7fa405656d68>,\n",
              "        <matplotlib.axes._subplots.AxesSubplot object at 0x7fa404008438>,\n",
              "        <matplotlib.axes._subplots.AxesSubplot object at 0x7fa403fb56a0>],\n",
              "       [<matplotlib.axes._subplots.AxesSubplot object at 0x7fa403fe5908>,\n",
              "        <matplotlib.axes._subplots.AxesSubplot object at 0x7fa403f95b70>,\n",
              "        <matplotlib.axes._subplots.AxesSubplot object at 0x7fa403f47dd8>,\n",
              "        <matplotlib.axes._subplots.AxesSubplot object at 0x7fa403f06048>],\n",
              "       [<matplotlib.axes._subplots.AxesSubplot object at 0x7fa403f060b8>,\n",
              "        <matplotlib.axes._subplots.AxesSubplot object at 0x7fa403ee6550>,\n",
              "        <matplotlib.axes._subplots.AxesSubplot object at 0x7fa403e90eb8>,\n",
              "        <matplotlib.axes._subplots.AxesSubplot object at 0x7fa403e4e278>],\n",
              "       [<matplotlib.axes._subplots.AxesSubplot object at 0x7fa403e025f8>,\n",
              "        <matplotlib.axes._subplots.AxesSubplot object at 0x7fa403db3978>,\n",
              "        <matplotlib.axes._subplots.AxesSubplot object at 0x7fa403de5cf8>,\n",
              "        <matplotlib.axes._subplots.AxesSubplot object at 0x7fa403da30b8>],\n",
              "       [<matplotlib.axes._subplots.AxesSubplot object at 0x7fa403d55438>,\n",
              "        <matplotlib.axes._subplots.AxesSubplot object at 0x7fa403d067b8>,\n",
              "        <matplotlib.axes._subplots.AxesSubplot object at 0x7fa403cb7b38>,\n",
              "        <matplotlib.axes._subplots.AxesSubplot object at 0x7fa403cebeb8>]],\n",
              "      dtype=object)"
            ]
          },
          "metadata": {
            "tags": []
          },
          "execution_count": 70
        },
        {
          "output_type": "display_data",
          "data": {
            "image/png": "[encoded data removed]",
            "text/plain": [
              "<Figure size 1728x1080 with 20 Axes>"
            ]
          },
          "metadata": {
            "tags": [],
            "needs_background": "light"
          }
        }
      ]
    },
    {
      "cell_type": "markdown",
      "metadata": {
        "id": "4IebOIBf3N7K",
        "colab_type": "text"
      },
      "source": [
        "Now we can have a broad picture of these attributes, and most of them are either normal or a bit skewed except num of doors attribute(since it is almost a binary case)"
      ]
    },
    {
      "cell_type": "markdown",
      "metadata": {
        "id": "5kQiylADF89M",
        "colab_type": "text"
      },
      "source": [
        "Among these attributes, we can check our response variablle city-mpg first"
      ]
    },
    {
      "cell_type": "code",
      "metadata": {
        "id": "7WIqW057rt2b",
        "colab_type": "code",
        "outputId": "dfb5150c-ffa3-445a-a97f-bd97a8c6f2f3",
        "colab": {
          "base_uri": "https://localhost:8080/",
          "height": 625
        }
      },
      "source": [
        "\n",
        "# make boxplot  \n",
        "# define some attributes\n",
        "\n",
        "auto_cm = auto['city-mpg']\n",
        "\n",
        "# define a new figure for plotting\n",
        "plt.figure(figsize=(10,10))\n",
        "\n",
        "# define the plot that will appear on the lefthand side of the subplot:\n",
        "\n",
        "# Matplotlib boxplot  \n",
        "plt.boxplot(x=auto_cm)\n",
        "\n",
        "# give the plot a title\n",
        "plt.title('city mile  Boxplot ')\n",
        "\n"
      ],
      "execution_count": 55,
      "outputs": [
        {
          "output_type": "execute_result",
          "data": {
            "text/plain": [
              "Text(0.5, 1.0, 'Electricity Energy Output  Boxplot ')"
            ]
          },
          "metadata": {
            "tags": []
          },
          "execution_count": 55
        },
        {
          "output_type": "display_data",
          "data": {
            "image/png": "[encoded data removed]",
            "text/plain": [
              "<Figure size 720x720 with 1 Axes>"
            ]
          },
          "metadata": {
            "tags": [],
            "needs_background": "light"
          }
        }
      ]
    },
    {
      "cell_type": "markdown",
      "metadata": {
        "id": "3wUjsmLZUQUM",
        "colab_type": "text"
      },
      "source": [
        " Correlation Matrix plots or heat maps is used to see their coorelation values among variables. But in this data set, these four scatterplot is clear enough for showing correlations. I decided not to use other methods. And I want to focus on both clear indicators (Temperature and Exhaust Vacuum.)"
      ]
    },
    {
      "cell_type": "markdown",
      "metadata": {
        "id": "7QK-ZWLS33pP",
        "colab_type": "text"
      },
      "source": [
        "Based on this heat map, there are some insights:\n",
        "- num of doors has some relatively strong negative coorelation with symboling\n",
        "- wheel base has stronger coorelation among length,width and curb weight.\n",
        "-engine size has stronger coorelation among length,width and curb weight as well.\n",
        "- city mpg has stronger negative coorelation with length,width, curb weight ,engine size and price. But it has strongest positive coorelation with highway mpg.\n",
        "-high way mpg shared similar situation. \n"
      ]
    },
    {
      "cell_type": "markdown",
      "metadata": {
        "id": "swhwXc_D5GLH",
        "colab_type": "text"
      },
      "source": [
        "In this map, there are multiple coorelations are closely related to car 's size. Even engine size coorelated to the length, And it actually make sense that since a bigger vehicle requires more power to boost and it may be more expansive( SUV vs small car)  . I can see city mpg shows a collinearity with highway mpg. These two attributes are almost identical "
      ]
    },
    {
      "cell_type": "markdown",
      "metadata": {
        "id": "e2VvVUNM4f0F",
        "colab_type": "text"
      },
      "source": [
        "###apply Scatterplot  ###"
      ]
    },
    {
      "cell_type": "markdown",
      "metadata": {
        "id": "fYbRn5aICGEM",
        "colab_type": "text"
      },
      "source": [
        "My domain knowlege told me some realtionship such as horsepower,engine size can be used to predict mpg. I can use scatterplot to check it. "
      ]
    },
    {
      "cell_type": "code",
      "metadata": {
        "id": "mWYK27mjAjg1",
        "colab_type": "code",
        "colab": {
          "base_uri": "https://localhost:8080/",
          "height": 279
        },
        "outputId": "2a4102de-9a25-4b3e-eda2-ddb92fed14d7"
      },
      "source": [
        "#print scatterplot for 'horsepower' vs 'city-mpg'\n",
        "scatter_plot = auto.plot.scatter('horsepower','city-mpg',color = 'b', s=1, marker = \"x\")"
      ],
      "execution_count": 47,
      "outputs": [
        {
          "output_type": "display_data",
          "data": {
            "image/png": "[encoded data removed]",
            "text/plain": [
              "<Figure size 432x288 with 1 Axes>"
            ]
          },
          "metadata": {
            "tags": [],
            "needs_background": "light"
          }
        }
      ]
    },
    {
      "cell_type": "markdown",
      "metadata": {
        "id": "y1ym9UVWCctf",
        "colab_type": "text"
      },
      "source": [
        "It is a very strong coorelation."
      ]
    },
    {
      "cell_type": "code",
      "metadata": {
        "id": "iFN2mVsFDELt",
        "colab_type": "code",
        "colab": {
          "base_uri": "https://localhost:8080/",
          "height": 279
        },
        "outputId": "9ba21597-c439-4a79-b1be-ebc2a301dd75"
      },
      "source": [
        "#print scatterplot for 'engine-size' vs 'city-mpg'\n",
        "scatter_plot = auto.plot.scatter('engine-size','city-mpg',color = 'g', s=1, marker = \"x\")"
      ],
      "execution_count": 50,
      "outputs": [
        {
          "output_type": "display_data",
          "data": {
            "image/png": "[encoded data removed]",
            "text/plain": [
              "<Figure size 432x288 with 1 Axes>"
            ]
          },
          "metadata": {
            "tags": [],
            "needs_background": "light"
          }
        }
      ]
    },
    {
      "cell_type": "markdown",
      "metadata": {
        "id": "vI7Ext4_DgIz",
        "colab_type": "text"
      },
      "source": [
        "It is also a clear negative coorelation"
      ]
    },
    {
      "cell_type": "code",
      "metadata": {
        "id": "q2vOooLtIznV",
        "colab_type": "code",
        "colab": {
          "base_uri": "https://localhost:8080/",
          "height": 279
        },
        "outputId": "581ed233-822f-49e4-e79e-dfe4d8512617"
      },
      "source": [
        "#print scatterplot for ''curb-weight' vs 'city-mpg'\n",
        "scatter_plot = auto.plot.scatter('curb-weight','city-mpg',color = 'k', s=1, marker = \"x\")"
      ],
      "execution_count": 56,
      "outputs": [
        {
          "output_type": "display_data",
          "data": {
            "image/png": "[encoded data removed]",
            "text/plain": [
              "<Figure size 432x288 with 1 Axes>"
            ]
          },
          "metadata": {
            "tags": [],
            "needs_background": "light"
          }
        }
      ]
    },
    {
      "cell_type": "markdown",
      "metadata": {
        "id": "J_NJ4MvbI8-D",
        "colab_type": "text"
      },
      "source": [
        "These three attributes are very similar , and I would like to use them as the explantary variable."
      ]
    },
    {
      "cell_type": "markdown",
      "metadata": {
        "id": "DyiOqUKgsHG9",
        "colab_type": "text"
      },
      "source": [
        "## Part 3 Feature Selection / Dimensionality Reduction  : ##\n",
        "Based on this exploratory data analysis, then I would like to exclude some of the attributes.\n",
        "highway mpg is the attribute I want to exclude, it is definitely collinear with city mpg and it is almost identical to our desired response variable.\n",
        "\n",
        "Based on EDA and my domain knowlege, horsepower is a very good indicator for the response variable, along with 'engine-size'.\n"
      ]
    },
    {
      "cell_type": "markdown",
      "metadata": {
        "id": "D37OvviF-nGq",
        "colab_type": "text"
      },
      "source": [
        "So I will use forward selection and start with horsepower and engine-size "
      ]
    },
    {
      "cell_type": "markdown",
      "metadata": {
        "id": "_8J8fl-wMsqS",
        "colab_type": "text"
      },
      "source": [
        "Then I start with Feature Selection"
      ]
    },
    {
      "cell_type": "markdown",
      "metadata": {
        "id": "yE62a_imKbTF",
        "colab_type": "text"
      },
      "source": [
        "### Model 1: Based on my insights "
      ]
    },
    {
      "cell_type": "code",
      "metadata": {
        "id": "RuPZ2rJFJowU",
        "colab_type": "code",
        "colab": {}
      },
      "source": [
        ""
      ],
      "execution_count": 0,
      "outputs": []
    },
    {
      "cell_type": "markdown",
      "metadata": {
        "id": "9vrh96O_P3Lt",
        "colab_type": "text"
      },
      "source": [
        "### Model 2 VIF:\n",
        "For the vif"
      ]
    },
    {
      "cell_type": "markdown",
      "metadata": {
        "id": "QkKOgTjbJpxr",
        "colab_type": "text"
      },
      "source": [
        "#### For the dimension reduction, PCA will be used"
      ]
    },
    {
      "cell_type": "markdown",
      "metadata": {
        "id": "bTcZZHeSwimg",
        "colab_type": "text"
      },
      "source": [
        "## Part 4  Regression Model Evaluation : ##\n",
        "I built the model for testing.\n",
        "Firstly I would like to see how normal indicator perform like, and then I built model based on  \n"
      ]
    },
    {
      "cell_type": "code",
      "metadata": {
        "id": "F7Vnlk7tnGIf",
        "colab_type": "code",
        "colab": {}
      },
      "source": [
        "# set up some library and basic model\n",
        "# load the train_test_split function from the sklearn.model_selection module\n",
        "from sklearn.model_selection import train_test_split\n",
        "\n",
        "\n",
        "#set explanatory variable to X  \n",
        "X = auto[['Temperature','Ambient_Pressure','Relative_Humidity','Exhaust_Vacuum']]\n",
        "# give  variable to y\n",
        "y = plant['Energy_output']\n",
        "# Now split the data into training and testing subsets. \n",
        "# We'll set aside 20% of the data for testing purposes;\n",
        "X_train, X_test, y_train, y_test = train_test_split(X, y, test_size=0.2, random_state=22)"
      ],
      "execution_count": 0,
      "outputs": []
    },
    {
      "cell_type": "markdown",
      "metadata": {
        "id": "zM36NdplptIT",
        "colab_type": "text"
      },
      "source": [
        "Then check the setup"
      ]
    },
    {
      "cell_type": "code",
      "metadata": {
        "id": "JscZlzxVpsIe",
        "colab_type": "code",
        "outputId": "f44a078d-afb2-4622-d9df-c5baf29c4613",
        "colab": {
          "base_uri": "https://localhost:8080/",
          "height": 197
        }
      },
      "source": [
        "# show first five rows of X_train\n",
        "X_train.head()"
      ],
      "execution_count": 0,
      "outputs": [
        {
          "output_type": "execute_result",
          "data": {
            "text/html": [
              "<div>\n",
              "<style scoped>\n",
              "    .dataframe tbody tr th:only-of-type {\n",
              "        vertical-align: middle;\n",
              "    }\n",
              "\n",
              "    .dataframe tbody tr th {\n",
              "        vertical-align: top;\n",
              "    }\n",
              "\n",
              "    .dataframe thead th {\n",
              "        text-align: right;\n",
              "    }\n",
              "</style>\n",
              "<table border=\"1\" class=\"dataframe\">\n",
              "  <thead>\n",
              "    <tr style=\"text-align: right;\">\n",
              "      <th></th>\n",
              "      <th>Temperature</th>\n",
              "      <th>Ambient_Pressure</th>\n",
              "      <th>Relative_Humidity</th>\n",
              "      <th>Exhaust_Vacuum</th>\n",
              "    </tr>\n",
              "  </thead>\n",
              "  <tbody>\n",
              "    <tr>\n",
              "      <th>2711</th>\n",
              "      <td>31.11</td>\n",
              "      <td>1002.37</td>\n",
              "      <td>41.56</td>\n",
              "      <td>69.05</td>\n",
              "    </tr>\n",
              "    <tr>\n",
              "      <th>5538</th>\n",
              "      <td>9.27</td>\n",
              "      <td>1010.79</td>\n",
              "      <td>79.56</td>\n",
              "      <td>39.64</td>\n",
              "    </tr>\n",
              "    <tr>\n",
              "      <th>508</th>\n",
              "      <td>17.35</td>\n",
              "      <td>1014.62</td>\n",
              "      <td>74.16</td>\n",
              "      <td>42.86</td>\n",
              "    </tr>\n",
              "    <tr>\n",
              "      <th>3512</th>\n",
              "      <td>22.94</td>\n",
              "      <td>1008.25</td>\n",
              "      <td>73.45</td>\n",
              "      <td>61.50</td>\n",
              "    </tr>\n",
              "    <tr>\n",
              "      <th>7585</th>\n",
              "      <td>25.14</td>\n",
              "      <td>1017.91</td>\n",
              "      <td>53.30</td>\n",
              "      <td>60.29</td>\n",
              "    </tr>\n",
              "  </tbody>\n",
              "</table>\n",
              "</div>"
            ],
            "text/plain": [
              "      Temperature  Ambient_Pressure  Relative_Humidity  Exhaust_Vacuum\n",
              "2711        31.11           1002.37              41.56           69.05\n",
              "5538         9.27           1010.79              79.56           39.64\n",
              "508         17.35           1014.62              74.16           42.86\n",
              "3512        22.94           1008.25              73.45           61.50\n",
              "7585        25.14           1017.91              53.30           60.29"
            ]
          },
          "metadata": {
            "tags": []
          },
          "execution_count": 126
        }
      ]
    },
    {
      "cell_type": "markdown",
      "metadata": {
        "colab_type": "text",
        "id": "XEkxExmKiWm5"
      },
      "source": [
        "## Model 1: "
      ]
    },
    {
      "cell_type": "code",
      "metadata": {
        "id": "cXm5JvTqk1gM",
        "colab_type": "code",
        "colab": {}
      },
      "source": [
        "# create a new dataframe containing only the 'Ambient_Pressure and Relative_Humidity variables (our explanatory variables for the linear\n",
        "# regression model)\n",
        "newX_train = X_train[[ ].copy()\n",
        "\n"
      ],
      "execution_count": 0,
      "outputs": []
    },
    {
      "cell_type": "code",
      "metadata": {
        "id": "zOR7q2kvs1_J",
        "colab_type": "code",
        "outputId": "da475121-cafb-4e76-d706-56003944083e",
        "colab": {
          "base_uri": "https://localhost:8080/",
          "height": 70
        }
      },
      "source": [
        "\n",
        "# Define a linear regression model\n",
        "model = LinearRegression()\n",
        "\n",
        "# fit the model using 5-fold cross validation\n",
        "scores = cross_val_score(model, newX_train, y_train, cv=5)\n",
        "\n",
        "# print out the accuracy \n",
        "print (scores)\n",
        "\n",
        "# use np.mean to get the average scores\n",
        "print(\"average socre for model1:\",np.mean(scores))\n",
        "print()"
      ],
      "execution_count": 0,
      "outputs": [
        {
          "output_type": "stream",
          "text": [
            "[0.38924932 0.40253871 0.34882946 0.38072653 0.38844573]\n",
            "average socre for model1: 0.3819579488434063\n",
            "\n"
          ],
          "name": "stdout"
        }
      ]
    },
    {
      "cell_type": "markdown",
      "metadata": {
        "id": "ooau6V7qsYC0",
        "colab_type": "text"
      },
      "source": [
        "Normally, we can call this 91.6% accuracy good enough. \n",
        "Finally, we build a complete model"
      ]
    },
    {
      "cell_type": "markdown",
      "metadata": {
        "colab_type": "text",
        "id": "QqBAJuC-szdx"
      },
      "source": [
        "## Model 3: complete Model "
      ]
    },
    {
      "cell_type": "code",
      "metadata": {
        "id": "2Ej53aF2uaxl",
        "colab_type": "code",
        "outputId": "16fd0e44-3cc7-434f-8e98-0a859ccdc392",
        "colab": {
          "base_uri": "https://localhost:8080/",
          "height": 52
        }
      },
      "source": [
        "# Define a linear regression model\n",
        "model = LinearRegression()\n",
        "# create new datafram X3 for complete model\n",
        "X3 = X_train[['Temperature', 'Exhaust_Vacuum','Ambient_Pressure','Relative_Humidity']]\n",
        "# fit the model using 5-fold cross validation \n",
        "scores = cross_val_score(model, X3, y_train, cv=5)\n",
        "\n",
        "print(scores)\n",
        "# use np.mean to get the average scores\n",
        "print(\"average socre for model3:\",np.mean(scores))\n"
      ],
      "execution_count": 0,
      "outputs": [
        {
          "output_type": "stream",
          "text": [
            "[0.92661916 0.93221968 0.93594576 0.92275381 0.92720045]\n",
            "average socre for model3: 0.9289477726652141\n"
          ],
          "name": "stdout"
        }
      ]
    },
    {
      "cell_type": "markdown",
      "metadata": {
        "colab_type": "text",
        "id": "vDyLa_VcupDu"
      },
      "source": [
        "Then we try 10 fold"
      ]
    },
    {
      "cell_type": "code",
      "metadata": {
        "id": "F2X6kR7suqPi",
        "colab_type": "code",
        "outputId": "77fe9aa7-141a-4cdf-b172-dcb5a4c0b36a",
        "colab": {
          "base_uri": "https://localhost:8080/",
          "height": 70
        }
      },
      "source": [
        "# 10 fold\n",
        "scores = cross_val_score(model, X3, y_train, cv=10)\n",
        "#print accauracy for k fold validation\n",
        "print(scores)\n",
        "# use np.mean to get the average scores\n",
        "print(\"average socre for model3:\",np.mean(scores))\n"
      ],
      "execution_count": 0,
      "outputs": [
        {
          "output_type": "stream",
          "text": [
            "[0.92615809 0.92712542 0.92845487 0.93581368 0.9381034  0.93404428\n",
            " 0.9223903  0.92310602 0.92662276 0.92767234]\n",
            "average socre for model3: 0.9289491154310477\n"
          ],
          "name": "stdout"
        }
      ]
    },
    {
      "cell_type": "markdown",
      "metadata": {
        "id": "dN4ja5EUu1fV",
        "colab_type": "text"
      },
      "source": [
        "Based on that, we can see a bit improvement from model 2 to model 3. The accuracy increased from around 91% to 92.9%"
      ]
    },
    {
      "cell_type": "markdown",
      "metadata": {
        "colab_type": "text",
        "id": "E_Xxp--lsa-l"
      },
      "source": [
        "## Part 5 Conclusion: ##\n",
        "\n",
        "Based on this analysis and the regression model, I can say that "
      ]
    },
    {
      "cell_type": "markdown",
      "metadata": {
        "id": "EU6IoS7kEQ-a",
        "colab_type": "text"
      },
      "source": [
        ""
      ]
    },
    {
      "cell_type": "markdown",
      "metadata": {
        "id": "u7HggYBrPjAq",
        "colab_type": "text"
      },
      "source": [
        "## Reference\n",
        "\n",
        "1. https://www.kdnuggets.com/2018/06/step-forward-feature-selection-python.html Forward Selection\n"
      ]
    }
  ]
}