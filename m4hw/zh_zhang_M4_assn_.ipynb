{
  "nbformat": 4,
  "nbformat_minor": 0,
  "metadata": {
    "colab": {
      "name": "zh_zhang_M4_assn_.ipynb",
      "provenance": [],
      "collapsed_sections": []
    },
    "kernelspec": {
      "name": "python3",
      "display_name": "Python 3"
    }
  },
  "cells": [
    {
      "cell_type": "markdown",
      "metadata": {
        "id": "UOtd9Hdnx_J8",
        "colab_type": "text"
      },
      "source": [
        "# DAV 6150 Module 4 Assignment \n"
      ]
    },
    {
      "cell_type": "markdown",
      "metadata": {
        "id": "3I1NTBZlxw7I",
        "colab_type": "text"
      },
      "source": [
        "Zhihong Zhang"
      ]
    },
    {
      "cell_type": "markdown",
      "metadata": {
        "id": "635FKUjL7QMX",
        "colab_type": "text"
      },
      "source": [
        "## Introduction## \n",
        "The module is aiming to develop feature selection or  dimensionality reduction technique to reduce the number of explanatory variables required for the intended model and make an analysis of a automobile data set.  \n",
        "\n",
        "The general method I plan to do is to do a exploratory data analysis to check data set and fixed possible invalid or null values. Also based on the EDA, construct feature selection and Based on the this result, then decided to build linear regression model to test accuracy."
      ]
    },
    {
      "cell_type": "markdown",
      "metadata": {
        "id": "RE-TutFQguYC",
        "colab_type": "text"
      },
      "source": [
        "## Data to be Used ##\n",
        "The initial data set that was used for this research comes from the  UCI repository  https://archive.ics.uci.edu/ml/datasets/Automobile . The data set is a csv format file which can be easily loaded into Python by utilizing the pandas package.  The data set covers 205 observations and 26 attributes and it is used to generate the observable pattern and visualizations. \n"
      ]
    },
    {
      "cell_type": "markdown",
      "metadata": {
        "id": "lChrnb73zC9T",
        "colab_type": "text"
      },
      "source": [
        "## Part 1 Data Acquisition: ##"
      ]
    },
    {
      "cell_type": "code",
      "metadata": {
        "id": "NiqTMtKid5JV",
        "colab_type": "code",
        "outputId": "0961f6ec-b552-4149-9be2-5b8ba5371f3b",
        "colab": {
          "base_uri": "https://localhost:8080/",
          "height": 204
        }
      },
      "source": [
        "#import library\n",
        "import numpy as np\n",
        "import pandas as pd\n",
        "import seaborn as sns\n",
        "import matplotlib.pyplot as plt\n",
        "\n",
        "\n",
        "# load the LinearRegression() function from sklearn's 'linear_model' sub-library\n",
        "from sklearn.linear_model import LinearRegression\n",
        "#one method to fill missing value\n",
        "from sklearn.impute import SimpleImputer\n",
        "\n",
        "# load the cross_val_score function from the sklearn.model_selection module\n",
        "from sklearn.model_selection import cross_val_score\n",
        "\n",
        "#reads data from the original source, since first row is column name,also add header. \n",
        "auto = pd.read_csv(\"https://raw.githubusercontent.com/steinszzh/DAV6150/master/m4hw/M4_Data.csv\", header= None)\n",
        "\n",
        "# data set check - make sure data was read in as expected\n",
        "auto.head() "
      ],
      "execution_count": 98,
      "outputs": [
        {
          "output_type": "execute_result",
          "data": {
            "text/html": [
              "<div>\n",
              "<style scoped>\n",
              "    .dataframe tbody tr th:only-of-type {\n",
              "        vertical-align: middle;\n",
              "    }\n",
              "\n",
              "    .dataframe tbody tr th {\n",
              "        vertical-align: top;\n",
              "    }\n",
              "\n",
              "    .dataframe thead th {\n",
              "        text-align: right;\n",
              "    }\n",
              "</style>\n",
              "<table border=\"1\" class=\"dataframe\">\n",
              "  <thead>\n",
              "    <tr style=\"text-align: right;\">\n",
              "      <th></th>\n",
              "      <th>0</th>\n",
              "      <th>1</th>\n",
              "      <th>2</th>\n",
              "      <th>3</th>\n",
              "      <th>4</th>\n",
              "      <th>5</th>\n",
              "      <th>6</th>\n",
              "      <th>7</th>\n",
              "      <th>8</th>\n",
              "      <th>9</th>\n",
              "      <th>10</th>\n",
              "      <th>11</th>\n",
              "      <th>12</th>\n",
              "      <th>13</th>\n",
              "      <th>14</th>\n",
              "      <th>15</th>\n",
              "      <th>16</th>\n",
              "      <th>17</th>\n",
              "      <th>18</th>\n",
              "      <th>19</th>\n",
              "      <th>20</th>\n",
              "      <th>21</th>\n",
              "      <th>22</th>\n",
              "      <th>23</th>\n",
              "      <th>24</th>\n",
              "      <th>25</th>\n",
              "    </tr>\n",
              "  </thead>\n",
              "  <tbody>\n",
              "    <tr>\n",
              "      <th>0</th>\n",
              "      <td>3</td>\n",
              "      <td>?</td>\n",
              "      <td>alfa-romero</td>\n",
              "      <td>gas</td>\n",
              "      <td>std</td>\n",
              "      <td>two</td>\n",
              "      <td>convertible</td>\n",
              "      <td>rwd</td>\n",
              "      <td>front</td>\n",
              "      <td>88.6</td>\n",
              "      <td>168.8</td>\n",
              "      <td>64.1</td>\n",
              "      <td>48.8</td>\n",
              "      <td>2548</td>\n",
              "      <td>dohc</td>\n",
              "      <td>four</td>\n",
              "      <td>130</td>\n",
              "      <td>mpfi</td>\n",
              "      <td>3.47</td>\n",
              "      <td>2.68</td>\n",
              "      <td>9.0</td>\n",
              "      <td>111</td>\n",
              "      <td>5000</td>\n",
              "      <td>21</td>\n",
              "      <td>27</td>\n",
              "      <td>13495</td>\n",
              "    </tr>\n",
              "    <tr>\n",
              "      <th>1</th>\n",
              "      <td>3</td>\n",
              "      <td>?</td>\n",
              "      <td>alfa-romero</td>\n",
              "      <td>gas</td>\n",
              "      <td>std</td>\n",
              "      <td>two</td>\n",
              "      <td>convertible</td>\n",
              "      <td>rwd</td>\n",
              "      <td>front</td>\n",
              "      <td>88.6</td>\n",
              "      <td>168.8</td>\n",
              "      <td>64.1</td>\n",
              "      <td>48.8</td>\n",
              "      <td>2548</td>\n",
              "      <td>dohc</td>\n",
              "      <td>four</td>\n",
              "      <td>130</td>\n",
              "      <td>mpfi</td>\n",
              "      <td>3.47</td>\n",
              "      <td>2.68</td>\n",
              "      <td>9.0</td>\n",
              "      <td>111</td>\n",
              "      <td>5000</td>\n",
              "      <td>21</td>\n",
              "      <td>27</td>\n",
              "      <td>16500</td>\n",
              "    </tr>\n",
              "    <tr>\n",
              "      <th>2</th>\n",
              "      <td>1</td>\n",
              "      <td>?</td>\n",
              "      <td>alfa-romero</td>\n",
              "      <td>gas</td>\n",
              "      <td>std</td>\n",
              "      <td>two</td>\n",
              "      <td>hatchback</td>\n",
              "      <td>rwd</td>\n",
              "      <td>front</td>\n",
              "      <td>94.5</td>\n",
              "      <td>171.2</td>\n",
              "      <td>65.5</td>\n",
              "      <td>52.4</td>\n",
              "      <td>2823</td>\n",
              "      <td>ohcv</td>\n",
              "      <td>six</td>\n",
              "      <td>152</td>\n",
              "      <td>mpfi</td>\n",
              "      <td>2.68</td>\n",
              "      <td>3.47</td>\n",
              "      <td>9.0</td>\n",
              "      <td>154</td>\n",
              "      <td>5000</td>\n",
              "      <td>19</td>\n",
              "      <td>26</td>\n",
              "      <td>16500</td>\n",
              "    </tr>\n",
              "    <tr>\n",
              "      <th>3</th>\n",
              "      <td>2</td>\n",
              "      <td>164</td>\n",
              "      <td>audi</td>\n",
              "      <td>gas</td>\n",
              "      <td>std</td>\n",
              "      <td>four</td>\n",
              "      <td>sedan</td>\n",
              "      <td>fwd</td>\n",
              "      <td>front</td>\n",
              "      <td>99.8</td>\n",
              "      <td>176.6</td>\n",
              "      <td>66.2</td>\n",
              "      <td>54.3</td>\n",
              "      <td>2337</td>\n",
              "      <td>ohc</td>\n",
              "      <td>four</td>\n",
              "      <td>109</td>\n",
              "      <td>mpfi</td>\n",
              "      <td>3.19</td>\n",
              "      <td>3.4</td>\n",
              "      <td>10.0</td>\n",
              "      <td>102</td>\n",
              "      <td>5500</td>\n",
              "      <td>24</td>\n",
              "      <td>30</td>\n",
              "      <td>13950</td>\n",
              "    </tr>\n",
              "    <tr>\n",
              "      <th>4</th>\n",
              "      <td>2</td>\n",
              "      <td>164</td>\n",
              "      <td>audi</td>\n",
              "      <td>gas</td>\n",
              "      <td>std</td>\n",
              "      <td>four</td>\n",
              "      <td>sedan</td>\n",
              "      <td>4wd</td>\n",
              "      <td>front</td>\n",
              "      <td>99.4</td>\n",
              "      <td>176.6</td>\n",
              "      <td>66.4</td>\n",
              "      <td>54.3</td>\n",
              "      <td>2824</td>\n",
              "      <td>ohc</td>\n",
              "      <td>five</td>\n",
              "      <td>136</td>\n",
              "      <td>mpfi</td>\n",
              "      <td>3.19</td>\n",
              "      <td>3.4</td>\n",
              "      <td>8.0</td>\n",
              "      <td>115</td>\n",
              "      <td>5500</td>\n",
              "      <td>18</td>\n",
              "      <td>22</td>\n",
              "      <td>17450</td>\n",
              "    </tr>\n",
              "  </tbody>\n",
              "</table>\n",
              "</div>"
            ],
            "text/plain": [
              "   0    1            2    3    4     5   ...    20   21    22  23  24     25\n",
              "0   3    ?  alfa-romero  gas  std   two  ...   9.0  111  5000  21  27  13495\n",
              "1   3    ?  alfa-romero  gas  std   two  ...   9.0  111  5000  21  27  16500\n",
              "2   1    ?  alfa-romero  gas  std   two  ...   9.0  154  5000  19  26  16500\n",
              "3   2  164         audi  gas  std  four  ...  10.0  102  5500  24  30  13950\n",
              "4   2  164         audi  gas  std  four  ...   8.0  115  5500  18  22  17450\n",
              "\n",
              "[5 rows x 26 columns]"
            ]
          },
          "metadata": {
            "tags": []
          },
          "execution_count": 98
        }
      ]
    },
    {
      "cell_type": "markdown",
      "metadata": {
        "id": "ta5WXCks3tJM",
        "colab_type": "text"
      },
      "source": [
        "The first thing to do is to check the null value and if there exist null value, replace or drop missing data. "
      ]
    },
    {
      "cell_type": "code",
      "metadata": {
        "id": "0j27izR0zRYR",
        "colab_type": "code",
        "colab": {
          "base_uri": "https://localhost:8080/",
          "height": 485
        },
        "outputId": "5672348f-2073-407a-ccd6-33c64654a757"
      },
      "source": [
        "# summarize the number of rows with missing values for each column / simple check is using auto.isnull().sum()\n",
        "for i in range(auto.shape[1]):\n",
        "\t# count number of rows with missing values\n",
        "\tn_miss = auto[[i]].isnull().sum()\n",
        "\tperc = n_miss / auto.shape[0] * 100\n",
        "\tprint('> %d, Missing: %d (%.1f%%)' % (i, n_miss, perc))"
      ],
      "execution_count": 99,
      "outputs": [
        {
          "output_type": "stream",
          "text": [
            "> 0, Missing: 0 (0.0%)\n",
            "> 1, Missing: 0 (0.0%)\n",
            "> 2, Missing: 0 (0.0%)\n",
            "> 3, Missing: 0 (0.0%)\n",
            "> 4, Missing: 0 (0.0%)\n",
            "> 5, Missing: 0 (0.0%)\n",
            "> 6, Missing: 0 (0.0%)\n",
            "> 7, Missing: 0 (0.0%)\n",
            "> 8, Missing: 0 (0.0%)\n",
            "> 9, Missing: 0 (0.0%)\n",
            "> 10, Missing: 0 (0.0%)\n",
            "> 11, Missing: 0 (0.0%)\n",
            "> 12, Missing: 0 (0.0%)\n",
            "> 13, Missing: 0 (0.0%)\n",
            "> 14, Missing: 0 (0.0%)\n",
            "> 15, Missing: 0 (0.0%)\n",
            "> 16, Missing: 0 (0.0%)\n",
            "> 17, Missing: 0 (0.0%)\n",
            "> 18, Missing: 0 (0.0%)\n",
            "> 19, Missing: 0 (0.0%)\n",
            "> 20, Missing: 0 (0.0%)\n",
            "> 21, Missing: 0 (0.0%)\n",
            "> 22, Missing: 0 (0.0%)\n",
            "> 23, Missing: 0 (0.0%)\n",
            "> 24, Missing: 0 (0.0%)\n",
            "> 25, Missing: 0 (0.0%)\n"
          ],
          "name": "stdout"
        }
      ]
    },
    {
      "cell_type": "markdown",
      "metadata": {
        "id": "WQQ1rpoDzhq5",
        "colab_type": "text"
      },
      "source": [
        "By running code, there is no null value. And we need to check with UCI repo attributes. "
      ]
    },
    {
      "cell_type": "markdown",
      "metadata": {
        "colab_type": "text",
        "id": "HzKJ5Z7cghy4"
      },
      "source": [
        "### Data preparation: ###"
      ]
    },
    {
      "cell_type": "markdown",
      "metadata": {
        "id": "v_deAd507fAH",
        "colab_type": "text"
      },
      "source": [
        "Based on attributes information from UCI, 26 attributes are showed as follows: \n",
        "\n",
        "1. symboling: -3, -2, -1, 0, 1, 2, 3. \n",
        "2. normalized-losses: continuous from 65 to 256. \n",
        "3. make: \n",
        "alfa-romero, audi, bmw, chevrolet, dodge, honda, \n",
        "isuzu, jaguar, mazda, mercedes-benz, mercury, \n",
        "mitsubishi, nissan, peugot, plymouth, porsche, \n",
        "renault, saab, subaru, toyota, volkswagen, volvo \n",
        "\n",
        "4. fuel-type: diesel, gas. \n",
        "5. aspiration: std, turbo. \n",
        "6. num-of-doors: four, two. \n",
        "7. body-style: hardtop, wagon, sedan, hatchback, convertible. \n",
        "8. drive-wheels: 4wd, fwd, rwd. \n",
        "9. engine-location: front, rear. \n",
        "10. wheel-base: continuous from 86.6 120.9. \n",
        "11. length: continuous from 141.1 to 208.1. \n",
        "12. width: continuous from 60.3 to 72.3. \n",
        "13. height: continuous from 47.8 to 59.8. \n",
        "14. curb-weight: continuous from 1488 to 4066. \n",
        "15. engine-type: dohc, dohcv, l, ohc, ohcf, ohcv, rotor. \n",
        "16. num-of-cylinders: eight, five, four, six, three, twelve, two. \n",
        "17. engine-size: continuous from 61 to 326. \n",
        "18. fuel-system: 1bbl, 2bbl, 4bbl, idi, mfi, mpfi, spdi, spfi. \n",
        "19. bore: continuous from 2.54 to 3.94. \n",
        "20. stroke: continuous from 2.07 to 4.17. \n",
        "21. compression-ratio: continuous from 7 to 23. \n",
        "22. horsepower: continuous from 48 to 288. \n",
        "23. peak-rpm: continuous from 4150 to 6600. \n",
        "24. city-mpg: continuous from 13 to 49. \n",
        "25. highway-mpg: continuous from 16 to 54. \n",
        "26. price: continuous from 5118 to 45400."
      ]
    },
    {
      "cell_type": "markdown",
      "metadata": {
        "id": "BZBQLi22VAMy",
        "colab_type": "text"
      },
      "source": [
        "There are 18 numeric data along with 8 categorical data"
      ]
    },
    {
      "cell_type": "code",
      "metadata": {
        "id": "E_qPiujBtELs",
        "colab_type": "code",
        "outputId": "a61ec524-2bde-4146-f1df-083c53bb9e04",
        "colab": {
          "base_uri": "https://localhost:8080/",
          "height": 35
        }
      },
      "source": [
        "# how many observations are contained within the example data set?\n",
        "len(auto)"
      ],
      "execution_count": 100,
      "outputs": [
        {
          "output_type": "execute_result",
          "data": {
            "text/plain": [
              "205"
            ]
          },
          "metadata": {
            "tags": []
          },
          "execution_count": 100
        }
      ]
    },
    {
      "cell_type": "markdown",
      "metadata": {
        "id": "VJAdO5vmPBtx",
        "colab_type": "text"
      },
      "source": [
        "based on these results, there is no null values, but we can easily see there is ? value in the data set, however it is still invalid. We will deal with these invalid data later after renaming the column\n",
        "\n",
        "\n"
      ]
    },
    {
      "cell_type": "code",
      "metadata": {
        "id": "GHcuR4im0ut3",
        "colab_type": "code",
        "colab": {
          "base_uri": "https://localhost:8080/",
          "height": 503
        },
        "outputId": "6edda8c6-e47c-424c-de78-b2563556f865"
      },
      "source": [
        "# check data type\n",
        "auto.dtypes"
      ],
      "execution_count": 101,
      "outputs": [
        {
          "output_type": "execute_result",
          "data": {
            "text/plain": [
              "0       int64\n",
              "1      object\n",
              "2      object\n",
              "3      object\n",
              "4      object\n",
              "5      object\n",
              "6      object\n",
              "7      object\n",
              "8      object\n",
              "9     float64\n",
              "10    float64\n",
              "11    float64\n",
              "12    float64\n",
              "13      int64\n",
              "14     object\n",
              "15     object\n",
              "16      int64\n",
              "17     object\n",
              "18     object\n",
              "19     object\n",
              "20    float64\n",
              "21     object\n",
              "22     object\n",
              "23      int64\n",
              "24      int64\n",
              "25     object\n",
              "dtype: object"
            ]
          },
          "metadata": {
            "tags": []
          },
          "execution_count": 101
        }
      ]
    },
    {
      "cell_type": "markdown",
      "metadata": {
        "id": "v0QHVdjP1A99",
        "colab_type": "text"
      },
      "source": [
        "Also, by checking data type, we also want to make sure these numeric items are showed properly. We need to conver item such as normalized-losses,num-of-doors etc from string to numeric values."
      ]
    },
    {
      "cell_type": "markdown",
      "metadata": {
        "id": "gyL3v3fezH42",
        "colab_type": "text"
      },
      "source": [
        "### Renaming the column based on UCI repostitory "
      ]
    },
    {
      "cell_type": "markdown",
      "metadata": {
        "id": "25U4OqR67vhb",
        "colab_type": "text"
      },
      "source": [
        "Since column has only numbers , and we then need to rename the column to give a meaningful title based on UCI repository. "
      ]
    },
    {
      "cell_type": "code",
      "metadata": {
        "id": "Z4XI9ij-7zEK",
        "colab_type": "code",
        "outputId": "ea646bed-a93e-4e9d-fc07-b4ceab2846c2",
        "colab": {
          "base_uri": "https://localhost:8080/",
          "height": 275
        }
      },
      "source": [
        "# rename the column based on UCI repo, avoid using \"-\", it cause issue afterwards\n",
        "auto.columns = ['symboling', 'normalized_losses', 'make', 'fuel_type', 'aspiration', 'num_of_doors', 'body_style', 'drive_wheels', 'engine_location', 'wheel_base', 'length', 'width', 'height', 'curb_weight', 'engine_type', 'num_of_cylinders', 'engine_size', 'fuel_system', 'bore', 'stroke', 'compression_ratio', 'horsepower', 'peak_rpm', 'city_mpg', 'highway_mpg', 'price']\n",
        "\n",
        "auto.head()"
      ],
      "execution_count": 102,
      "outputs": [
        {
          "output_type": "execute_result",
          "data": {
            "text/html": [
              "<div>\n",
              "<style scoped>\n",
              "    .dataframe tbody tr th:only-of-type {\n",
              "        vertical-align: middle;\n",
              "    }\n",
              "\n",
              "    .dataframe tbody tr th {\n",
              "        vertical-align: top;\n",
              "    }\n",
              "\n",
              "    .dataframe thead th {\n",
              "        text-align: right;\n",
              "    }\n",
              "</style>\n",
              "<table border=\"1\" class=\"dataframe\">\n",
              "  <thead>\n",
              "    <tr style=\"text-align: right;\">\n",
              "      <th></th>\n",
              "      <th>symboling</th>\n",
              "      <th>normalized_losses</th>\n",
              "      <th>make</th>\n",
              "      <th>fuel_type</th>\n",
              "      <th>aspiration</th>\n",
              "      <th>num_of_doors</th>\n",
              "      <th>body_style</th>\n",
              "      <th>drive_wheels</th>\n",
              "      <th>engine_location</th>\n",
              "      <th>wheel_base</th>\n",
              "      <th>length</th>\n",
              "      <th>width</th>\n",
              "      <th>height</th>\n",
              "      <th>curb_weight</th>\n",
              "      <th>engine_type</th>\n",
              "      <th>num_of_cylinders</th>\n",
              "      <th>engine_size</th>\n",
              "      <th>fuel_system</th>\n",
              "      <th>bore</th>\n",
              "      <th>stroke</th>\n",
              "      <th>compression_ratio</th>\n",
              "      <th>horsepower</th>\n",
              "      <th>peak_rpm</th>\n",
              "      <th>city_mpg</th>\n",
              "      <th>highway_mpg</th>\n",
              "      <th>price</th>\n",
              "    </tr>\n",
              "  </thead>\n",
              "  <tbody>\n",
              "    <tr>\n",
              "      <th>0</th>\n",
              "      <td>3</td>\n",
              "      <td>?</td>\n",
              "      <td>alfa-romero</td>\n",
              "      <td>gas</td>\n",
              "      <td>std</td>\n",
              "      <td>two</td>\n",
              "      <td>convertible</td>\n",
              "      <td>rwd</td>\n",
              "      <td>front</td>\n",
              "      <td>88.6</td>\n",
              "      <td>168.8</td>\n",
              "      <td>64.1</td>\n",
              "      <td>48.8</td>\n",
              "      <td>2548</td>\n",
              "      <td>dohc</td>\n",
              "      <td>four</td>\n",
              "      <td>130</td>\n",
              "      <td>mpfi</td>\n",
              "      <td>3.47</td>\n",
              "      <td>2.68</td>\n",
              "      <td>9.0</td>\n",
              "      <td>111</td>\n",
              "      <td>5000</td>\n",
              "      <td>21</td>\n",
              "      <td>27</td>\n",
              "      <td>13495</td>\n",
              "    </tr>\n",
              "    <tr>\n",
              "      <th>1</th>\n",
              "      <td>3</td>\n",
              "      <td>?</td>\n",
              "      <td>alfa-romero</td>\n",
              "      <td>gas</td>\n",
              "      <td>std</td>\n",
              "      <td>two</td>\n",
              "      <td>convertible</td>\n",
              "      <td>rwd</td>\n",
              "      <td>front</td>\n",
              "      <td>88.6</td>\n",
              "      <td>168.8</td>\n",
              "      <td>64.1</td>\n",
              "      <td>48.8</td>\n",
              "      <td>2548</td>\n",
              "      <td>dohc</td>\n",
              "      <td>four</td>\n",
              "      <td>130</td>\n",
              "      <td>mpfi</td>\n",
              "      <td>3.47</td>\n",
              "      <td>2.68</td>\n",
              "      <td>9.0</td>\n",
              "      <td>111</td>\n",
              "      <td>5000</td>\n",
              "      <td>21</td>\n",
              "      <td>27</td>\n",
              "      <td>16500</td>\n",
              "    </tr>\n",
              "    <tr>\n",
              "      <th>2</th>\n",
              "      <td>1</td>\n",
              "      <td>?</td>\n",
              "      <td>alfa-romero</td>\n",
              "      <td>gas</td>\n",
              "      <td>std</td>\n",
              "      <td>two</td>\n",
              "      <td>hatchback</td>\n",
              "      <td>rwd</td>\n",
              "      <td>front</td>\n",
              "      <td>94.5</td>\n",
              "      <td>171.2</td>\n",
              "      <td>65.5</td>\n",
              "      <td>52.4</td>\n",
              "      <td>2823</td>\n",
              "      <td>ohcv</td>\n",
              "      <td>six</td>\n",
              "      <td>152</td>\n",
              "      <td>mpfi</td>\n",
              "      <td>2.68</td>\n",
              "      <td>3.47</td>\n",
              "      <td>9.0</td>\n",
              "      <td>154</td>\n",
              "      <td>5000</td>\n",
              "      <td>19</td>\n",
              "      <td>26</td>\n",
              "      <td>16500</td>\n",
              "    </tr>\n",
              "    <tr>\n",
              "      <th>3</th>\n",
              "      <td>2</td>\n",
              "      <td>164</td>\n",
              "      <td>audi</td>\n",
              "      <td>gas</td>\n",
              "      <td>std</td>\n",
              "      <td>four</td>\n",
              "      <td>sedan</td>\n",
              "      <td>fwd</td>\n",
              "      <td>front</td>\n",
              "      <td>99.8</td>\n",
              "      <td>176.6</td>\n",
              "      <td>66.2</td>\n",
              "      <td>54.3</td>\n",
              "      <td>2337</td>\n",
              "      <td>ohc</td>\n",
              "      <td>four</td>\n",
              "      <td>109</td>\n",
              "      <td>mpfi</td>\n",
              "      <td>3.19</td>\n",
              "      <td>3.4</td>\n",
              "      <td>10.0</td>\n",
              "      <td>102</td>\n",
              "      <td>5500</td>\n",
              "      <td>24</td>\n",
              "      <td>30</td>\n",
              "      <td>13950</td>\n",
              "    </tr>\n",
              "    <tr>\n",
              "      <th>4</th>\n",
              "      <td>2</td>\n",
              "      <td>164</td>\n",
              "      <td>audi</td>\n",
              "      <td>gas</td>\n",
              "      <td>std</td>\n",
              "      <td>four</td>\n",
              "      <td>sedan</td>\n",
              "      <td>4wd</td>\n",
              "      <td>front</td>\n",
              "      <td>99.4</td>\n",
              "      <td>176.6</td>\n",
              "      <td>66.4</td>\n",
              "      <td>54.3</td>\n",
              "      <td>2824</td>\n",
              "      <td>ohc</td>\n",
              "      <td>five</td>\n",
              "      <td>136</td>\n",
              "      <td>mpfi</td>\n",
              "      <td>3.19</td>\n",
              "      <td>3.4</td>\n",
              "      <td>8.0</td>\n",
              "      <td>115</td>\n",
              "      <td>5500</td>\n",
              "      <td>18</td>\n",
              "      <td>22</td>\n",
              "      <td>17450</td>\n",
              "    </tr>\n",
              "  </tbody>\n",
              "</table>\n",
              "</div>"
            ],
            "text/plain": [
              "   symboling normalized_losses         make  ... city_mpg highway_mpg  price\n",
              "0          3                 ?  alfa-romero  ...       21          27  13495\n",
              "1          3                 ?  alfa-romero  ...       21          27  16500\n",
              "2          1                 ?  alfa-romero  ...       19          26  16500\n",
              "3          2               164         audi  ...       24          30  13950\n",
              "4          2               164         audi  ...       18          22  17450\n",
              "\n",
              "[5 rows x 26 columns]"
            ]
          },
          "metadata": {
            "tags": []
          },
          "execution_count": 102
        }
      ]
    },
    {
      "cell_type": "markdown",
      "metadata": {
        "id": "FzWS8p4bmqN2",
        "colab_type": "text"
      },
      "source": [
        "By checking this data set, two obvious problems need to be fixed. \n",
        "-   some string is possible to be converted into number such as (num of door, cylinders) \n",
        "\n",
        "- ? values in the data set. ( it should be transformed into some meaningful values.)"
      ]
    },
    {
      "cell_type": "markdown",
      "metadata": {
        "id": "_CaP-TK4nbac",
        "colab_type": "text"
      },
      "source": [
        "I start with change ? value. Since it will be easier to treat as null value, I firstly convert all ? into null values."
      ]
    },
    {
      "cell_type": "code",
      "metadata": {
        "id": "jwRiYg4cysPn",
        "colab_type": "code",
        "colab": {
          "base_uri": "https://localhost:8080/",
          "height": 503
        },
        "outputId": "e79a968f-af41-4a38-96c8-458eb97d01fa"
      },
      "source": [
        "auto = auto.replace('?', np.NaN)\n",
        "# check number of nulls to detect number of invalid values.\n",
        "auto.isnull().sum()"
      ],
      "execution_count": 103,
      "outputs": [
        {
          "output_type": "execute_result",
          "data": {
            "text/plain": [
              "symboling             0\n",
              "normalized_losses    41\n",
              "make                  0\n",
              "fuel_type             0\n",
              "aspiration            0\n",
              "num_of_doors          2\n",
              "body_style            0\n",
              "drive_wheels          0\n",
              "engine_location       0\n",
              "wheel_base            0\n",
              "length                0\n",
              "width                 0\n",
              "height                0\n",
              "curb_weight           0\n",
              "engine_type           0\n",
              "num_of_cylinders      0\n",
              "engine_size           0\n",
              "fuel_system           0\n",
              "bore                  4\n",
              "stroke                4\n",
              "compression_ratio     0\n",
              "horsepower            2\n",
              "peak_rpm              2\n",
              "city_mpg              0\n",
              "highway_mpg           0\n",
              "price                 4\n",
              "dtype: int64"
            ]
          },
          "metadata": {
            "tags": []
          },
          "execution_count": 103
        }
      ]
    },
    {
      "cell_type": "markdown",
      "metadata": {
        "id": "zYqm1FXwoifc",
        "colab_type": "text"
      },
      "source": [
        "Now we know that previous invalid data ? only appears in 7 attributes. And they are in the normalized-losses ,num-of-doors  ,bore,stroke,horsepower,peak-rpm , and price. Among these data, only normalized-losses has about 20% invalid data, other attributes has only up to 2% data missing. "
      ]
    },
    {
      "cell_type": "markdown",
      "metadata": {
        "id": "K1EKlN3D4Be8",
        "colab_type": "text"
      },
      "source": [
        "After getting raw data preparation,we can then launch EDA."
      ]
    },
    {
      "cell_type": "markdown",
      "metadata": {
        "colab_type": "text",
        "id": "-fOR2hpxgnLs"
      },
      "source": [
        "## Part 2 Exporatory data analysis (EDA): ##"
      ]
    },
    {
      "cell_type": "markdown",
      "metadata": {
        "id": "sB15iut34JSn",
        "colab_type": "text"
      },
      "source": [
        "Firstly I start with general statistics of data set. "
      ]
    },
    {
      "cell_type": "code",
      "metadata": {
        "id": "YjmdbUisSgPT",
        "colab_type": "code",
        "outputId": "d6e9f3e2-cc17-41bf-9e2a-bcc0a459ca77",
        "colab": {
          "base_uri": "https://localhost:8080/",
          "height": 297
        }
      },
      "source": [
        "#start with overview of data set\n",
        "auto.describe()"
      ],
      "execution_count": 104,
      "outputs": [
        {
          "output_type": "execute_result",
          "data": {
            "text/html": [
              "<div>\n",
              "<style scoped>\n",
              "    .dataframe tbody tr th:only-of-type {\n",
              "        vertical-align: middle;\n",
              "    }\n",
              "\n",
              "    .dataframe tbody tr th {\n",
              "        vertical-align: top;\n",
              "    }\n",
              "\n",
              "    .dataframe thead th {\n",
              "        text-align: right;\n",
              "    }\n",
              "</style>\n",
              "<table border=\"1\" class=\"dataframe\">\n",
              "  <thead>\n",
              "    <tr style=\"text-align: right;\">\n",
              "      <th></th>\n",
              "      <th>symboling</th>\n",
              "      <th>wheel_base</th>\n",
              "      <th>length</th>\n",
              "      <th>width</th>\n",
              "      <th>height</th>\n",
              "      <th>curb_weight</th>\n",
              "      <th>engine_size</th>\n",
              "      <th>compression_ratio</th>\n",
              "      <th>city_mpg</th>\n",
              "      <th>highway_mpg</th>\n",
              "    </tr>\n",
              "  </thead>\n",
              "  <tbody>\n",
              "    <tr>\n",
              "      <th>count</th>\n",
              "      <td>205.000000</td>\n",
              "      <td>205.000000</td>\n",
              "      <td>205.000000</td>\n",
              "      <td>205.000000</td>\n",
              "      <td>205.000000</td>\n",
              "      <td>205.000000</td>\n",
              "      <td>205.000000</td>\n",
              "      <td>205.000000</td>\n",
              "      <td>205.000000</td>\n",
              "      <td>205.000000</td>\n",
              "    </tr>\n",
              "    <tr>\n",
              "      <th>mean</th>\n",
              "      <td>0.834146</td>\n",
              "      <td>98.756585</td>\n",
              "      <td>174.049268</td>\n",
              "      <td>65.907805</td>\n",
              "      <td>53.724878</td>\n",
              "      <td>2555.565854</td>\n",
              "      <td>126.907317</td>\n",
              "      <td>10.142537</td>\n",
              "      <td>25.219512</td>\n",
              "      <td>30.751220</td>\n",
              "    </tr>\n",
              "    <tr>\n",
              "      <th>std</th>\n",
              "      <td>1.245307</td>\n",
              "      <td>6.021776</td>\n",
              "      <td>12.337289</td>\n",
              "      <td>2.145204</td>\n",
              "      <td>2.443522</td>\n",
              "      <td>520.680204</td>\n",
              "      <td>41.642693</td>\n",
              "      <td>3.972040</td>\n",
              "      <td>6.542142</td>\n",
              "      <td>6.886443</td>\n",
              "    </tr>\n",
              "    <tr>\n",
              "      <th>min</th>\n",
              "      <td>-2.000000</td>\n",
              "      <td>86.600000</td>\n",
              "      <td>141.100000</td>\n",
              "      <td>60.300000</td>\n",
              "      <td>47.800000</td>\n",
              "      <td>1488.000000</td>\n",
              "      <td>61.000000</td>\n",
              "      <td>7.000000</td>\n",
              "      <td>13.000000</td>\n",
              "      <td>16.000000</td>\n",
              "    </tr>\n",
              "    <tr>\n",
              "      <th>25%</th>\n",
              "      <td>0.000000</td>\n",
              "      <td>94.500000</td>\n",
              "      <td>166.300000</td>\n",
              "      <td>64.100000</td>\n",
              "      <td>52.000000</td>\n",
              "      <td>2145.000000</td>\n",
              "      <td>97.000000</td>\n",
              "      <td>8.600000</td>\n",
              "      <td>19.000000</td>\n",
              "      <td>25.000000</td>\n",
              "    </tr>\n",
              "    <tr>\n",
              "      <th>50%</th>\n",
              "      <td>1.000000</td>\n",
              "      <td>97.000000</td>\n",
              "      <td>173.200000</td>\n",
              "      <td>65.500000</td>\n",
              "      <td>54.100000</td>\n",
              "      <td>2414.000000</td>\n",
              "      <td>120.000000</td>\n",
              "      <td>9.000000</td>\n",
              "      <td>24.000000</td>\n",
              "      <td>30.000000</td>\n",
              "    </tr>\n",
              "    <tr>\n",
              "      <th>75%</th>\n",
              "      <td>2.000000</td>\n",
              "      <td>102.400000</td>\n",
              "      <td>183.100000</td>\n",
              "      <td>66.900000</td>\n",
              "      <td>55.500000</td>\n",
              "      <td>2935.000000</td>\n",
              "      <td>141.000000</td>\n",
              "      <td>9.400000</td>\n",
              "      <td>30.000000</td>\n",
              "      <td>34.000000</td>\n",
              "    </tr>\n",
              "    <tr>\n",
              "      <th>max</th>\n",
              "      <td>3.000000</td>\n",
              "      <td>120.900000</td>\n",
              "      <td>208.100000</td>\n",
              "      <td>72.300000</td>\n",
              "      <td>59.800000</td>\n",
              "      <td>4066.000000</td>\n",
              "      <td>326.000000</td>\n",
              "      <td>23.000000</td>\n",
              "      <td>49.000000</td>\n",
              "      <td>54.000000</td>\n",
              "    </tr>\n",
              "  </tbody>\n",
              "</table>\n",
              "</div>"
            ],
            "text/plain": [
              "        symboling  wheel_base  ...    city_mpg  highway_mpg\n",
              "count  205.000000  205.000000  ...  205.000000   205.000000\n",
              "mean     0.834146   98.756585  ...   25.219512    30.751220\n",
              "std      1.245307    6.021776  ...    6.542142     6.886443\n",
              "min     -2.000000   86.600000  ...   13.000000    16.000000\n",
              "25%      0.000000   94.500000  ...   19.000000    25.000000\n",
              "50%      1.000000   97.000000  ...   24.000000    30.000000\n",
              "75%      2.000000  102.400000  ...   30.000000    34.000000\n",
              "max      3.000000  120.900000  ...   49.000000    54.000000\n",
              "\n",
              "[8 rows x 10 columns]"
            ]
          },
          "metadata": {
            "tags": []
          },
          "execution_count": 104
        }
      ]
    },
    {
      "cell_type": "markdown",
      "metadata": {
        "id": "i7h2cyY5i7wH",
        "colab_type": "text"
      },
      "source": [
        "We can tell that only 10 attributes can be used for numerical graphing. Then we need to fill in missing value and get another data. Based on this Statistics data, Both median and mean seems work for this missing data filling. Since attributes except  normalized-losses only have small missing (less than 2%) median or average filling should not make a huge difference. But for the  normalized-losses, mean may be better to use according to Central Limit theory. Therefore I decided to fill all data with mean value. Also, in our scenario, we have some nominal data such as num of doors, cylinders, mode is also one of the option(although it is not commonly used)"
      ]
    },
    {
      "cell_type": "markdown",
      "metadata": {
        "id": "86Eo_sP9vMch",
        "colab_type": "text"
      },
      "source": [
        "Since there is missing value in num-of-doors, price and their data type is object, I need to convert from string firstly before I fill in missing data(otherwise function does not work.)"
      ]
    },
    {
      "cell_type": "code",
      "metadata": {
        "id": "MS2-Hnc-vC6H",
        "colab_type": "code",
        "colab": {
          "base_uri": "https://localhost:8080/",
          "height": 35
        },
        "outputId": "8c76eb41-25cb-42c5-921b-af3c699e7310"
      },
      "source": [
        "#make number of door from string to numeric \n",
        "auto['num_of_doors'].replace('two', 2, inplace=True)\n",
        "auto['num_of_doors'].replace('four', 4, inplace=True)\n",
        "\n",
        "#check value after\n",
        "auto['num_of_doors'].unique()"
      ],
      "execution_count": 105,
      "outputs": [
        {
          "output_type": "execute_result",
          "data": {
            "text/plain": [
              "array([ 2.,  4., nan])"
            ]
          },
          "metadata": {
            "tags": []
          },
          "execution_count": 105
        }
      ]
    },
    {
      "cell_type": "code",
      "metadata": {
        "id": "Ow9PshI0yyx8",
        "colab_type": "code",
        "colab": {}
      },
      "source": [
        "#conver normalized-losses into float\n",
        "\n",
        "auto[\"normalized_losses\"] =auto.normalized_losses.astype(float)\n",
        "#price\n",
        "auto[\"price\"] =auto.price.astype(float)"
      ],
      "execution_count": 0,
      "outputs": []
    },
    {
      "cell_type": "code",
      "metadata": {
        "id": "DFHYlF08rLPJ",
        "colab_type": "code",
        "colab": {}
      },
      "source": [
        "#filling missing value with mean\n",
        "auto[\"normalized_losses\"].fillna(auto['normalized_losses'].mean(), inplace=True)\n",
        "\n",
        "#others using median\n",
        "# num of door can also use mode\n",
        "auto['num_of_doors'].fillna(auto['num_of_doors'].median(), inplace=True)\n",
        "\n",
        "auto['bore'].fillna(auto['bore'].median(), inplace=True)\n",
        "auto['stroke'].fillna(auto['stroke'].median(), inplace=True)\n",
        "auto['horsepower'].fillna(auto['horsepower'].median(), inplace=True)\n",
        "auto['peak_rpm'].fillna(auto['peak_rpm'].median(), inplace=True)\n",
        "#replace price\n",
        "auto['price'].fillna(auto['price'].median(), inplace=True)"
      ],
      "execution_count": 0,
      "outputs": []
    },
    {
      "cell_type": "markdown",
      "metadata": {
        "id": "i9n_72kj2e-i",
        "colab_type": "text"
      },
      "source": [
        "After filling, we still need to check whether we have missing value or not"
      ]
    },
    {
      "cell_type": "code",
      "metadata": {
        "id": "LKfV5tA72kp-",
        "colab_type": "code",
        "colab": {
          "base_uri": "https://localhost:8080/",
          "height": 503
        },
        "outputId": "2d7771d8-9f21-4ad0-bbe8-44aa70b887b3"
      },
      "source": [
        "auto.isnull().sum()"
      ],
      "execution_count": 109,
      "outputs": [
        {
          "output_type": "execute_result",
          "data": {
            "text/plain": [
              "symboling            0\n",
              "normalized_losses    0\n",
              "make                 0\n",
              "fuel_type            0\n",
              "aspiration           0\n",
              "num_of_doors         0\n",
              "body_style           0\n",
              "drive_wheels         0\n",
              "engine_location      0\n",
              "wheel_base           0\n",
              "length               0\n",
              "width                0\n",
              "height               0\n",
              "curb_weight          0\n",
              "engine_type          0\n",
              "num_of_cylinders     0\n",
              "engine_size          0\n",
              "fuel_system          0\n",
              "bore                 0\n",
              "stroke               0\n",
              "compression_ratio    0\n",
              "horsepower           0\n",
              "peak_rpm             0\n",
              "city_mpg             0\n",
              "highway_mpg          0\n",
              "price                0\n",
              "dtype: int64"
            ]
          },
          "metadata": {
            "tags": []
          },
          "execution_count": 109
        }
      ]
    },
    {
      "cell_type": "markdown",
      "metadata": {
        "id": "dtraYdSu9W8l",
        "colab_type": "text"
      },
      "source": [
        "Note: Although here I used median or mean to fill the missing value, it is still a bit risky to fill normalized_losses attribute for its relatively large percentage of missing data(20%). sklearn's simple imputer can also provide other way to fill this missing data. Due to the limited group member and time of this project, I only use this median, mean method this time. "
      ]
    },
    {
      "cell_type": "code",
      "metadata": {
        "id": "Kktf3vmv6MBM",
        "colab_type": "code",
        "colab": {
          "base_uri": "https://localhost:8080/",
          "height": 611
        },
        "outputId": "28e6ba39-ce70-4bea-e6cc-c438945f482b"
      },
      "source": [
        "# check data type for safe\n",
        "auto.info()"
      ],
      "execution_count": 110,
      "outputs": [
        {
          "output_type": "stream",
          "text": [
            "<class 'pandas.core.frame.DataFrame'>\n",
            "RangeIndex: 205 entries, 0 to 204\n",
            "Data columns (total 26 columns):\n",
            " #   Column             Non-Null Count  Dtype  \n",
            "---  ------             --------------  -----  \n",
            " 0   symboling          205 non-null    int64  \n",
            " 1   normalized_losses  205 non-null    float64\n",
            " 2   make               205 non-null    object \n",
            " 3   fuel_type          205 non-null    object \n",
            " 4   aspiration         205 non-null    object \n",
            " 5   num_of_doors       205 non-null    float64\n",
            " 6   body_style         205 non-null    object \n",
            " 7   drive_wheels       205 non-null    object \n",
            " 8   engine_location    205 non-null    object \n",
            " 9   wheel_base         205 non-null    float64\n",
            " 10  length             205 non-null    float64\n",
            " 11  width              205 non-null    float64\n",
            " 12  height             205 non-null    float64\n",
            " 13  curb_weight        205 non-null    int64  \n",
            " 14  engine_type        205 non-null    object \n",
            " 15  num_of_cylinders   205 non-null    object \n",
            " 16  engine_size        205 non-null    int64  \n",
            " 17  fuel_system        205 non-null    object \n",
            " 18  bore               205 non-null    object \n",
            " 19  stroke             205 non-null    object \n",
            " 20  compression_ratio  205 non-null    float64\n",
            " 21  horsepower         205 non-null    object \n",
            " 22  peak_rpm           205 non-null    object \n",
            " 23  city_mpg           205 non-null    int64  \n",
            " 24  highway_mpg        205 non-null    int64  \n",
            " 25  price              205 non-null    float64\n",
            "dtypes: float64(8), int64(5), object(13)\n",
            "memory usage: 41.8+ KB\n"
          ],
          "name": "stdout"
        }
      ]
    },
    {
      "cell_type": "markdown",
      "metadata": {
        "id": "rnWhDG64796t",
        "colab_type": "text"
      },
      "source": [
        "And notice even after filling value, some data such as bore, horsepower ,still does not change data type, then I need to convert again\n"
      ]
    },
    {
      "cell_type": "code",
      "metadata": {
        "id": "t8hLi_r48af3",
        "colab_type": "code",
        "colab": {}
      },
      "source": [
        "# convert data\n",
        "#bore\n",
        "auto[\"bore\"] =auto.bore.astype(float)\n",
        "#stroke\n",
        "auto[\"stroke\"] =auto.stroke.astype(float)\n",
        "# peak rpm\n",
        "\n",
        "auto[\"peak_rpm\"] =auto.peak_rpm.astype(float)\n",
        "#horsepower\n",
        "\n",
        "auto[\"horsepower\"] =auto.horsepower.astype(float)"
      ],
      "execution_count": 0,
      "outputs": []
    },
    {
      "cell_type": "code",
      "metadata": {
        "id": "3_U_IVfYSwwM",
        "colab_type": "code",
        "colab": {}
      },
      "source": [
        "#similar for number of cylinders\n",
        "#make number of cylinders from string to numeric \n",
        "auto['num_of_cylinders'].replace('two', 2, inplace=True)\n",
        "auto['num_of_cylinders'].replace('three', 3, inplace=True)\n",
        "auto['num_of_cylinders'].replace('four', 4, inplace=True)\n",
        "auto['num_of_cylinders'].replace('five', 5, inplace=True)\n",
        "auto['num_of_cylinders'].replace('six', 6, inplace=True)\n",
        "auto['num_of_cylinders'].replace('eight', 8, inplace=True)\n",
        "auto['num_of_cylinders'].replace('twelve', 12, inplace=True)\n",
        "\n",
        "\n",
        "# check value\n",
        "auto['num_of_cylinders'].unique()\n",
        "\n",
        "#convert to numeric\n",
        "auto[\"num_of_cylinders\"] =auto.num_of_cylinders.astype(float)"
      ],
      "execution_count": 0,
      "outputs": []
    },
    {
      "cell_type": "markdown",
      "metadata": {
        "colab_type": "text",
        "id": "OsFVLhYy0C3N"
      },
      "source": [
        "After we filled the missing value, we can get a nice overview of all numeric attributes."
      ]
    },
    {
      "cell_type": "code",
      "metadata": {
        "id": "AEU0RZDM0FVa",
        "colab_type": "code",
        "colab": {
          "base_uri": "https://localhost:8080/",
          "height": 1000
        },
        "outputId": "ff1abd74-a6ac-4dc4-a613-a847de58c7de"
      },
      "source": [
        "#run to have overview of all histogram\n",
        "auto.hist(bins=50, color='b', figsize=(24,15))"
      ],
      "execution_count": 113,
      "outputs": [
        {
          "output_type": "execute_result",
          "data": {
            "text/plain": [
              "array([[<matplotlib.axes._subplots.AxesSubplot object at 0x7fa401622208>,\n",
              "        <matplotlib.axes._subplots.AxesSubplot object at 0x7fa4015dc080>,\n",
              "        <matplotlib.axes._subplots.AxesSubplot object at 0x7fa401588320>,\n",
              "        <matplotlib.axes._subplots.AxesSubplot object at 0x7fa4015386a0>],\n",
              "       [<matplotlib.axes._subplots.AxesSubplot object at 0x7fa401566a20>,\n",
              "        <matplotlib.axes._subplots.AxesSubplot object at 0x7fa401515da0>,\n",
              "        <matplotlib.axes._subplots.AxesSubplot object at 0x7fa4014d2160>,\n",
              "        <matplotlib.axes._subplots.AxesSubplot object at 0x7fa4014824a8>],\n",
              "       [<matplotlib.axes._subplots.AxesSubplot object at 0x7fa401482518>,\n",
              "        <matplotlib.axes._subplots.AxesSubplot object at 0x7fa40145ebe0>,\n",
              "        <matplotlib.axes._subplots.AxesSubplot object at 0x7fa40140df60>,\n",
              "        <matplotlib.axes._subplots.AxesSubplot object at 0x7fa4013cb320>],\n",
              "       [<matplotlib.axes._subplots.AxesSubplot object at 0x7fa40137e6a0>,\n",
              "        <matplotlib.axes._subplots.AxesSubplot object at 0x7fa401331a20>,\n",
              "        <matplotlib.axes._subplots.AxesSubplot object at 0x7fa401362da0>,\n",
              "        <matplotlib.axes._subplots.AxesSubplot object at 0x7fa401321160>],\n",
              "       [<matplotlib.axes._subplots.AxesSubplot object at 0x7fa4012d34e0>,\n",
              "        <matplotlib.axes._subplots.AxesSubplot object at 0x7fa401287860>,\n",
              "        <matplotlib.axes._subplots.AxesSubplot object at 0x7fa401238be0>,\n",
              "        <matplotlib.axes._subplots.AxesSubplot object at 0x7fa40126bf60>]],\n",
              "      dtype=object)"
            ]
          },
          "metadata": {
            "tags": []
          },
          "execution_count": 113
        },
        {
          "output_type": "display_data",
          "data": {
            "image/png": "[encoded data removed]",
            "text/plain": [
              "<Figure size 1728x1080 with 20 Axes>"
            ]
          },
          "metadata": {
            "tags": [],
            "needs_background": "light"
          }
        }
      ]
    },
    {
      "cell_type": "markdown",
      "metadata": {
        "id": "4IebOIBf3N7K",
        "colab_type": "text"
      },
      "source": [
        "Now we can have a broad picture of these attributes, and most of them are either normal or a bit skewed except num of doors attribute(since it is almost a binary case). Also, for number of cylinder, almost 4 cylinder has the dominant amount within the population density."
      ]
    },
    {
      "cell_type": "markdown",
      "metadata": {
        "id": "5kQiylADF89M",
        "colab_type": "text"
      },
      "source": [
        "Among these attributes, we can check our response variable city-mpg first"
      ]
    },
    {
      "cell_type": "code",
      "metadata": {
        "id": "7WIqW057rt2b",
        "colab_type": "code",
        "outputId": "cc120c5d-d17d-4aa7-dc14-f51fff1c6f5d",
        "colab": {
          "base_uri": "https://localhost:8080/",
          "height": 625
        }
      },
      "source": [
        "\n",
        "# make boxplot  \n",
        "# define some attributes\n",
        "\n",
        "auto_cm = auto['city_mpg']\n",
        "\n",
        "# define a new figure for plotting\n",
        "plt.figure(figsize=(10,10))\n",
        "\n",
        "# define the plot that will appear on the lefthand side of the subplot:\n",
        "\n",
        "# Matplotlib boxplot  \n",
        "plt.boxplot(x=auto_cm)\n",
        "\n",
        "# give the plot a title\n",
        "plt.title('city mile  Boxplot ')\n",
        "\n"
      ],
      "execution_count": 114,
      "outputs": [
        {
          "output_type": "execute_result",
          "data": {
            "text/plain": [
              "Text(0.5, 1.0, 'city mile  Boxplot ')"
            ]
          },
          "metadata": {
            "tags": []
          },
          "execution_count": 114
        },
        {
          "output_type": "display_data",
          "data": {
            "image/png": "[encoded data removed]",
            "text/plain": [
              "<Figure size 720x720 with 1 Axes>"
            ]
          },
          "metadata": {
            "tags": [],
            "needs_background": "light"
          }
        }
      ]
    },
    {
      "cell_type": "markdown",
      "metadata": {
        "id": "b1w32ubwa-wp",
        "colab_type": "text"
      },
      "source": [
        "We can tell our reponse variable is well balanced, and there are few outliers. "
      ]
    },
    {
      "cell_type": "markdown",
      "metadata": {
        "id": "3wUjsmLZUQUM",
        "colab_type": "text"
      },
      "source": [
        " Correlation Matrix plots or heat maps is used to see their coorelation values among variables. But in this data set, these four scatterplot is clear enough for showing correlations. I decided not to use other methods. And I want to focus on both clear indicators (Temperature and Exhaust Vacuum.)"
      ]
    },
    {
      "cell_type": "code",
      "metadata": {
        "id": "Xyi1PrWCgX0H",
        "colab_type": "code",
        "colab": {
          "base_uri": "https://localhost:8080/",
          "height": 745
        },
        "outputId": "a16acb75-a496-4440-98c4-d55249c62c72"
      },
      "source": [
        "#heat map\n",
        "cor= auto.corr()\n",
        "fig = plt.figure(figsize=(12,12))\n",
        "sns.heatmap(cor, annot=True, vmax=1, square=True, cmap=\"Blues\")"
      ],
      "execution_count": 115,
      "outputs": [
        {
          "output_type": "execute_result",
          "data": {
            "text/plain": [
              "<matplotlib.axes._subplots.AxesSubplot at 0x7fa401e2ea58>"
            ]
          },
          "metadata": {
            "tags": []
          },
          "execution_count": 115
        },
        {
          "output_type": "display_data",
          "data": {
            "image/png": "[encoded data removed]",
            "text/plain": [
              "<Figure size 864x864 with 2 Axes>"
            ]
          },
          "metadata": {
            "tags": [],
            "needs_background": "light"
          }
        }
      ]
    },
    {
      "cell_type": "markdown",
      "metadata": {
        "id": "7QK-ZWLS33pP",
        "colab_type": "text"
      },
      "source": [
        "Based on this heat map, there are some observations:\n",
        "- num of doors has some relatively strong negative coorelation with symboling\n",
        "- num of cylinder has strong positive coorelation with engine size and horsepower. \n",
        "- wheel base has stronger coorelation among length,width and curb weight.\n",
        "-engine size has stronger coorelation among length,width and curb weight as well.\n",
        "- city mpg has stronger negative coorelation with length,width, curb weight ,engine size and price. But it has strongest positive coorelation with highway mpg.\n",
        "-high way mpg shared similar situation. \n"
      ]
    },
    {
      "cell_type": "markdown",
      "metadata": {
        "id": "swhwXc_D5GLH",
        "colab_type": "text"
      },
      "source": [
        "In this map, there are multiple coorelations are closely related to car 's size. Even engine size coorelated to the length, And it actually make sense that since a bigger vehicle requires more power to boost and it may be more expansive( SUV vs small car)  . I can see city mpg shows a collinearity with highway mpg. These two attributes are almost identical "
      ]
    },
    {
      "cell_type": "markdown",
      "metadata": {
        "id": "e2VvVUNM4f0F",
        "colab_type": "text"
      },
      "source": [
        "###apply Scatterplot  ###"
      ]
    },
    {
      "cell_type": "markdown",
      "metadata": {
        "id": "fYbRn5aICGEM",
        "colab_type": "text"
      },
      "source": [
        "My domain knowlege told me some realtionship such as horsepower,engine size can be used to predict mpg. Now I want to check with some specific attributes by using scatterplot. "
      ]
    },
    {
      "cell_type": "code",
      "metadata": {
        "id": "mWYK27mjAjg1",
        "colab_type": "code",
        "colab": {
          "base_uri": "https://localhost:8080/",
          "height": 279
        },
        "outputId": "ce551b69-0b9d-46ea-b071-9eba92df3d0c"
      },
      "source": [
        "#print scatterplot for 'horsepower' vs 'city-mpg'\n",
        "scatter_plot = auto.plot.scatter('horsepower','city_mpg',color = 'b', s=3, marker = \"x\")"
      ],
      "execution_count": 93,
      "outputs": [
        {
          "output_type": "display_data",
          "data": {
            "image/png": "[encoded data removed]",
            "text/plain": [
              "<Figure size 432x288 with 1 Axes>"
            ]
          },
          "metadata": {
            "tags": [],
            "needs_background": "light"
          }
        }
      ]
    },
    {
      "cell_type": "markdown",
      "metadata": {
        "id": "y1ym9UVWCctf",
        "colab_type": "text"
      },
      "source": [
        "It is a very strong negative coorelation."
      ]
    },
    {
      "cell_type": "code",
      "metadata": {
        "id": "iFN2mVsFDELt",
        "colab_type": "code",
        "colab": {
          "base_uri": "https://localhost:8080/",
          "height": 280
        },
        "outputId": "4b066cea-83e0-40a0-e840-93c35bd4981c"
      },
      "source": [
        "#print scatterplot for 'engine-size' vs 'city-mpg'\n",
        "scatter_plot = auto.plot.scatter('engine_size','city_mpg',color = 'g', s=3, marker = \"x\")"
      ],
      "execution_count": 116,
      "outputs": [
        {
          "output_type": "display_data",
          "data": {
            "image/png": "[encoded data removed]",
            "text/plain": [
              "<Figure size 432x288 with 1 Axes>"
            ]
          },
          "metadata": {
            "tags": [],
            "needs_background": "light"
          }
        }
      ]
    },
    {
      "cell_type": "markdown",
      "metadata": {
        "id": "vI7Ext4_DgIz",
        "colab_type": "text"
      },
      "source": [
        "It is also a clear negative coorelation"
      ]
    },
    {
      "cell_type": "code",
      "metadata": {
        "id": "q2vOooLtIznV",
        "colab_type": "code",
        "colab": {
          "base_uri": "https://localhost:8080/",
          "height": 280
        },
        "outputId": "f6d2ffa9-045b-4da5-cc2f-636451a581b0"
      },
      "source": [
        "#print scatterplot for curb-weight' vs 'city-mpg'\n",
        "scatter_plot = auto.plot.scatter('curb_weight','city_mpg',color = 'k', s=3, marker = \"x\")"
      ],
      "execution_count": 117,
      "outputs": [
        {
          "output_type": "display_data",
          "data": {
            "image/png": "[encoded data removed]",
            "text/plain": [
              "<Figure size 432x288 with 1 Axes>"
            ]
          },
          "metadata": {
            "tags": [],
            "needs_background": "light"
          }
        }
      ]
    },
    {
      "cell_type": "code",
      "metadata": {
        "id": "iGWuAqupf8u_",
        "colab_type": "code",
        "colab": {
          "base_uri": "https://localhost:8080/",
          "height": 280
        },
        "outputId": "30994379-6a7b-4d46-be3c-2ffb93ce27d8"
      },
      "source": [
        "#print scatterplot for 'num_of_cylinders' vs 'city-mpg'\n",
        "scatter_plot = auto.plot.scatter('num_of_cylinders','city_mpg',color = 'y', s=3, marker = \"x\")"
      ],
      "execution_count": 118,
      "outputs": [
        {
          "output_type": "display_data",
          "data": {
            "image/png": "[encoded data removed]",
            "text/plain": [
              "<Figure size 432x288 with 1 Axes>"
            ]
          },
          "metadata": {
            "tags": [],
            "needs_background": "light"
          }
        }
      ]
    },
    {
      "cell_type": "markdown",
      "metadata": {
        "id": "J_NJ4MvbI8-D",
        "colab_type": "text"
      },
      "source": [
        "These four attributes except num of cylinders are very similar , and I would like to use them as the explantary variable. Num of cylindersz showed that either very few number of cylinder or large number of cylinders has low mpg. It is a limited predictor or mpg.( n>4 is useful)"
      ]
    },
    {
      "cell_type": "markdown",
      "metadata": {
        "id": "EONpjeQ7xLbs",
        "colab_type": "text"
      },
      "source": [
        "### Categorical data"
      ]
    },
    {
      "cell_type": "markdown",
      "metadata": {
        "id": "e9WE_deoxO95",
        "colab_type": "text"
      },
      "source": [
        "For the categorical data, I mainly focus on the proportion. "
      ]
    },
    {
      "cell_type": "code",
      "metadata": {
        "id": "6FWxvl3Mwm5g",
        "colab_type": "code",
        "colab": {
          "base_uri": "https://localhost:8080/",
          "height": 762
        },
        "outputId": "d5619d14-e5dc-4a8a-8b5c-c0de8a49c3eb"
      },
      "source": [
        "#categorical data\n",
        "\n",
        "#plot\n",
        "#define size\n",
        "fig = plt.figure(figsize=(12,12))\n",
        "#location\n",
        "plt.subplot(221)\n",
        "auto['make'].value_counts().plot.bar()\n",
        "plt.title(\"brand distribution\");\n",
        "#location\n",
        "plt.subplot(222)\n",
        "auto['fuel_type'].value_counts().plot.bar()\n",
        "plt.title(\"Fuel_type distribution\");\n",
        "#location\n",
        "plt.subplot(223)\n",
        "auto['aspiration'].value_counts().plot.bar()\n",
        "plt.title(\"aspiration distribution\");\n",
        "#location\n",
        "plt.subplot(224)\n",
        "auto['body_style'].value_counts().plot.bar()\n",
        "plt.title(\"body_style distribution\");\n",
        "\n"
      ],
      "execution_count": 127,
      "outputs": [
        {
          "output_type": "display_data",
          "data": {
            "image/png": "[encoded data removed]",
            "text/plain": [
              "<Figure size 864x864 with 4 Axes>"
            ]
          },
          "metadata": {
            "tags": [],
            "needs_background": "light"
          }
        }
      ]
    },
    {
      "cell_type": "markdown",
      "metadata": {
        "id": "Q-nx4aefy2fX",
        "colab_type": "text"
      },
      "source": [
        "Both fuel type and aspoiration showed some imbalance of data set and one is overwhelmly more than another. It can also drag means to one side. Then I print remaining categorical data"
      ]
    },
    {
      "cell_type": "code",
      "metadata": {
        "id": "E9E5ncyCy_EP",
        "colab_type": "code",
        "colab": {
          "base_uri": "https://localhost:8080/",
          "height": 736
        },
        "outputId": "3e74ef07-b3f2-49dd-c2b8-e1b2afae5c87"
      },
      "source": [
        "#plot\n",
        "#define size\n",
        "fig = plt.figure(figsize=(12,12))\n",
        "#location\n",
        "plt.subplot(221)\n",
        "auto['drive_wheels'].value_counts().plot.bar()\n",
        "plt.title(\"drive_wheels distribution\");\n",
        "#location\n",
        "plt.subplot(222)\n",
        "auto['engine_location'].value_counts().plot.bar()\n",
        "plt.title(\"engine_location distribution\");\n",
        "#location\n",
        "plt.subplot(223)\n",
        "auto['engine_type'].value_counts().plot.bar()\n",
        "plt.title(\"engine_type distribution\");\n",
        "#location\n",
        "plt.subplot(224)\n",
        "auto['fuel_system'].value_counts().plot.bar()\n",
        "plt.title(\"fuel_system distribution\");\n"
      ],
      "execution_count": 128,
      "outputs": [
        {
          "output_type": "display_data",
          "data": {
            "image/png": "[encoded data removed]",
            "text/plain": [
              "<Figure size 864x864 with 4 Axes>"
            ]
          },
          "metadata": {
            "tags": [],
            "needs_background": "light"
          }
        }
      ]
    },
    {
      "cell_type": "markdown",
      "metadata": {
        "id": "EndEKltnzjAf",
        "colab_type": "text"
      },
      "source": [
        "We can see that engine location has issue that almost all data belong to front. This distribution may be the issue of low variance. Similarly, engine_type has more than 70% data of ohc"
      ]
    },
    {
      "cell_type": "markdown",
      "metadata": {
        "id": "DyiOqUKgsHG9",
        "colab_type": "text"
      },
      "source": [
        "## Part 3 Feature Selection / Dimensionality Reduction  : ##\n",
        "Based on previous exploratory data analysis, then I would like to exclude some of the attributes.\n",
        "highway mpg is the attribute I want to exclude, it is definitely collinear with city mpg and it is almost identical to our desired response variable.\n",
        "\n",
        "Based on EDA and my domain knowlege, horsepower is a very good indicator for the response variable, along with 'engine-size'.\n"
      ]
    },
    {
      "cell_type": "markdown",
      "metadata": {
        "id": "D37OvviF-nGq",
        "colab_type": "text"
      },
      "source": [
        "So I will use forward selection and start with horsepower and engine-size "
      ]
    },
    {
      "cell_type": "markdown",
      "metadata": {
        "id": "_8J8fl-wMsqS",
        "colab_type": "text"
      },
      "source": [
        "Then I start with Feature Selection"
      ]
    },
    {
      "cell_type": "code",
      "metadata": {
        "id": "UH8LPCXAuHAZ",
        "colab_type": "code",
        "colab": {}
      },
      "source": [
        "#categorical data\n",
        "df = auto.copy()\n",
        "cate_col=[ 'make', 'fuel_type', 'aspiration','body_style', 'drive_wheels', 'engine_location', 'engine_type',  'fuel_system']\n",
        "cate_df=auto[]"
      ],
      "execution_count": 0,
      "outputs": []
    },
    {
      "cell_type": "markdown",
      "metadata": {
        "id": "yE62a_imKbTF",
        "colab_type": "text"
      },
      "source": [
        "### Model 1: Based on domain knowledge,VIF for feature selection"
      ]
    },
    {
      "cell_type": "markdown",
      "metadata": {
        "id": "9vrh96O_P3Lt",
        "colab_type": "text"
      },
      "source": [
        "###  VIF computing:\n",
        "For the vif calculation, I define function first"
      ]
    },
    {
      "cell_type": "code",
      "metadata": {
        "id": "7XjjvlTfpMSV",
        "colab_type": "code",
        "colab": {}
      },
      "source": [
        "#define function\n",
        "def func_vif(data):\n",
        "  '''\n",
        "  Computer VIF, showed result in pandas data frame \n",
        "  '''\n",
        "  data= pd.DataFrame\n",
        "  data['name']=data.columns\n",
        "  data['value']=[variance_inflation_factor(X.values, i) for i in range(Data.shape[1])]\n",
        "  return(data)"
      ],
      "execution_count": 0,
      "outputs": []
    },
    {
      "cell_type": "markdown",
      "metadata": {
        "id": "TmqHib_mqkO5",
        "colab_type": "text"
      },
      "source": [
        "After define function, we can set up with "
      ]
    },
    {
      "cell_type": "code",
      "metadata": {
        "id": "jnvhC36HrFtn",
        "colab_type": "code",
        "colab": {}
      },
      "source": [
        ""
      ],
      "execution_count": 0,
      "outputs": []
    },
    {
      "cell_type": "markdown",
      "metadata": {
        "id": "GA6Gpd3Xlgky",
        "colab_type": "text"
      },
      "source": [
        "### Forward  Selection"
      ]
    },
    {
      "cell_type": "markdown",
      "metadata": {
        "id": "8UXGsD3zB-jP",
        "colab_type": "text"
      },
      "source": [
        "I decide to start with horsepower as explantary variable and gradually increase one at a time"
      ]
    },
    {
      "cell_type": "code",
      "metadata": {
        "id": "B4Nm29KElmo6",
        "colab_type": "code",
        "colab": {}
      },
      "source": [
        "#define function\n",
        "\n",
        "def forward_select(data,y,pvalue)\n"
      ],
      "execution_count": 0,
      "outputs": []
    },
    {
      "cell_type": "markdown",
      "metadata": {
        "id": "Ktpyrx-g8q3a",
        "colab_type": "text"
      },
      "source": [
        "## Dimension reduction"
      ]
    },
    {
      "cell_type": "markdown",
      "metadata": {
        "id": "QkKOgTjbJpxr",
        "colab_type": "text"
      },
      "source": [
        "#### For the dimension reduction, PCA will be used"
      ]
    },
    {
      "cell_type": "code",
      "metadata": {
        "id": "W8MW0uXUhl9H",
        "colab_type": "code",
        "colab": {}
      },
      "source": [
        "#set up for PCA\n",
        "from sklearn import datasets\n",
        "import warnings\n",
        "warnings.filterwarnings('ignore')\n",
        "\n",
        "# load PCA + SVM classifier (\"SVC\") + cross validation functions\n",
        "from sklearn.decomposition import PCA\n",
        "from sklearn.svm import SVC\n",
        "from sklearn import model_selection\n",
        "\n",
        "# load the train_test_split function from the sklearn.model_selection module\n",
        "from sklearn.model_selection import train_test_split\n"
      ],
      "execution_count": 0,
      "outputs": []
    },
    {
      "cell_type": "markdown",
      "metadata": {
        "id": "QJO6cQQdmR-0",
        "colab_type": "text"
      },
      "source": [
        "I decide to use PCA model for dimension reduction.\n"
      ]
    },
    {
      "cell_type": "code",
      "metadata": {
        "id": "ucfK7Bs49IxH",
        "colab_type": "code",
        "colab": {
          "base_uri": "https://localhost:8080/",
          "height": 241
        },
        "outputId": "776b5710-4af1-4338-adc9-7c932f0e73e4"
      },
      "source": [
        "#convert categorical data for PCA computing\n",
        "dummy_data = pd.get_dummies(df)\n",
        "dummy_data.head()"
      ],
      "execution_count": 143,
      "outputs": [
        {
          "output_type": "execute_result",
          "data": {
            "text/html": [
              "<div>\n",
              "<style scoped>\n",
              "    .dataframe tbody tr th:only-of-type {\n",
              "        vertical-align: middle;\n",
              "    }\n",
              "\n",
              "    .dataframe tbody tr th {\n",
              "        vertical-align: top;\n",
              "    }\n",
              "\n",
              "    .dataframe thead th {\n",
              "        text-align: right;\n",
              "    }\n",
              "</style>\n",
              "<table border=\"1\" class=\"dataframe\">\n",
              "  <thead>\n",
              "    <tr style=\"text-align: right;\">\n",
              "      <th></th>\n",
              "      <th>symboling</th>\n",
              "      <th>normalized_losses</th>\n",
              "      <th>num_of_doors</th>\n",
              "      <th>wheel_base</th>\n",
              "      <th>length</th>\n",
              "      <th>width</th>\n",
              "      <th>height</th>\n",
              "      <th>curb_weight</th>\n",
              "      <th>num_of_cylinders</th>\n",
              "      <th>engine_size</th>\n",
              "      <th>bore</th>\n",
              "      <th>stroke</th>\n",
              "      <th>compression_ratio</th>\n",
              "      <th>horsepower</th>\n",
              "      <th>peak_rpm</th>\n",
              "      <th>city_mpg</th>\n",
              "      <th>highway_mpg</th>\n",
              "      <th>price</th>\n",
              "      <th>make_alfa-romero</th>\n",
              "      <th>make_audi</th>\n",
              "      <th>make_bmw</th>\n",
              "      <th>make_chevrolet</th>\n",
              "      <th>make_dodge</th>\n",
              "      <th>make_honda</th>\n",
              "      <th>make_isuzu</th>\n",
              "      <th>make_jaguar</th>\n",
              "      <th>make_mazda</th>\n",
              "      <th>make_mercedes-benz</th>\n",
              "      <th>make_mercury</th>\n",
              "      <th>make_mitsubishi</th>\n",
              "      <th>make_nissan</th>\n",
              "      <th>make_peugot</th>\n",
              "      <th>make_plymouth</th>\n",
              "      <th>make_porsche</th>\n",
              "      <th>make_renault</th>\n",
              "      <th>make_saab</th>\n",
              "      <th>make_subaru</th>\n",
              "      <th>make_toyota</th>\n",
              "      <th>make_volkswagen</th>\n",
              "      <th>make_volvo</th>\n",
              "      <th>fuel_type_diesel</th>\n",
              "      <th>fuel_type_gas</th>\n",
              "      <th>aspiration_std</th>\n",
              "      <th>aspiration_turbo</th>\n",
              "      <th>body_style_convertible</th>\n",
              "      <th>body_style_hardtop</th>\n",
              "      <th>body_style_hatchback</th>\n",
              "      <th>body_style_sedan</th>\n",
              "      <th>body_style_wagon</th>\n",
              "      <th>drive_wheels_4wd</th>\n",
              "      <th>drive_wheels_fwd</th>\n",
              "      <th>drive_wheels_rwd</th>\n",
              "      <th>engine_location_front</th>\n",
              "      <th>engine_location_rear</th>\n",
              "      <th>engine_type_dohc</th>\n",
              "      <th>engine_type_dohcv</th>\n",
              "      <th>engine_type_l</th>\n",
              "      <th>engine_type_ohc</th>\n",
              "      <th>engine_type_ohcf</th>\n",
              "      <th>engine_type_ohcv</th>\n",
              "      <th>engine_type_rotor</th>\n",
              "      <th>fuel_system_1bbl</th>\n",
              "      <th>fuel_system_2bbl</th>\n",
              "      <th>fuel_system_4bbl</th>\n",
              "      <th>fuel_system_idi</th>\n",
              "      <th>fuel_system_mfi</th>\n",
              "      <th>fuel_system_mpfi</th>\n",
              "      <th>fuel_system_spdi</th>\n",
              "      <th>fuel_system_spfi</th>\n",
              "    </tr>\n",
              "  </thead>\n",
              "  <tbody>\n",
              "    <tr>\n",
              "      <th>0</th>\n",
              "      <td>3</td>\n",
              "      <td>122.0</td>\n",
              "      <td>2.0</td>\n",
              "      <td>88.6</td>\n",
              "      <td>168.8</td>\n",
              "      <td>64.1</td>\n",
              "      <td>48.8</td>\n",
              "      <td>2548</td>\n",
              "      <td>4.0</td>\n",
              "      <td>130</td>\n",
              "      <td>3.47</td>\n",
              "      <td>2.68</td>\n",
              "      <td>9.0</td>\n",
              "      <td>111.0</td>\n",
              "      <td>5000.0</td>\n",
              "      <td>21</td>\n",
              "      <td>27</td>\n",
              "      <td>13495.0</td>\n",
              "      <td>1</td>\n",
              "      <td>0</td>\n",
              "      <td>0</td>\n",
              "      <td>0</td>\n",
              "      <td>0</td>\n",
              "      <td>0</td>\n",
              "      <td>0</td>\n",
              "      <td>0</td>\n",
              "      <td>0</td>\n",
              "      <td>0</td>\n",
              "      <td>0</td>\n",
              "      <td>0</td>\n",
              "      <td>0</td>\n",
              "      <td>0</td>\n",
              "      <td>0</td>\n",
              "      <td>0</td>\n",
              "      <td>0</td>\n",
              "      <td>0</td>\n",
              "      <td>0</td>\n",
              "      <td>0</td>\n",
              "      <td>0</td>\n",
              "      <td>0</td>\n",
              "      <td>0</td>\n",
              "      <td>1</td>\n",
              "      <td>1</td>\n",
              "      <td>0</td>\n",
              "      <td>1</td>\n",
              "      <td>0</td>\n",
              "      <td>0</td>\n",
              "      <td>0</td>\n",
              "      <td>0</td>\n",
              "      <td>0</td>\n",
              "      <td>0</td>\n",
              "      <td>1</td>\n",
              "      <td>1</td>\n",
              "      <td>0</td>\n",
              "      <td>1</td>\n",
              "      <td>0</td>\n",
              "      <td>0</td>\n",
              "      <td>0</td>\n",
              "      <td>0</td>\n",
              "      <td>0</td>\n",
              "      <td>0</td>\n",
              "      <td>0</td>\n",
              "      <td>0</td>\n",
              "      <td>0</td>\n",
              "      <td>0</td>\n",
              "      <td>0</td>\n",
              "      <td>1</td>\n",
              "      <td>0</td>\n",
              "      <td>0</td>\n",
              "    </tr>\n",
              "    <tr>\n",
              "      <th>1</th>\n",
              "      <td>3</td>\n",
              "      <td>122.0</td>\n",
              "      <td>2.0</td>\n",
              "      <td>88.6</td>\n",
              "      <td>168.8</td>\n",
              "      <td>64.1</td>\n",
              "      <td>48.8</td>\n",
              "      <td>2548</td>\n",
              "      <td>4.0</td>\n",
              "      <td>130</td>\n",
              "      <td>3.47</td>\n",
              "      <td>2.68</td>\n",
              "      <td>9.0</td>\n",
              "      <td>111.0</td>\n",
              "      <td>5000.0</td>\n",
              "      <td>21</td>\n",
              "      <td>27</td>\n",
              "      <td>16500.0</td>\n",
              "      <td>1</td>\n",
              "      <td>0</td>\n",
              "      <td>0</td>\n",
              "      <td>0</td>\n",
              "      <td>0</td>\n",
              "      <td>0</td>\n",
              "      <td>0</td>\n",
              "      <td>0</td>\n",
              "      <td>0</td>\n",
              "      <td>0</td>\n",
              "      <td>0</td>\n",
              "      <td>0</td>\n",
              "      <td>0</td>\n",
              "      <td>0</td>\n",
              "      <td>0</td>\n",
              "      <td>0</td>\n",
              "      <td>0</td>\n",
              "      <td>0</td>\n",
              "      <td>0</td>\n",
              "      <td>0</td>\n",
              "      <td>0</td>\n",
              "      <td>0</td>\n",
              "      <td>0</td>\n",
              "      <td>1</td>\n",
              "      <td>1</td>\n",
              "      <td>0</td>\n",
              "      <td>1</td>\n",
              "      <td>0</td>\n",
              "      <td>0</td>\n",
              "      <td>0</td>\n",
              "      <td>0</td>\n",
              "      <td>0</td>\n",
              "      <td>0</td>\n",
              "      <td>1</td>\n",
              "      <td>1</td>\n",
              "      <td>0</td>\n",
              "      <td>1</td>\n",
              "      <td>0</td>\n",
              "      <td>0</td>\n",
              "      <td>0</td>\n",
              "      <td>0</td>\n",
              "      <td>0</td>\n",
              "      <td>0</td>\n",
              "      <td>0</td>\n",
              "      <td>0</td>\n",
              "      <td>0</td>\n",
              "      <td>0</td>\n",
              "      <td>0</td>\n",
              "      <td>1</td>\n",
              "      <td>0</td>\n",
              "      <td>0</td>\n",
              "    </tr>\n",
              "    <tr>\n",
              "      <th>2</th>\n",
              "      <td>1</td>\n",
              "      <td>122.0</td>\n",
              "      <td>2.0</td>\n",
              "      <td>94.5</td>\n",
              "      <td>171.2</td>\n",
              "      <td>65.5</td>\n",
              "      <td>52.4</td>\n",
              "      <td>2823</td>\n",
              "      <td>6.0</td>\n",
              "      <td>152</td>\n",
              "      <td>2.68</td>\n",
              "      <td>3.47</td>\n",
              "      <td>9.0</td>\n",
              "      <td>154.0</td>\n",
              "      <td>5000.0</td>\n",
              "      <td>19</td>\n",
              "      <td>26</td>\n",
              "      <td>16500.0</td>\n",
              "      <td>1</td>\n",
              "      <td>0</td>\n",
              "      <td>0</td>\n",
              "      <td>0</td>\n",
              "      <td>0</td>\n",
              "      <td>0</td>\n",
              "      <td>0</td>\n",
              "      <td>0</td>\n",
              "      <td>0</td>\n",
              "      <td>0</td>\n",
              "      <td>0</td>\n",
              "      <td>0</td>\n",
              "      <td>0</td>\n",
              "      <td>0</td>\n",
              "      <td>0</td>\n",
              "      <td>0</td>\n",
              "      <td>0</td>\n",
              "      <td>0</td>\n",
              "      <td>0</td>\n",
              "      <td>0</td>\n",
              "      <td>0</td>\n",
              "      <td>0</td>\n",
              "      <td>0</td>\n",
              "      <td>1</td>\n",
              "      <td>1</td>\n",
              "      <td>0</td>\n",
              "      <td>0</td>\n",
              "      <td>0</td>\n",
              "      <td>1</td>\n",
              "      <td>0</td>\n",
              "      <td>0</td>\n",
              "      <td>0</td>\n",
              "      <td>0</td>\n",
              "      <td>1</td>\n",
              "      <td>1</td>\n",
              "      <td>0</td>\n",
              "      <td>0</td>\n",
              "      <td>0</td>\n",
              "      <td>0</td>\n",
              "      <td>0</td>\n",
              "      <td>0</td>\n",
              "      <td>1</td>\n",
              "      <td>0</td>\n",
              "      <td>0</td>\n",
              "      <td>0</td>\n",
              "      <td>0</td>\n",
              "      <td>0</td>\n",
              "      <td>0</td>\n",
              "      <td>1</td>\n",
              "      <td>0</td>\n",
              "      <td>0</td>\n",
              "    </tr>\n",
              "    <tr>\n",
              "      <th>3</th>\n",
              "      <td>2</td>\n",
              "      <td>164.0</td>\n",
              "      <td>4.0</td>\n",
              "      <td>99.8</td>\n",
              "      <td>176.6</td>\n",
              "      <td>66.2</td>\n",
              "      <td>54.3</td>\n",
              "      <td>2337</td>\n",
              "      <td>4.0</td>\n",
              "      <td>109</td>\n",
              "      <td>3.19</td>\n",
              "      <td>3.40</td>\n",
              "      <td>10.0</td>\n",
              "      <td>102.0</td>\n",
              "      <td>5500.0</td>\n",
              "      <td>24</td>\n",
              "      <td>30</td>\n",
              "      <td>13950.0</td>\n",
              "      <td>0</td>\n",
              "      <td>1</td>\n",
              "      <td>0</td>\n",
              "      <td>0</td>\n",
              "      <td>0</td>\n",
              "      <td>0</td>\n",
              "      <td>0</td>\n",
              "      <td>0</td>\n",
              "      <td>0</td>\n",
              "      <td>0</td>\n",
              "      <td>0</td>\n",
              "      <td>0</td>\n",
              "      <td>0</td>\n",
              "      <td>0</td>\n",
              "      <td>0</td>\n",
              "      <td>0</td>\n",
              "      <td>0</td>\n",
              "      <td>0</td>\n",
              "      <td>0</td>\n",
              "      <td>0</td>\n",
              "      <td>0</td>\n",
              "      <td>0</td>\n",
              "      <td>0</td>\n",
              "      <td>1</td>\n",
              "      <td>1</td>\n",
              "      <td>0</td>\n",
              "      <td>0</td>\n",
              "      <td>0</td>\n",
              "      <td>0</td>\n",
              "      <td>1</td>\n",
              "      <td>0</td>\n",
              "      <td>0</td>\n",
              "      <td>1</td>\n",
              "      <td>0</td>\n",
              "      <td>1</td>\n",
              "      <td>0</td>\n",
              "      <td>0</td>\n",
              "      <td>0</td>\n",
              "      <td>0</td>\n",
              "      <td>1</td>\n",
              "      <td>0</td>\n",
              "      <td>0</td>\n",
              "      <td>0</td>\n",
              "      <td>0</td>\n",
              "      <td>0</td>\n",
              "      <td>0</td>\n",
              "      <td>0</td>\n",
              "      <td>0</td>\n",
              "      <td>1</td>\n",
              "      <td>0</td>\n",
              "      <td>0</td>\n",
              "    </tr>\n",
              "    <tr>\n",
              "      <th>4</th>\n",
              "      <td>2</td>\n",
              "      <td>164.0</td>\n",
              "      <td>4.0</td>\n",
              "      <td>99.4</td>\n",
              "      <td>176.6</td>\n",
              "      <td>66.4</td>\n",
              "      <td>54.3</td>\n",
              "      <td>2824</td>\n",
              "      <td>5.0</td>\n",
              "      <td>136</td>\n",
              "      <td>3.19</td>\n",
              "      <td>3.40</td>\n",
              "      <td>8.0</td>\n",
              "      <td>115.0</td>\n",
              "      <td>5500.0</td>\n",
              "      <td>18</td>\n",
              "      <td>22</td>\n",
              "      <td>17450.0</td>\n",
              "      <td>0</td>\n",
              "      <td>1</td>\n",
              "      <td>0</td>\n",
              "      <td>0</td>\n",
              "      <td>0</td>\n",
              "      <td>0</td>\n",
              "      <td>0</td>\n",
              "      <td>0</td>\n",
              "      <td>0</td>\n",
              "      <td>0</td>\n",
              "      <td>0</td>\n",
              "      <td>0</td>\n",
              "      <td>0</td>\n",
              "      <td>0</td>\n",
              "      <td>0</td>\n",
              "      <td>0</td>\n",
              "      <td>0</td>\n",
              "      <td>0</td>\n",
              "      <td>0</td>\n",
              "      <td>0</td>\n",
              "      <td>0</td>\n",
              "      <td>0</td>\n",
              "      <td>0</td>\n",
              "      <td>1</td>\n",
              "      <td>1</td>\n",
              "      <td>0</td>\n",
              "      <td>0</td>\n",
              "      <td>0</td>\n",
              "      <td>0</td>\n",
              "      <td>1</td>\n",
              "      <td>0</td>\n",
              "      <td>1</td>\n",
              "      <td>0</td>\n",
              "      <td>0</td>\n",
              "      <td>1</td>\n",
              "      <td>0</td>\n",
              "      <td>0</td>\n",
              "      <td>0</td>\n",
              "      <td>0</td>\n",
              "      <td>1</td>\n",
              "      <td>0</td>\n",
              "      <td>0</td>\n",
              "      <td>0</td>\n",
              "      <td>0</td>\n",
              "      <td>0</td>\n",
              "      <td>0</td>\n",
              "      <td>0</td>\n",
              "      <td>0</td>\n",
              "      <td>1</td>\n",
              "      <td>0</td>\n",
              "      <td>0</td>\n",
              "    </tr>\n",
              "  </tbody>\n",
              "</table>\n",
              "</div>"
            ],
            "text/plain": [
              "   symboling  normalized_losses  ...  fuel_system_spdi  fuel_system_spfi\n",
              "0          3              122.0  ...                 0                 0\n",
              "1          3              122.0  ...                 0                 0\n",
              "2          1              122.0  ...                 0                 0\n",
              "3          2              164.0  ...                 0                 0\n",
              "4          2              164.0  ...                 0                 0\n",
              "\n",
              "[5 rows x 69 columns]"
            ]
          },
          "metadata": {
            "tags": []
          },
          "execution_count": 143
        }
      ]
    },
    {
      "cell_type": "markdown",
      "metadata": {
        "id": "cpfgah93F2Rm",
        "colab_type": "text"
      },
      "source": [
        "For using PCA, we need to make sure the data has been scaled"
      ]
    },
    {
      "cell_type": "code",
      "metadata": {
        "id": "hcIbmzfzFGbZ",
        "colab_type": "code",
        "colab": {}
      },
      "source": [
        "#make sure data is rescaled\n",
        "from sklearn.preprocessing import MinMaxScaler\n",
        "scaler = MinMaxScaler()\n",
        "data_rescaled = scaler.fit_transform(dummy_data)"
      ],
      "execution_count": 0,
      "outputs": []
    },
    {
      "cell_type": "code",
      "metadata": {
        "id": "a27NqGMwmUUd",
        "colab_type": "code",
        "colab": {
          "base_uri": "https://localhost:8080/",
          "height": 107
        },
        "outputId": "7af990d8-d1d0-4c6c-e467-3471f52d3be9"
      },
      "source": [
        "# assign the explanatory variables to a Python object\n",
        "X = data_rescaled\n",
        "\n",
        "# assign the response variable to a Python object\n",
        "y = auto['city_mpg']\n",
        "\n",
        "\n",
        "# split the data into training + testing subsets\n",
        "X_train, X_test, y_train, y_test = train_test_split(X, y, test_size=0.2, random_state=22)\n",
        "\n",
        "# create an instance of a PCA model +\n",
        "# Since we would like the explained variance to be between 95–99% I decide to be 95%\n",
        "pca = PCA(n_components= 0.95)\n",
        "\n",
        "# apply the PCA function to the training data\n",
        "pca.fit(X_train)\n",
        "\n",
        "# display the explained variance ratio for the principal components we've derived from the data\n",
        "print(pca.explained_variance_ratio_)"
      ],
      "execution_count": 157,
      "outputs": [
        {
          "output_type": "stream",
          "text": [
            "[0.20977415 0.13599415 0.10271172 0.06484947 0.05529407 0.04558143\n",
            " 0.03981587 0.03286772 0.02926498 0.02720125 0.02438598 0.02378124\n",
            " 0.01879775 0.01652414 0.01589782 0.01510493 0.01439334 0.01307645\n",
            " 0.01127889 0.01013842 0.00924227 0.00864387 0.00797852 0.00687452\n",
            " 0.0068086  0.00592216]\n"
          ],
          "name": "stdout"
        }
      ]
    },
    {
      "cell_type": "code",
      "metadata": {
        "id": "0ks8JSnAFrhZ",
        "colab_type": "code",
        "colab": {
          "base_uri": "https://localhost:8080/",
          "height": 35
        },
        "outputId": "556288b5-454c-4f6a-fe20-53ad1efc667b"
      },
      "source": [
        "pca.explained_variance_ratio_.sum()"
      ],
      "execution_count": 158,
      "outputs": [
        {
          "output_type": "execute_result",
          "data": {
            "text/plain": [
              "0.9522037152074762"
            ]
          },
          "metadata": {
            "tags": []
          },
          "execution_count": 158
        }
      ]
    },
    {
      "cell_type": "markdown",
      "metadata": {
        "id": "0_TGU_vK-bcU",
        "colab_type": "text"
      },
      "source": [
        "This explained total 95.22% of variance and it make sense since it used all the data."
      ]
    },
    {
      "cell_type": "markdown",
      "metadata": {
        "id": "bTcZZHeSwimg",
        "colab_type": "text"
      },
      "source": [
        "## Part 4  Regression Model Evaluation : ##\n",
        "Since PCA model is showed before, Now I continue to build another model for testing.\n",
        "Firstly I would like to build one based on domain knowledge, VIF. Attributes are chosen manually. "
      ]
    },
    {
      "cell_type": "code",
      "metadata": {
        "id": "F7Vnlk7tnGIf",
        "colab_type": "code",
        "colab": {}
      },
      "source": [
        "\n",
        "#set explanatory variable to X  \n",
        "X = auto[['horsepower','engine_size','curb_weight','num_of_cylinders']]\n",
        "# give  variable to y\n",
        "y = auto['city_mpg']\n",
        "# Now split the data into training and testing subsets. \n",
        "# We'll set aside 20% of the data for testing purposes;\n",
        "X_train, X_test, y_train, y_test = train_test_split(X, y, test_size=0.2, random_state=22)"
      ],
      "execution_count": 0,
      "outputs": []
    },
    {
      "cell_type": "markdown",
      "metadata": {
        "id": "zM36NdplptIT",
        "colab_type": "text"
      },
      "source": [
        "Then check the setup"
      ]
    },
    {
      "cell_type": "code",
      "metadata": {
        "id": "JscZlzxVpsIe",
        "colab_type": "code",
        "outputId": "42f392dc-ee8b-4975-fa18-ef91c7abf800",
        "colab": {
          "base_uri": "https://localhost:8080/",
          "height": 204
        }
      },
      "source": [
        "# show first five rows of X_train\n",
        "X_train.head()"
      ],
      "execution_count": 147,
      "outputs": [
        {
          "output_type": "execute_result",
          "data": {
            "text/html": [
              "<div>\n",
              "<style scoped>\n",
              "    .dataframe tbody tr th:only-of-type {\n",
              "        vertical-align: middle;\n",
              "    }\n",
              "\n",
              "    .dataframe tbody tr th {\n",
              "        vertical-align: top;\n",
              "    }\n",
              "\n",
              "    .dataframe thead th {\n",
              "        text-align: right;\n",
              "    }\n",
              "</style>\n",
              "<table border=\"1\" class=\"dataframe\">\n",
              "  <thead>\n",
              "    <tr style=\"text-align: right;\">\n",
              "      <th></th>\n",
              "      <th>horsepower</th>\n",
              "      <th>engine_size</th>\n",
              "      <th>curb_weight</th>\n",
              "      <th>num_of_cylinders</th>\n",
              "    </tr>\n",
              "  </thead>\n",
              "  <tbody>\n",
              "    <tr>\n",
              "      <th>72</th>\n",
              "      <td>155.0</td>\n",
              "      <td>234</td>\n",
              "      <td>3685</td>\n",
              "      <td>8.0</td>\n",
              "    </tr>\n",
              "    <tr>\n",
              "      <th>61</th>\n",
              "      <td>84.0</td>\n",
              "      <td>122</td>\n",
              "      <td>2385</td>\n",
              "      <td>4.0</td>\n",
              "    </tr>\n",
              "    <tr>\n",
              "      <th>6</th>\n",
              "      <td>110.0</td>\n",
              "      <td>136</td>\n",
              "      <td>2844</td>\n",
              "      <td>5.0</td>\n",
              "    </tr>\n",
              "    <tr>\n",
              "      <th>159</th>\n",
              "      <td>56.0</td>\n",
              "      <td>110</td>\n",
              "      <td>2275</td>\n",
              "      <td>4.0</td>\n",
              "    </tr>\n",
              "    <tr>\n",
              "      <th>2</th>\n",
              "      <td>154.0</td>\n",
              "      <td>152</td>\n",
              "      <td>2823</td>\n",
              "      <td>6.0</td>\n",
              "    </tr>\n",
              "  </tbody>\n",
              "</table>\n",
              "</div>"
            ],
            "text/plain": [
              "     horsepower  engine_size  curb_weight  num_of_cylinders\n",
              "72        155.0          234         3685               8.0\n",
              "61         84.0          122         2385               4.0\n",
              "6         110.0          136         2844               5.0\n",
              "159        56.0          110         2275               4.0\n",
              "2         154.0          152         2823               6.0"
            ]
          },
          "metadata": {
            "tags": []
          },
          "execution_count": 147
        }
      ]
    },
    {
      "cell_type": "markdown",
      "metadata": {
        "colab_type": "text",
        "id": "XEkxExmKiWm5"
      },
      "source": [
        "## Model for Crossvalidation"
      ]
    },
    {
      "cell_type": "markdown",
      "metadata": {
        "id": "QIVOnbW1Dfsa",
        "colab_type": "text"
      },
      "source": [
        "I choose 10 fold for its low bias and modest variance."
      ]
    },
    {
      "cell_type": "code",
      "metadata": {
        "id": "cXm5JvTqk1gM",
        "colab_type": "code",
        "colab": {}
      },
      "source": [
        "# create a new dataframe containing only the variables (our explanatory variables for the linear\n",
        "# regression model)\n",
        "newX_train = X_train.copy()\n",
        "\n"
      ],
      "execution_count": 0,
      "outputs": []
    },
    {
      "cell_type": "code",
      "metadata": {
        "id": "zOR7q2kvs1_J",
        "colab_type": "code",
        "outputId": "98b0188e-8603-43d2-caf5-19f2a6c72f15",
        "colab": {
          "base_uri": "https://localhost:8080/",
          "height": 89
        }
      },
      "source": [
        "\n",
        "# Define a linear regression model\n",
        "model = LinearRegression()\n",
        "\n",
        "# fit the model using 10-fold cross validation\n",
        "scores = cross_val_score(model, newX_train, y_train, cv=10)\n",
        "\n",
        "# print out the accuracy \n",
        "print (scores)\n",
        "\n",
        "# use np.mean to get the average scores\n",
        "print(\"average socre for model1:\",np.mean(scores))\n",
        "print()"
      ],
      "execution_count": 154,
      "outputs": [
        {
          "output_type": "stream",
          "text": [
            "[0.78138604 0.65865828 0.7749479  0.64230762 0.70472464 0.46046567\n",
            " 0.57406581 0.32028354 0.78311587 0.80364114]\n",
            "average socre for model1: 0.6503596507999717\n",
            "\n"
          ],
          "name": "stdout"
        }
      ]
    },
    {
      "cell_type": "markdown",
      "metadata": {
        "id": "ooau6V7qsYC0",
        "colab_type": "text"
      },
      "source": [
        " I get 65% accuracy, the answer is not quite pleasant although it is  better than random guess"
      ]
    },
    {
      "cell_type": "markdown",
      "metadata": {
        "id": "dN4ja5EUu1fV",
        "colab_type": "text"
      },
      "source": [
        "Based on my PCA model and one of the feature selection model, I can say that PCA model has a better performance."
      ]
    },
    {
      "cell_type": "markdown",
      "metadata": {
        "colab_type": "text",
        "id": "E_Xxp--lsa-l"
      },
      "source": [
        "## Part 5 Conclusion: ##\n",
        "\n",
        "Based on this analysis and the regression model, I can say that among the models I run, best model is a PCA dimension reducing model which can explain 95% of variance. "
      ]
    },
    {
      "cell_type": "markdown",
      "metadata": {
        "id": "u7HggYBrPjAq",
        "colab_type": "text"
      },
      "source": [
        "## Reference\n",
        "1. https://www.mikulskibartosz.name/pca-how-to-choose-the-number-of-components/ deciding PCA\n",
        "\n",
        "2. https://www.kdnuggets.com/2018/06/step-forward-feature-selection-python.html Forward Selection\n"
      ]
    }
  ]
}