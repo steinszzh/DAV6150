{
  "nbformat": 4,
  "nbformat_minor": 0,
  "metadata": {
    "colab": {
      "name": "zh_zhang_M2_assn_.ipynb",
      "provenance": [],
      "collapsed_sections": []
    },
    "kernelspec": {
      "name": "python3",
      "display_name": "Python 3"
    }
  },
  "cells": [
    {
      "cell_type": "markdown",
      "metadata": {
        "id": "UOtd9Hdnx_J8",
        "colab_type": "text"
      },
      "source": [
        "# DAV 6150 Module 2 Assignment-Cross Validation\n"
      ]
    },
    {
      "cell_type": "markdown",
      "metadata": {
        "id": "3I1NTBZlxw7I",
        "colab_type": "text"
      },
      "source": [
        "Zhihong Zhang"
      ]
    },
    {
      "cell_type": "markdown",
      "metadata": {
        "id": "635FKUjL7QMX",
        "colab_type": "text"
      },
      "source": [
        "## Introduction## \n",
        "The module is aiming to develop insights and analysis of a combined cycle power plant data set. As the first module of the class, I need to  construct a cross validated linear regression model that predicts the energy production of a power plant. The general method I plan to do is to do a exploratory data analysis to decide good indicator of response variable. And Based on the this result, then decided to build linear regression model and using K fold validation to test accuracy."
      ]
    },
    {
      "cell_type": "markdown",
      "metadata": {
        "id": "RE-TutFQguYC",
        "colab_type": "text"
      },
      "source": [
        "## Data to be Used ##\n",
        "The initial data set that was used for this research comes from the  UCI repository https://archive.ics.uci.edu/ml/datasets/Combined+Cycle+Power+Plant#. The data set is a csv format file which can be easily loaded into Python by utilizing the pandas package.  The data points collected from a Combined Cycle Power Plant over 6 years (2006-2011), when the power plant was set to work with full load., and it is used to generate the observable pattern and visualizations. \n"
      ]
    },
    {
      "cell_type": "markdown",
      "metadata": {
        "id": "lChrnb73zC9T",
        "colab_type": "text"
      },
      "source": [
        "## Part 1 Data Acquisition: ##"
      ]
    },
    {
      "cell_type": "code",
      "metadata": {
        "id": "NiqTMtKid5JV",
        "colab_type": "code",
        "outputId": "30d77a21-fa66-4f3b-d01f-632dcaaecd1d",
        "colab": {
          "base_uri": "https://localhost:8080/",
          "height": 197
        }
      },
      "source": [
        "#import library\n",
        "import numpy as np\n",
        "import pandas as pd\n",
        "import seaborn as sns\n",
        "import matplotlib.pyplot as plt\n",
        "\n",
        "from sklearn.model_selection import KFold\n",
        "# load the LinearRegression() function from sklearn's 'linear_model' sub-library\n",
        "from sklearn.linear_model import LinearRegression\n",
        "\n",
        "# load the cross_val_score function from the sklearn.model_selection module\n",
        "from sklearn.model_selection import cross_val_score\n",
        "\n",
        "#reads data from the original source, since first row is column name,also add header. \n",
        "plant = pd.read_csv(\"https://raw.githubusercontent.com/steinszzh/DAV6150/master/m2hw/M2_Data.csv\")\n",
        "\n",
        "# data set check - make sure data was read in as expected\n",
        "plant.head() "
      ],
      "execution_count": 101,
      "outputs": [
        {
          "output_type": "execute_result",
          "data": {
            "text/html": [
              "<div>\n",
              "<style scoped>\n",
              "    .dataframe tbody tr th:only-of-type {\n",
              "        vertical-align: middle;\n",
              "    }\n",
              "\n",
              "    .dataframe tbody tr th {\n",
              "        vertical-align: top;\n",
              "    }\n",
              "\n",
              "    .dataframe thead th {\n",
              "        text-align: right;\n",
              "    }\n",
              "</style>\n",
              "<table border=\"1\" class=\"dataframe\">\n",
              "  <thead>\n",
              "    <tr style=\"text-align: right;\">\n",
              "      <th></th>\n",
              "      <th>T</th>\n",
              "      <th>V</th>\n",
              "      <th>AP</th>\n",
              "      <th>RH</th>\n",
              "      <th>EP</th>\n",
              "    </tr>\n",
              "  </thead>\n",
              "  <tbody>\n",
              "    <tr>\n",
              "      <th>0</th>\n",
              "      <td>14.96</td>\n",
              "      <td>41.76</td>\n",
              "      <td>1024.07</td>\n",
              "      <td>73.17</td>\n",
              "      <td>463.26</td>\n",
              "    </tr>\n",
              "    <tr>\n",
              "      <th>1</th>\n",
              "      <td>25.18</td>\n",
              "      <td>62.96</td>\n",
              "      <td>1020.04</td>\n",
              "      <td>59.08</td>\n",
              "      <td>444.37</td>\n",
              "    </tr>\n",
              "    <tr>\n",
              "      <th>2</th>\n",
              "      <td>5.11</td>\n",
              "      <td>39.40</td>\n",
              "      <td>1012.16</td>\n",
              "      <td>92.14</td>\n",
              "      <td>488.56</td>\n",
              "    </tr>\n",
              "    <tr>\n",
              "      <th>3</th>\n",
              "      <td>20.86</td>\n",
              "      <td>57.32</td>\n",
              "      <td>1010.24</td>\n",
              "      <td>76.64</td>\n",
              "      <td>446.48</td>\n",
              "    </tr>\n",
              "    <tr>\n",
              "      <th>4</th>\n",
              "      <td>10.82</td>\n",
              "      <td>37.50</td>\n",
              "      <td>1009.23</td>\n",
              "      <td>96.62</td>\n",
              "      <td>473.90</td>\n",
              "    </tr>\n",
              "  </tbody>\n",
              "</table>\n",
              "</div>"
            ],
            "text/plain": [
              "       T      V       AP     RH      EP\n",
              "0  14.96  41.76  1024.07  73.17  463.26\n",
              "1  25.18  62.96  1020.04  59.08  444.37\n",
              "2   5.11  39.40  1012.16  92.14  488.56\n",
              "3  20.86  57.32  1010.24  76.64  446.48\n",
              "4  10.82  37.50  1009.23  96.62  473.90"
            ]
          },
          "metadata": {
            "tags": []
          },
          "execution_count": 101
        }
      ]
    },
    {
      "cell_type": "markdown",
      "metadata": {
        "colab_type": "text",
        "id": "HzKJ5Z7cghy4"
      },
      "source": [
        "### Data preparation: ###"
      ]
    },
    {
      "cell_type": "markdown",
      "metadata": {
        "id": "v_deAd507fAH",
        "colab_type": "text"
      },
      "source": [
        "Based on attributes information from UCI, the attributes are showed as follows\n",
        "Features consist of hourly average ambient variables \n",
        "- Temperature (T) in the range 1.81°C and 37.11°C,\n",
        "- Ambient Pressure (AP) in the range 992.89-1033.30 milibar,\n",
        "- Relative Humidity (RH) in the range 25.56% to 100.16%\n",
        "- Exhaust Vacuum (V) in teh range 25.36-81.56 cm Hg\n",
        "- Net hourly electrical energy output (EP) 420.26-495.76 MW\n",
        "The averages are taken from various sensors located around the plant that record the ambient variables every second. The variables are given without normalization. "
      ]
    },
    {
      "cell_type": "markdown",
      "metadata": {
        "id": "ta5WXCks3tJM",
        "colab_type": "text"
      },
      "source": [
        "The first thing to do is to check the null value and if there exist null value, replace or drop missing data. "
      ]
    },
    {
      "cell_type": "code",
      "metadata": {
        "id": "E_qPiujBtELs",
        "colab_type": "code",
        "colab": {
          "base_uri": "https://localhost:8080/",
          "height": 34
        },
        "outputId": "07103a44-cd2e-470c-ad56-96205b8e87e1"
      },
      "source": [
        "# how many observations are contained within the example data set?\n",
        "len(plant)"
      ],
      "execution_count": 102,
      "outputs": [
        {
          "output_type": "execute_result",
          "data": {
            "text/plain": [
              "9568"
            ]
          },
          "metadata": {
            "tags": []
          },
          "execution_count": 102
        }
      ]
    },
    {
      "cell_type": "code",
      "metadata": {
        "id": "LQwKOnPIL7z_",
        "colab_type": "code",
        "colab": {
          "base_uri": "https://localhost:8080/",
          "height": 34
        },
        "outputId": "1a608d6f-7f00-45ba-ec4c-91096735c34b"
      },
      "source": [
        "#check whether there is none value\n",
        "plant['T'].isnull().sum()"
      ],
      "execution_count": 103,
      "outputs": [
        {
          "output_type": "execute_result",
          "data": {
            "text/plain": [
              "0"
            ]
          },
          "metadata": {
            "tags": []
          },
          "execution_count": 103
        }
      ]
    },
    {
      "cell_type": "code",
      "metadata": {
        "id": "19dkQmBWLeKC",
        "colab_type": "code",
        "colab": {
          "base_uri": "https://localhost:8080/",
          "height": 34
        },
        "outputId": "41377804-6d78-4f45-c26c-f57e0972c14a"
      },
      "source": [
        "# similarly, check other columns\n",
        "#run other four,but only show code of last one\n",
        "#plant['V'].isnull().sum()\n",
        "#plant['AP'].isnull().sum()\n",
        "#plant['RH'].isnull().sum()\n",
        "plant['EP'].isnull().sum()"
      ],
      "execution_count": 104,
      "outputs": [
        {
          "output_type": "execute_result",
          "data": {
            "text/plain": [
              "0"
            ]
          },
          "metadata": {
            "tags": []
          },
          "execution_count": 104
        }
      ]
    },
    {
      "cell_type": "markdown",
      "metadata": {
        "id": "VJAdO5vmPBtx",
        "colab_type": "text"
      },
      "source": [
        "based on these results, there is no null values, and null value check passed.\n",
        "\n",
        "\n"
      ]
    },
    {
      "cell_type": "markdown",
      "metadata": {
        "id": "gyL3v3fezH42",
        "colab_type": "text"
      },
      "source": [
        "### Renaming the column based on UCI repostitory "
      ]
    },
    {
      "cell_type": "markdown",
      "metadata": {
        "id": "25U4OqR67vhb",
        "colab_type": "text"
      },
      "source": [
        "Since original name is abstract, and we then need to rename the column to give a meaningful title based on UCI repository. "
      ]
    },
    {
      "cell_type": "code",
      "metadata": {
        "id": "Z4XI9ij-7zEK",
        "colab_type": "code",
        "colab": {
          "base_uri": "https://localhost:8080/",
          "height": 197
        },
        "outputId": "aeab8f12-3e82-43c3-90e4-801f9c81fd5a"
      },
      "source": [
        "# rename the column\n",
        "plant.rename(columns={'T':'Temperature', 'V':'Exhaust_Vacuum','AP':'Ambient_Pressure' ,'RH':'Relative_Humidity','EP':'Energy_output'}, inplace=True)\n",
        "plant.head()"
      ],
      "execution_count": 105,
      "outputs": [
        {
          "output_type": "execute_result",
          "data": {
            "text/html": [
              "<div>\n",
              "<style scoped>\n",
              "    .dataframe tbody tr th:only-of-type {\n",
              "        vertical-align: middle;\n",
              "    }\n",
              "\n",
              "    .dataframe tbody tr th {\n",
              "        vertical-align: top;\n",
              "    }\n",
              "\n",
              "    .dataframe thead th {\n",
              "        text-align: right;\n",
              "    }\n",
              "</style>\n",
              "<table border=\"1\" class=\"dataframe\">\n",
              "  <thead>\n",
              "    <tr style=\"text-align: right;\">\n",
              "      <th></th>\n",
              "      <th>Temperature</th>\n",
              "      <th>Exhaust_Vacuum</th>\n",
              "      <th>Ambient_Pressure</th>\n",
              "      <th>Relative_Humidity</th>\n",
              "      <th>Energy_output</th>\n",
              "    </tr>\n",
              "  </thead>\n",
              "  <tbody>\n",
              "    <tr>\n",
              "      <th>0</th>\n",
              "      <td>14.96</td>\n",
              "      <td>41.76</td>\n",
              "      <td>1024.07</td>\n",
              "      <td>73.17</td>\n",
              "      <td>463.26</td>\n",
              "    </tr>\n",
              "    <tr>\n",
              "      <th>1</th>\n",
              "      <td>25.18</td>\n",
              "      <td>62.96</td>\n",
              "      <td>1020.04</td>\n",
              "      <td>59.08</td>\n",
              "      <td>444.37</td>\n",
              "    </tr>\n",
              "    <tr>\n",
              "      <th>2</th>\n",
              "      <td>5.11</td>\n",
              "      <td>39.40</td>\n",
              "      <td>1012.16</td>\n",
              "      <td>92.14</td>\n",
              "      <td>488.56</td>\n",
              "    </tr>\n",
              "    <tr>\n",
              "      <th>3</th>\n",
              "      <td>20.86</td>\n",
              "      <td>57.32</td>\n",
              "      <td>1010.24</td>\n",
              "      <td>76.64</td>\n",
              "      <td>446.48</td>\n",
              "    </tr>\n",
              "    <tr>\n",
              "      <th>4</th>\n",
              "      <td>10.82</td>\n",
              "      <td>37.50</td>\n",
              "      <td>1009.23</td>\n",
              "      <td>96.62</td>\n",
              "      <td>473.90</td>\n",
              "    </tr>\n",
              "  </tbody>\n",
              "</table>\n",
              "</div>"
            ],
            "text/plain": [
              "   Temperature  Exhaust_Vacuum  ...  Relative_Humidity  Energy_output\n",
              "0        14.96           41.76  ...              73.17         463.26\n",
              "1        25.18           62.96  ...              59.08         444.37\n",
              "2         5.11           39.40  ...              92.14         488.56\n",
              "3        20.86           57.32  ...              76.64         446.48\n",
              "4        10.82           37.50  ...              96.62         473.90\n",
              "\n",
              "[5 rows x 5 columns]"
            ]
          },
          "metadata": {
            "tags": []
          },
          "execution_count": 105
        }
      ]
    },
    {
      "cell_type": "markdown",
      "metadata": {
        "id": "K1EKlN3D4Be8",
        "colab_type": "text"
      },
      "source": [
        "After getting raw data preparation,we can then launch EDA."
      ]
    },
    {
      "cell_type": "markdown",
      "metadata": {
        "colab_type": "text",
        "id": "-fOR2hpxgnLs"
      },
      "source": [
        "## Part 2 Exporatory data analysis (EDA): ##"
      ]
    },
    {
      "cell_type": "markdown",
      "metadata": {
        "id": "sB15iut34JSn",
        "colab_type": "text"
      },
      "source": [
        "Firstly I start with general statistiics of data set. "
      ]
    },
    {
      "cell_type": "code",
      "metadata": {
        "id": "YjmdbUisSgPT",
        "colab_type": "code",
        "colab": {
          "base_uri": "https://localhost:8080/",
          "height": 288
        },
        "outputId": "7de7527e-ce17-4bf8-a9d7-1d52f0c2dbf1"
      },
      "source": [
        "#start with overview of data set\n",
        "plant.describe()"
      ],
      "execution_count": 108,
      "outputs": [
        {
          "output_type": "execute_result",
          "data": {
            "text/html": [
              "<div>\n",
              "<style scoped>\n",
              "    .dataframe tbody tr th:only-of-type {\n",
              "        vertical-align: middle;\n",
              "    }\n",
              "\n",
              "    .dataframe tbody tr th {\n",
              "        vertical-align: top;\n",
              "    }\n",
              "\n",
              "    .dataframe thead th {\n",
              "        text-align: right;\n",
              "    }\n",
              "</style>\n",
              "<table border=\"1\" class=\"dataframe\">\n",
              "  <thead>\n",
              "    <tr style=\"text-align: right;\">\n",
              "      <th></th>\n",
              "      <th>Temperature</th>\n",
              "      <th>Exhaust_Vacuum</th>\n",
              "      <th>Ambient_Pressure</th>\n",
              "      <th>Relative_Humidity</th>\n",
              "      <th>Energy_output</th>\n",
              "    </tr>\n",
              "  </thead>\n",
              "  <tbody>\n",
              "    <tr>\n",
              "      <th>count</th>\n",
              "      <td>9568.000000</td>\n",
              "      <td>9568.000000</td>\n",
              "      <td>9568.000000</td>\n",
              "      <td>9568.000000</td>\n",
              "      <td>9568.000000</td>\n",
              "    </tr>\n",
              "    <tr>\n",
              "      <th>mean</th>\n",
              "      <td>19.651231</td>\n",
              "      <td>54.305804</td>\n",
              "      <td>1013.259078</td>\n",
              "      <td>73.308978</td>\n",
              "      <td>454.365009</td>\n",
              "    </tr>\n",
              "    <tr>\n",
              "      <th>std</th>\n",
              "      <td>7.452473</td>\n",
              "      <td>12.707893</td>\n",
              "      <td>5.938784</td>\n",
              "      <td>14.600269</td>\n",
              "      <td>17.066995</td>\n",
              "    </tr>\n",
              "    <tr>\n",
              "      <th>min</th>\n",
              "      <td>1.810000</td>\n",
              "      <td>25.360000</td>\n",
              "      <td>992.890000</td>\n",
              "      <td>25.560000</td>\n",
              "      <td>420.260000</td>\n",
              "    </tr>\n",
              "    <tr>\n",
              "      <th>25%</th>\n",
              "      <td>13.510000</td>\n",
              "      <td>41.740000</td>\n",
              "      <td>1009.100000</td>\n",
              "      <td>63.327500</td>\n",
              "      <td>439.750000</td>\n",
              "    </tr>\n",
              "    <tr>\n",
              "      <th>50%</th>\n",
              "      <td>20.345000</td>\n",
              "      <td>52.080000</td>\n",
              "      <td>1012.940000</td>\n",
              "      <td>74.975000</td>\n",
              "      <td>451.550000</td>\n",
              "    </tr>\n",
              "    <tr>\n",
              "      <th>75%</th>\n",
              "      <td>25.720000</td>\n",
              "      <td>66.540000</td>\n",
              "      <td>1017.260000</td>\n",
              "      <td>84.830000</td>\n",
              "      <td>468.430000</td>\n",
              "    </tr>\n",
              "    <tr>\n",
              "      <th>max</th>\n",
              "      <td>37.110000</td>\n",
              "      <td>81.560000</td>\n",
              "      <td>1033.300000</td>\n",
              "      <td>100.160000</td>\n",
              "      <td>495.760000</td>\n",
              "    </tr>\n",
              "  </tbody>\n",
              "</table>\n",
              "</div>"
            ],
            "text/plain": [
              "       Temperature  Exhaust_Vacuum  ...  Relative_Humidity  Energy_output\n",
              "count  9568.000000     9568.000000  ...        9568.000000    9568.000000\n",
              "mean     19.651231       54.305804  ...          73.308978     454.365009\n",
              "std       7.452473       12.707893  ...          14.600269      17.066995\n",
              "min       1.810000       25.360000  ...          25.560000     420.260000\n",
              "25%      13.510000       41.740000  ...          63.327500     439.750000\n",
              "50%      20.345000       52.080000  ...          74.975000     451.550000\n",
              "75%      25.720000       66.540000  ...          84.830000     468.430000\n",
              "max      37.110000       81.560000  ...         100.160000     495.760000\n",
              "\n",
              "[8 rows x 5 columns]"
            ]
          },
          "metadata": {
            "tags": []
          },
          "execution_count": 108
        }
      ]
    },
    {
      "cell_type": "markdown",
      "metadata": {
        "id": "xSsSRC26_96E",
        "colab_type": "text"
      },
      "source": [
        "making box plot firstly for a simple check of reponse variable- Energy output. "
      ]
    },
    {
      "cell_type": "code",
      "metadata": {
        "id": "7WIqW057rt2b",
        "colab_type": "code",
        "colab": {
          "base_uri": "https://localhost:8080/",
          "height": 624
        },
        "outputId": "3454c324-2318-4475-b31d-bc3b9248f0f8"
      },
      "source": [
        "\n",
        "# make boxplot  \n",
        "# define some attributes\n",
        "plant_t = plant['Temperature']\n",
        "plant_ev = plant['Exhaust_Vacuum']\n",
        "plant_ap = plant['Ambient_Pressure']\n",
        "plant_rh = plant['Relative_Humidity']\n",
        "plant_eo = plant['Energy_output']\n",
        "\n",
        "# define a new figure for plotting\n",
        "plt.figure(figsize=(10,10))\n",
        "\n",
        "# define the plot that will appear on the lefthand side of the subplot:\n",
        "\n",
        "# Matplotlib boxplot  \n",
        "plt.boxplot(x=plant_eo)\n",
        "\n",
        "# give the plot a title\n",
        "plt.title('Electricity Energy Output  Boxplot ')\n",
        "\n"
      ],
      "execution_count": 110,
      "outputs": [
        {
          "output_type": "execute_result",
          "data": {
            "text/plain": [
              "Text(0.5, 1.0, 'Electricity Energy Output  Boxplot ')"
            ]
          },
          "metadata": {
            "tags": []
          },
          "execution_count": 110
        },
        {
          "output_type": "display_data",
          "data": {
            "image/png": "[encoded data removed]",
            "text/plain": [
              "<Figure size 720x720 with 1 Axes>"
            ]
          },
          "metadata": {
            "tags": [],
            "needs_background": "light"
          }
        }
      ]
    },
    {
      "cell_type": "markdown",
      "metadata": {
        "id": "TmCAmPxQSuiB",
        "colab_type": "text"
      },
      "source": [
        "To get a nice overview of other four attributes, plotting multi histogram is much efficient to go."
      ]
    },
    {
      "cell_type": "code",
      "metadata": {
        "id": "_f8mpKlaDrq2",
        "colab_type": "code",
        "colab": {
          "base_uri": "https://localhost:8080/",
          "height": 264
        },
        "outputId": "edcf0c37-f4de-485e-aff0-d19e966dd87c"
      },
      "source": [
        "#histogram for all four explantory variable,qucick check count \n",
        "#plot temperature histogram\n",
        "plt.subplot(221)\n",
        "histogram_T = plant['Temperature'].hist(bins=20)\n",
        "#plot Exhaust_Vacuum histogram\n",
        "plt.subplot(222)\n",
        "histogram_ev = plant['Exhaust_Vacuum'].hist(bins=20)\n",
        "#plot Ambient_Pressure histogram\n",
        "plt.subplot(223)\n",
        "histogram_ap = plant['Ambient_Pressure'].hist(bins=20)\n",
        "#plot Relative_Humidity histogram\n",
        "plt.subplot(224)\n",
        "histogram_rh = plant['Relative_Humidity'].hist(bins=20)"
      ],
      "execution_count": 111,
      "outputs": [
        {
          "output_type": "display_data",
          "data": {
            "image/png": "[encoded data removed]",
            "text/plain": [
              "<Figure size 432x288 with 4 Axes>"
            ]
          },
          "metadata": {
            "tags": [],
            "needs_background": "light"
          }
        }
      ]
    },
    {
      "cell_type": "markdown",
      "metadata": {
        "id": "s3be14dGMbW8",
        "colab_type": "text"
      },
      "source": [
        "These four histogram clearly showed population densities of four attributes, and except ambient pressure, most of them are sort of skewed(Ambient pressure plot looks very normal.). Then we can draw scatterr plot to see some correlation between attributes and electrical energy output."
      ]
    },
    {
      "cell_type": "markdown",
      "metadata": {
        "id": "U0PaZTG34ri3",
        "colab_type": "text"
      },
      "source": [
        "Since there is no big deal of these four attributes, I can then check their relationship with the reponse variable- Energy output."
      ]
    },
    {
      "cell_type": "markdown",
      "metadata": {
        "id": "e2VvVUNM4f0F",
        "colab_type": "text"
      },
      "source": [
        "###apply Scatterplot to checking correlation ###"
      ]
    },
    {
      "cell_type": "code",
      "metadata": {
        "id": "oVOQ63nVBiza",
        "colab_type": "code",
        "colab": {
          "base_uri": "https://localhost:8080/",
          "height": 278
        },
        "outputId": "f29a65cf-d54d-4b92-e8e0-ae63bf8be72f"
      },
      "source": [
        "#print scatterplot for Temperature vs Energy_output\n",
        "scatter_plot = plant.plot.scatter('Temperature','Energy_output',color = 'b', s=1, marker = \"x\")"
      ],
      "execution_count": 112,
      "outputs": [
        {
          "output_type": "display_data",
          "data": {
            "image/png": "[encoded data removed]",
            "text/plain": [
              "<Figure size 432x288 with 1 Axes>"
            ]
          },
          "metadata": {
            "tags": [],
            "needs_background": "light"
          }
        }
      ]
    },
    {
      "cell_type": "code",
      "metadata": {
        "id": "hoLJnYVkKp6S",
        "colab_type": "code",
        "colab": {
          "base_uri": "https://localhost:8080/",
          "height": 280
        },
        "outputId": "08ae8ed0-54d2-4da7-ebf0-924edb223196"
      },
      "source": [
        "#print scatterplot for Exhaust_Vacuum vs Energy_output\n",
        "scatter_plot = plant.plot.scatter('Exhaust_Vacuum','Energy_output',color = 'k', s=1, marker = \"x\")"
      ],
      "execution_count": 113,
      "outputs": [
        {
          "output_type": "display_data",
          "data": {
            "image/png": "[encoded data removed]",
            "text/plain": [
              "<Figure size 432x288 with 1 Axes>"
            ]
          },
          "metadata": {
            "tags": [],
            "needs_background": "light"
          }
        }
      ]
    },
    {
      "cell_type": "code",
      "metadata": {
        "id": "gZwEhvIVKYsz",
        "colab_type": "code",
        "colab": {
          "base_uri": "https://localhost:8080/",
          "height": 280
        },
        "outputId": "c90121a1-9872-4923-b16f-3d2b0ac5da3e"
      },
      "source": [
        "#print scatterplot for Ambient_Pressure vs Energy_output\n",
        "scatter_plot = plant.plot.scatter('Ambient_Pressure','Energy_output',color = 'g', s=1, marker = \"x\")"
      ],
      "execution_count": 114,
      "outputs": [
        {
          "output_type": "display_data",
          "data": {
            "image/png": "[encoded data removed]",
            "text/plain": [
              "<Figure size 432x288 with 1 Axes>"
            ]
          },
          "metadata": {
            "tags": [],
            "needs_background": "light"
          }
        }
      ]
    },
    {
      "cell_type": "code",
      "metadata": {
        "id": "zmxGCckXK7WU",
        "colab_type": "code",
        "colab": {
          "base_uri": "https://localhost:8080/",
          "height": 280
        },
        "outputId": "d0613f16-b98d-4142-de7b-4902243991fd"
      },
      "source": [
        "#print scatterplot for Relative_Humidity vs Energy_output\n",
        "scatter_plot = plant.plot.scatter('Relative_Humidity','Energy_output',color = 'y', s=1, marker = \"x\")"
      ],
      "execution_count": 115,
      "outputs": [
        {
          "output_type": "display_data",
          "data": {
            "image/png": "[encoded data removed]",
            "text/plain": [
              "<Figure size 432x288 with 1 Axes>"
            ]
          },
          "metadata": {
            "tags": [],
            "needs_background": "light"
          }
        }
      ]
    },
    {
      "cell_type": "markdown",
      "metadata": {
        "id": "fr25DuioJZVI",
        "colab_type": "text"
      },
      "source": [
        "Though the scatter plot, we can see a clear negative coorelation between temperature and Energy output. and a clear possitive correlation between Exhaust_Vacuum and Energy_output. However, although there is some positive correlation between Ambient_Pressure and Energy_output. Relative humanity looks like a bad indicator. "
      ]
    },
    {
      "cell_type": "markdown",
      "metadata": {
        "id": "3wUjsmLZUQUM",
        "colab_type": "text"
      },
      "source": [
        "For a safer check, I can use either Correlation Matrix plots or heat maps to see their coorelation values among variables. But in this data set, these four scatterplot is clear enough for showing correlations. I decided not to use other methods. And I want to focus on both clear indicators (Temperature and Exhaust Vacuum.)"
      ]
    },
    {
      "cell_type": "markdown",
      "metadata": {
        "id": "DyiOqUKgsHG9",
        "colab_type": "text"
      },
      "source": [
        "## Part 3 Regression Model Construction & Evaluation: ##\n",
        "Based on this exploratory data analysis, then I built the model for testing.\n",
        "Firstly I would like to see how normal indicator perform like, and then I built model based on good indicators (temperature and Exhaust_Vacuum) from EDA. And finally I built case based on the complete model.\n",
        "\n"
      ]
    },
    {
      "cell_type": "code",
      "metadata": {
        "id": "F7Vnlk7tnGIf",
        "colab_type": "code",
        "colab": {}
      },
      "source": [
        "# set up some library and basic model\n",
        "# load the train_test_split function from the sklearn.model_selection module\n",
        "from sklearn.model_selection import train_test_split\n",
        "\n",
        "\n",
        "#set explanatory variable to X  \n",
        "X = plant[['Temperature','Ambient_Pressure','Relative_Humidity','Exhaust_Vacuum']]\n",
        "# give  variable to y\n",
        "y = plant['Energy_output']\n",
        "# Now split the data into training and testing subsets. \n",
        "# We'll set aside 20% of the data for testing purposes;\n",
        "X_train, X_test, y_train, y_test = train_test_split(X, y, test_size=0.2, random_state=22)"
      ],
      "execution_count": 0,
      "outputs": []
    },
    {
      "cell_type": "markdown",
      "metadata": {
        "id": "zM36NdplptIT",
        "colab_type": "text"
      },
      "source": [
        "Then check the setup"
      ]
    },
    {
      "cell_type": "code",
      "metadata": {
        "id": "JscZlzxVpsIe",
        "colab_type": "code",
        "colab": {
          "base_uri": "https://localhost:8080/",
          "height": 197
        },
        "outputId": "f44a078d-afb2-4622-d9df-c5baf29c4613"
      },
      "source": [
        "# show first five rows of X_train\n",
        "X_train.head()"
      ],
      "execution_count": 126,
      "outputs": [
        {
          "output_type": "execute_result",
          "data": {
            "text/html": [
              "<div>\n",
              "<style scoped>\n",
              "    .dataframe tbody tr th:only-of-type {\n",
              "        vertical-align: middle;\n",
              "    }\n",
              "\n",
              "    .dataframe tbody tr th {\n",
              "        vertical-align: top;\n",
              "    }\n",
              "\n",
              "    .dataframe thead th {\n",
              "        text-align: right;\n",
              "    }\n",
              "</style>\n",
              "<table border=\"1\" class=\"dataframe\">\n",
              "  <thead>\n",
              "    <tr style=\"text-align: right;\">\n",
              "      <th></th>\n",
              "      <th>Temperature</th>\n",
              "      <th>Ambient_Pressure</th>\n",
              "      <th>Relative_Humidity</th>\n",
              "      <th>Exhaust_Vacuum</th>\n",
              "    </tr>\n",
              "  </thead>\n",
              "  <tbody>\n",
              "    <tr>\n",
              "      <th>2711</th>\n",
              "      <td>31.11</td>\n",
              "      <td>1002.37</td>\n",
              "      <td>41.56</td>\n",
              "      <td>69.05</td>\n",
              "    </tr>\n",
              "    <tr>\n",
              "      <th>5538</th>\n",
              "      <td>9.27</td>\n",
              "      <td>1010.79</td>\n",
              "      <td>79.56</td>\n",
              "      <td>39.64</td>\n",
              "    </tr>\n",
              "    <tr>\n",
              "      <th>508</th>\n",
              "      <td>17.35</td>\n",
              "      <td>1014.62</td>\n",
              "      <td>74.16</td>\n",
              "      <td>42.86</td>\n",
              "    </tr>\n",
              "    <tr>\n",
              "      <th>3512</th>\n",
              "      <td>22.94</td>\n",
              "      <td>1008.25</td>\n",
              "      <td>73.45</td>\n",
              "      <td>61.50</td>\n",
              "    </tr>\n",
              "    <tr>\n",
              "      <th>7585</th>\n",
              "      <td>25.14</td>\n",
              "      <td>1017.91</td>\n",
              "      <td>53.30</td>\n",
              "      <td>60.29</td>\n",
              "    </tr>\n",
              "  </tbody>\n",
              "</table>\n",
              "</div>"
            ],
            "text/plain": [
              "      Temperature  Ambient_Pressure  Relative_Humidity  Exhaust_Vacuum\n",
              "2711        31.11           1002.37              41.56           69.05\n",
              "5538         9.27           1010.79              79.56           39.64\n",
              "508         17.35           1014.62              74.16           42.86\n",
              "3512        22.94           1008.25              73.45           61.50\n",
              "7585        25.14           1017.91              53.30           60.29"
            ]
          },
          "metadata": {
            "tags": []
          },
          "execution_count": 126
        }
      ]
    },
    {
      "cell_type": "markdown",
      "metadata": {
        "colab_type": "text",
        "id": "wUx-hkSagblL"
      },
      "source": [
        "## K-fold\n",
        "\n",
        "For the chosen k value, I want to focus on 5 fold and 10 fold for their low bias and modest variance."
      ]
    },
    {
      "cell_type": "markdown",
      "metadata": {
        "colab_type": "text",
        "id": "XEkxExmKiWm5"
      },
      "source": [
        "## Model 1: normal indicator Model (Ambient_Pressure and Relative_Humidity)"
      ]
    },
    {
      "cell_type": "code",
      "metadata": {
        "id": "cXm5JvTqk1gM",
        "colab_type": "code",
        "colab": {}
      },
      "source": [
        "# create a new dataframe containing only the 'Ambient_Pressure and Relative_Humidity variables (our explanatory variables for the linear\n",
        "# regression model)\n",
        "newX_train = X_train[['Ambient_Pressure','Relative_Humidity']].copy()\n",
        "\n"
      ],
      "execution_count": 0,
      "outputs": []
    },
    {
      "cell_type": "code",
      "metadata": {
        "id": "zOR7q2kvs1_J",
        "colab_type": "code",
        "colab": {
          "base_uri": "https://localhost:8080/",
          "height": 70
        },
        "outputId": "da475121-cafb-4e76-d706-56003944083e"
      },
      "source": [
        "\n",
        "# Define a linear regression model\n",
        "model = LinearRegression()\n",
        "\n",
        "# fit the model using 5-fold cross validation\n",
        "scores = cross_val_score(model, newX_train, y_train, cv=5)\n",
        "\n",
        "# print out the accuracy \n",
        "print (scores)\n",
        "\n",
        "# use np.mean to get the average scores\n",
        "print(\"average socre for model1:\",np.mean(scores))\n",
        "print()"
      ],
      "execution_count": 135,
      "outputs": [
        {
          "output_type": "stream",
          "text": [
            "[0.38924932 0.40253871 0.34882946 0.38072653 0.38844573]\n",
            "average socre for model1: 0.3819579488434063\n",
            "\n"
          ],
          "name": "stdout"
        }
      ]
    },
    {
      "cell_type": "markdown",
      "metadata": {
        "id": "Wv-JazlBrlPz",
        "colab_type": "text"
      },
      "source": [
        "Then we try 10 fold"
      ]
    },
    {
      "cell_type": "code",
      "metadata": {
        "id": "cLugNnXbrDR_",
        "colab_type": "code",
        "colab": {
          "base_uri": "https://localhost:8080/",
          "height": 70
        },
        "outputId": "14d8cc47-6356-4d9f-ed0b-edc9278baf58"
      },
      "source": [
        "#K choose 10\n",
        "# Define a linear regression model\n",
        "model = LinearRegression()\n",
        "\n",
        "# fit the model using 10-fold cross validation\n",
        "scores = cross_val_score(model, newX_train, y_train, cv=10)\n",
        "\n",
        "# print out the accuracy metrics derived from the K-fold cross validation process\n",
        "print (scores)\n",
        "\n",
        "# use np.mean to get the average scores\n",
        "print(\"average socre for model1:\",np.mean(scores))"
      ],
      "execution_count": 136,
      "outputs": [
        {
          "output_type": "stream",
          "text": [
            "[0.39371373 0.38431081 0.40051443 0.40404532 0.35237897 0.34676257\n",
            " 0.38378404 0.37698979 0.38844258 0.3868843 ]\n",
            "average socre for model1: 0.38178265110197857\n"
          ],
          "name": "stdout"
        }
      ]
    },
    {
      "cell_type": "markdown",
      "metadata": {
        "id": "eYWjPX_lrxY8",
        "colab_type": "text"
      },
      "source": [
        "Model 1 is definitely not good for a below 40% precision"
      ]
    },
    {
      "cell_type": "markdown",
      "metadata": {
        "colab_type": "text",
        "id": "R_fh5c2tjTBD"
      },
      "source": [
        "## Model 2: good indicator Model (Temperature and Exhaust_Vacuum)"
      ]
    },
    {
      "cell_type": "code",
      "metadata": {
        "id": "u1vV927njSQf",
        "colab_type": "code",
        "colab": {
          "base_uri": "https://localhost:8080/",
          "height": 52
        },
        "outputId": "c77fa5df-723c-4557-8701-1d69edff0943"
      },
      "source": [
        "# Define a linear regression model\n",
        "model = LinearRegression()\n",
        "# create new datafram X2  \n",
        "X2 = X_train[['Temperature', 'Exhaust_Vacuum']]\n",
        "# fit the model using 5-fold cross validation \n",
        "scores = cross_val_score(model, X2, y_train, cv=5)\n",
        "\n",
        "print(scores)\n",
        "# use np.mean to get the average scores\n",
        "print(\"average socre for model2:\",np.mean(scores))\n"
      ],
      "execution_count": 140,
      "outputs": [
        {
          "output_type": "stream",
          "text": [
            "[0.91389525 0.91813401 0.92364316 0.90838977 0.91618594]\n",
            "average socre for model1: 0.9160496254904507\n"
          ],
          "name": "stdout"
        }
      ]
    },
    {
      "cell_type": "markdown",
      "metadata": {
        "colab_type": "text",
        "id": "_-XlPtS8rqcE"
      },
      "source": [
        "Then we try 10 fold"
      ]
    },
    {
      "cell_type": "code",
      "metadata": {
        "id": "WfkGUySQrrfo",
        "colab_type": "code",
        "colab": {
          "base_uri": "https://localhost:8080/",
          "height": 70
        },
        "outputId": "f6dbeccb-4265-480f-f9b9-a1770e2869df"
      },
      "source": [
        "# Define a linear regression model\n",
        "model = LinearRegression()\n",
        "# create new datafram X2\n",
        "X2 = X_train[['Temperature', 'Exhaust_Vacuum']]\n",
        "# fit the model using 5-fold cross validation with variables T and V\n",
        "scores = cross_val_score(model, X2, y_train, cv=10)\n",
        "\n",
        "print(scores)\n",
        "# use np.mean to get the average scores\n",
        "print(\"average socre for model2:\",np.mean(scores))\n"
      ],
      "execution_count": 141,
      "outputs": [
        {
          "output_type": "stream",
          "text": [
            "[0.91336821 0.91449313 0.91481492 0.92137113 0.92783545 0.9198106\n",
            " 0.90759006 0.90916312 0.9185441  0.91365798]\n",
            "average socre for model2: 0.9160648688529409\n"
          ],
          "name": "stdout"
        }
      ]
    },
    {
      "cell_type": "markdown",
      "metadata": {
        "id": "ooau6V7qsYC0",
        "colab_type": "text"
      },
      "source": [
        "Normally, we can call this 91.6% accuracy good enough. \n",
        "Finally, we build a complete model"
      ]
    },
    {
      "cell_type": "markdown",
      "metadata": {
        "colab_type": "text",
        "id": "QqBAJuC-szdx"
      },
      "source": [
        "## Model 3: complete Model "
      ]
    },
    {
      "cell_type": "code",
      "metadata": {
        "id": "2Ej53aF2uaxl",
        "colab_type": "code",
        "colab": {
          "base_uri": "https://localhost:8080/",
          "height": 52
        },
        "outputId": "16fd0e44-3cc7-434f-8e98-0a859ccdc392"
      },
      "source": [
        "# Define a linear regression model\n",
        "model = LinearRegression()\n",
        "# create new datafram X3 for complete model\n",
        "X3 = X_train[['Temperature', 'Exhaust_Vacuum','Ambient_Pressure','Relative_Humidity']]\n",
        "# fit the model using 5-fold cross validation \n",
        "scores = cross_val_score(model, X3, y_train, cv=5)\n",
        "\n",
        "print(scores)\n",
        "# use np.mean to get the average scores\n",
        "print(\"average socre for model3:\",np.mean(scores))\n"
      ],
      "execution_count": 142,
      "outputs": [
        {
          "output_type": "stream",
          "text": [
            "[0.92661916 0.93221968 0.93594576 0.92275381 0.92720045]\n",
            "average socre for model3: 0.9289477726652141\n"
          ],
          "name": "stdout"
        }
      ]
    },
    {
      "cell_type": "markdown",
      "metadata": {
        "colab_type": "text",
        "id": "vDyLa_VcupDu"
      },
      "source": [
        "Then we try 10 fold"
      ]
    },
    {
      "cell_type": "code",
      "metadata": {
        "id": "F2X6kR7suqPi",
        "colab_type": "code",
        "colab": {
          "base_uri": "https://localhost:8080/",
          "height": 70
        },
        "outputId": "77fe9aa7-141a-4cdf-b172-dcb5a4c0b36a"
      },
      "source": [
        "# 10 fold\n",
        "scores = cross_val_score(model, X3, y_train, cv=10)\n",
        "#print accauracy for k fold validation\n",
        "print(scores)\n",
        "# use np.mean to get the average scores\n",
        "print(\"average socre for model3:\",np.mean(scores))\n"
      ],
      "execution_count": 143,
      "outputs": [
        {
          "output_type": "stream",
          "text": [
            "[0.92615809 0.92712542 0.92845487 0.93581368 0.9381034  0.93404428\n",
            " 0.9223903  0.92310602 0.92662276 0.92767234]\n",
            "average socre for model3: 0.9289491154310477\n"
          ],
          "name": "stdout"
        }
      ]
    },
    {
      "cell_type": "markdown",
      "metadata": {
        "id": "dN4ja5EUu1fV",
        "colab_type": "text"
      },
      "source": [
        "Based on that, we can see a bit improvement from model 2 to model 3. The accuracy increased from around 91% to 92.9%"
      ]
    },
    {
      "cell_type": "markdown",
      "metadata": {
        "colab_type": "text",
        "id": "E_Xxp--lsa-l"
      },
      "source": [
        "## Part 4 Conclusion: ##\n",
        "\n",
        "Based on this analysis and the regression model, I can say that temperature and Exhaust_Vacuum are most important indicator relating to Energy output. The model give 91.6% accuracy for K fold cross validation.\n",
        "And Complete Model can give an accuracy of 92.89%.\n",
        "In this size of data"
      ]
    }
  ]
}